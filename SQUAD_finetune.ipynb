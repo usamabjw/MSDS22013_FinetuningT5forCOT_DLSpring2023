{
 "nbformat": 4,
 "nbformat_minor": 0,
 "metadata": {
  "colab": {
   "provenance": [],
   "gpuType": "T4"
  },
  "kernelspec": {
   "name": "python3",
   "display_name": "Python 3"
  },
  "gpuClass": "standard",
  "accelerator": "GPU",
  "widgets": {
   "application/vnd.jupyter.widget-state+json": {
    "095d45a94e904b798ff96e7badccff2b": {
     "model_module": "@jupyter-widgets/controls",
     "model_name": "HBoxModel",
     "model_module_version": "1.5.0",
     "state": {
      "_dom_classes": [],
      "_model_module": "@jupyter-widgets/controls",
      "_model_module_version": "1.5.0",
      "_model_name": "HBoxModel",
      "_view_count": null,
      "_view_module": "@jupyter-widgets/controls",
      "_view_module_version": "1.5.0",
      "_view_name": "HBoxView",
      "box_style": "",
      "children": [
       "IPY_MODEL_fc648d60dab44e078ac5ca6901bf9605",
       "IPY_MODEL_ef3f0bbb01ce440f962974f4cbf9e9bd",
       "IPY_MODEL_3472568dd0ef4cef9ba607e12de6ea5d"
      ],
      "layout": "IPY_MODEL_151c6bbb04c64c9e8a49b71ebc4add0e"
     }
    },
    "fc648d60dab44e078ac5ca6901bf9605": {
     "model_module": "@jupyter-widgets/controls",
     "model_name": "HTMLModel",
     "model_module_version": "1.5.0",
     "state": {
      "_dom_classes": [],
      "_model_module": "@jupyter-widgets/controls",
      "_model_module_version": "1.5.0",
      "_model_name": "HTMLModel",
      "_view_count": null,
      "_view_module": "@jupyter-widgets/controls",
      "_view_module_version": "1.5.0",
      "_view_name": "HTMLView",
      "description": "",
      "description_tooltip": null,
      "layout": "IPY_MODEL_13d73dfbe5844674ae8f099f37decfac",
      "placeholder": "​",
      "style": "IPY_MODEL_c7d2ae22a1f446319d9a71eb10b24b7e",
      "value": "Downloading (…)lve/main/config.json: 100%"
     }
    },
    "ef3f0bbb01ce440f962974f4cbf9e9bd": {
     "model_module": "@jupyter-widgets/controls",
     "model_name": "FloatProgressModel",
     "model_module_version": "1.5.0",
     "state": {
      "_dom_classes": [],
      "_model_module": "@jupyter-widgets/controls",
      "_model_module_version": "1.5.0",
      "_model_name": "FloatProgressModel",
      "_view_count": null,
      "_view_module": "@jupyter-widgets/controls",
      "_view_module_version": "1.5.0",
      "_view_name": "ProgressView",
      "bar_style": "success",
      "description": "",
      "description_tooltip": null,
      "layout": "IPY_MODEL_07e593458638424baf1543d59018afad",
      "max": 1208,
      "min": 0,
      "orientation": "horizontal",
      "style": "IPY_MODEL_edbded8f6954434fa75c7d12069203e8",
      "value": 1208
     }
    },
    "3472568dd0ef4cef9ba607e12de6ea5d": {
     "model_module": "@jupyter-widgets/controls",
     "model_name": "HTMLModel",
     "model_module_version": "1.5.0",
     "state": {
      "_dom_classes": [],
      "_model_module": "@jupyter-widgets/controls",
      "_model_module_version": "1.5.0",
      "_model_name": "HTMLModel",
      "_view_count": null,
      "_view_module": "@jupyter-widgets/controls",
      "_view_module_version": "1.5.0",
      "_view_name": "HTMLView",
      "description": "",
      "description_tooltip": null,
      "layout": "IPY_MODEL_49c77ba817144d2aa40ee75031f31191",
      "placeholder": "​",
      "style": "IPY_MODEL_cfa83f222a8b4a0e8a09284315e4b281",
      "value": " 1.21k/1.21k [00:00&lt;00:00, 45.0kB/s]"
     }
    },
    "151c6bbb04c64c9e8a49b71ebc4add0e": {
     "model_module": "@jupyter-widgets/base",
     "model_name": "LayoutModel",
     "model_module_version": "1.2.0",
     "state": {
      "_model_module": "@jupyter-widgets/base",
      "_model_module_version": "1.2.0",
      "_model_name": "LayoutModel",
      "_view_count": null,
      "_view_module": "@jupyter-widgets/base",
      "_view_module_version": "1.2.0",
      "_view_name": "LayoutView",
      "align_content": null,
      "align_items": null,
      "align_self": null,
      "border": null,
      "bottom": null,
      "display": null,
      "flex": null,
      "flex_flow": null,
      "grid_area": null,
      "grid_auto_columns": null,
      "grid_auto_flow": null,
      "grid_auto_rows": null,
      "grid_column": null,
      "grid_gap": null,
      "grid_row": null,
      "grid_template_areas": null,
      "grid_template_columns": null,
      "grid_template_rows": null,
      "height": null,
      "justify_content": null,
      "justify_items": null,
      "left": null,
      "margin": null,
      "max_height": null,
      "max_width": null,
      "min_height": null,
      "min_width": null,
      "object_fit": null,
      "object_position": null,
      "order": null,
      "overflow": null,
      "overflow_x": null,
      "overflow_y": null,
      "padding": null,
      "right": null,
      "top": null,
      "visibility": null,
      "width": null
     }
    },
    "13d73dfbe5844674ae8f099f37decfac": {
     "model_module": "@jupyter-widgets/base",
     "model_name": "LayoutModel",
     "model_module_version": "1.2.0",
     "state": {
      "_model_module": "@jupyter-widgets/base",
      "_model_module_version": "1.2.0",
      "_model_name": "LayoutModel",
      "_view_count": null,
      "_view_module": "@jupyter-widgets/base",
      "_view_module_version": "1.2.0",
      "_view_name": "LayoutView",
      "align_content": null,
      "align_items": null,
      "align_self": null,
      "border": null,
      "bottom": null,
      "display": null,
      "flex": null,
      "flex_flow": null,
      "grid_area": null,
      "grid_auto_columns": null,
      "grid_auto_flow": null,
      "grid_auto_rows": null,
      "grid_column": null,
      "grid_gap": null,
      "grid_row": null,
      "grid_template_areas": null,
      "grid_template_columns": null,
      "grid_template_rows": null,
      "height": null,
      "justify_content": null,
      "justify_items": null,
      "left": null,
      "margin": null,
      "max_height": null,
      "max_width": null,
      "min_height": null,
      "min_width": null,
      "object_fit": null,
      "object_position": null,
      "order": null,
      "overflow": null,
      "overflow_x": null,
      "overflow_y": null,
      "padding": null,
      "right": null,
      "top": null,
      "visibility": null,
      "width": null
     }
    },
    "c7d2ae22a1f446319d9a71eb10b24b7e": {
     "model_module": "@jupyter-widgets/controls",
     "model_name": "DescriptionStyleModel",
     "model_module_version": "1.5.0",
     "state": {
      "_model_module": "@jupyter-widgets/controls",
      "_model_module_version": "1.5.0",
      "_model_name": "DescriptionStyleModel",
      "_view_count": null,
      "_view_module": "@jupyter-widgets/base",
      "_view_module_version": "1.2.0",
      "_view_name": "StyleView",
      "description_width": ""
     }
    },
    "07e593458638424baf1543d59018afad": {
     "model_module": "@jupyter-widgets/base",
     "model_name": "LayoutModel",
     "model_module_version": "1.2.0",
     "state": {
      "_model_module": "@jupyter-widgets/base",
      "_model_module_version": "1.2.0",
      "_model_name": "LayoutModel",
      "_view_count": null,
      "_view_module": "@jupyter-widgets/base",
      "_view_module_version": "1.2.0",
      "_view_name": "LayoutView",
      "align_content": null,
      "align_items": null,
      "align_self": null,
      "border": null,
      "bottom": null,
      "display": null,
      "flex": null,
      "flex_flow": null,
      "grid_area": null,
      "grid_auto_columns": null,
      "grid_auto_flow": null,
      "grid_auto_rows": null,
      "grid_column": null,
      "grid_gap": null,
      "grid_row": null,
      "grid_template_areas": null,
      "grid_template_columns": null,
      "grid_template_rows": null,
      "height": null,
      "justify_content": null,
      "justify_items": null,
      "left": null,
      "margin": null,
      "max_height": null,
      "max_width": null,
      "min_height": null,
      "min_width": null,
      "object_fit": null,
      "object_position": null,
      "order": null,
      "overflow": null,
      "overflow_x": null,
      "overflow_y": null,
      "padding": null,
      "right": null,
      "top": null,
      "visibility": null,
      "width": null
     }
    },
    "edbded8f6954434fa75c7d12069203e8": {
     "model_module": "@jupyter-widgets/controls",
     "model_name": "ProgressStyleModel",
     "model_module_version": "1.5.0",
     "state": {
      "_model_module": "@jupyter-widgets/controls",
      "_model_module_version": "1.5.0",
      "_model_name": "ProgressStyleModel",
      "_view_count": null,
      "_view_module": "@jupyter-widgets/base",
      "_view_module_version": "1.2.0",
      "_view_name": "StyleView",
      "bar_color": null,
      "description_width": ""
     }
    },
    "49c77ba817144d2aa40ee75031f31191": {
     "model_module": "@jupyter-widgets/base",
     "model_name": "LayoutModel",
     "model_module_version": "1.2.0",
     "state": {
      "_model_module": "@jupyter-widgets/base",
      "_model_module_version": "1.2.0",
      "_model_name": "LayoutModel",
      "_view_count": null,
      "_view_module": "@jupyter-widgets/base",
      "_view_module_version": "1.2.0",
      "_view_name": "LayoutView",
      "align_content": null,
      "align_items": null,
      "align_self": null,
      "border": null,
      "bottom": null,
      "display": null,
      "flex": null,
      "flex_flow": null,
      "grid_area": null,
      "grid_auto_columns": null,
      "grid_auto_flow": null,
      "grid_auto_rows": null,
      "grid_column": null,
      "grid_gap": null,
      "grid_row": null,
      "grid_template_areas": null,
      "grid_template_columns": null,
      "grid_template_rows": null,
      "height": null,
      "justify_content": null,
      "justify_items": null,
      "left": null,
      "margin": null,
      "max_height": null,
      "max_width": null,
      "min_height": null,
      "min_width": null,
      "object_fit": null,
      "object_position": null,
      "order": null,
      "overflow": null,
      "overflow_x": null,
      "overflow_y": null,
      "padding": null,
      "right": null,
      "top": null,
      "visibility": null,
      "width": null
     }
    },
    "cfa83f222a8b4a0e8a09284315e4b281": {
     "model_module": "@jupyter-widgets/controls",
     "model_name": "DescriptionStyleModel",
     "model_module_version": "1.5.0",
     "state": {
      "_model_module": "@jupyter-widgets/controls",
      "_model_module_version": "1.5.0",
      "_model_name": "DescriptionStyleModel",
      "_view_count": null,
      "_view_module": "@jupyter-widgets/base",
      "_view_module_version": "1.2.0",
      "_view_name": "StyleView",
      "description_width": ""
     }
    },
    "eb8dfe1c15964dcaa62d3f1447cc31e2": {
     "model_module": "@jupyter-widgets/controls",
     "model_name": "HBoxModel",
     "model_module_version": "1.5.0",
     "state": {
      "_dom_classes": [],
      "_model_module": "@jupyter-widgets/controls",
      "_model_module_version": "1.5.0",
      "_model_name": "HBoxModel",
      "_view_count": null,
      "_view_module": "@jupyter-widgets/controls",
      "_view_module_version": "1.5.0",
      "_view_name": "HBoxView",
      "box_style": "",
      "children": [
       "IPY_MODEL_69a0496d95574e3f8e7d765f4b37e672",
       "IPY_MODEL_7284a03283f041358336ce85e386d680",
       "IPY_MODEL_b6a96bb353754700ac64c4758db3b717"
      ],
      "layout": "IPY_MODEL_72099bf6bb3041b392eeb07a8e52473d"
     }
    },
    "69a0496d95574e3f8e7d765f4b37e672": {
     "model_module": "@jupyter-widgets/controls",
     "model_name": "HTMLModel",
     "model_module_version": "1.5.0",
     "state": {
      "_dom_classes": [],
      "_model_module": "@jupyter-widgets/controls",
      "_model_module_version": "1.5.0",
      "_model_name": "HTMLModel",
      "_view_count": null,
      "_view_module": "@jupyter-widgets/controls",
      "_view_module_version": "1.5.0",
      "_view_name": "HTMLView",
      "description": "",
      "description_tooltip": null,
      "layout": "IPY_MODEL_b38194d90beb4ee3bae2cf14d90452ce",
      "placeholder": "​",
      "style": "IPY_MODEL_03df1245870043eb8e75883534ddb72b",
      "value": "Downloading (…)ve/main/spiece.model: 100%"
     }
    },
    "7284a03283f041358336ce85e386d680": {
     "model_module": "@jupyter-widgets/controls",
     "model_name": "FloatProgressModel",
     "model_module_version": "1.5.0",
     "state": {
      "_dom_classes": [],
      "_model_module": "@jupyter-widgets/controls",
      "_model_module_version": "1.5.0",
      "_model_name": "FloatProgressModel",
      "_view_count": null,
      "_view_module": "@jupyter-widgets/controls",
      "_view_module_version": "1.5.0",
      "_view_name": "ProgressView",
      "bar_style": "success",
      "description": "",
      "description_tooltip": null,
      "layout": "IPY_MODEL_065881c9cb3a4195ac18729af7852780",
      "max": 791656,
      "min": 0,
      "orientation": "horizontal",
      "style": "IPY_MODEL_e419241566194bd9a6eddfad07a24fb0",
      "value": 791656
     }
    },
    "b6a96bb353754700ac64c4758db3b717": {
     "model_module": "@jupyter-widgets/controls",
     "model_name": "HTMLModel",
     "model_module_version": "1.5.0",
     "state": {
      "_dom_classes": [],
      "_model_module": "@jupyter-widgets/controls",
      "_model_module_version": "1.5.0",
      "_model_name": "HTMLModel",
      "_view_count": null,
      "_view_module": "@jupyter-widgets/controls",
      "_view_module_version": "1.5.0",
      "_view_name": "HTMLView",
      "description": "",
      "description_tooltip": null,
      "layout": "IPY_MODEL_4b46066fefde44368949ae2840dedff6",
      "placeholder": "​",
      "style": "IPY_MODEL_05c4645d26dc4cfdaca7b79c0f620e51",
      "value": " 792k/792k [00:00&lt;00:00, 943kB/s]"
     }
    },
    "72099bf6bb3041b392eeb07a8e52473d": {
     "model_module": "@jupyter-widgets/base",
     "model_name": "LayoutModel",
     "model_module_version": "1.2.0",
     "state": {
      "_model_module": "@jupyter-widgets/base",
      "_model_module_version": "1.2.0",
      "_model_name": "LayoutModel",
      "_view_count": null,
      "_view_module": "@jupyter-widgets/base",
      "_view_module_version": "1.2.0",
      "_view_name": "LayoutView",
      "align_content": null,
      "align_items": null,
      "align_self": null,
      "border": null,
      "bottom": null,
      "display": null,
      "flex": null,
      "flex_flow": null,
      "grid_area": null,
      "grid_auto_columns": null,
      "grid_auto_flow": null,
      "grid_auto_rows": null,
      "grid_column": null,
      "grid_gap": null,
      "grid_row": null,
      "grid_template_areas": null,
      "grid_template_columns": null,
      "grid_template_rows": null,
      "height": null,
      "justify_content": null,
      "justify_items": null,
      "left": null,
      "margin": null,
      "max_height": null,
      "max_width": null,
      "min_height": null,
      "min_width": null,
      "object_fit": null,
      "object_position": null,
      "order": null,
      "overflow": null,
      "overflow_x": null,
      "overflow_y": null,
      "padding": null,
      "right": null,
      "top": null,
      "visibility": null,
      "width": null
     }
    },
    "b38194d90beb4ee3bae2cf14d90452ce": {
     "model_module": "@jupyter-widgets/base",
     "model_name": "LayoutModel",
     "model_module_version": "1.2.0",
     "state": {
      "_model_module": "@jupyter-widgets/base",
      "_model_module_version": "1.2.0",
      "_model_name": "LayoutModel",
      "_view_count": null,
      "_view_module": "@jupyter-widgets/base",
      "_view_module_version": "1.2.0",
      "_view_name": "LayoutView",
      "align_content": null,
      "align_items": null,
      "align_self": null,
      "border": null,
      "bottom": null,
      "display": null,
      "flex": null,
      "flex_flow": null,
      "grid_area": null,
      "grid_auto_columns": null,
      "grid_auto_flow": null,
      "grid_auto_rows": null,
      "grid_column": null,
      "grid_gap": null,
      "grid_row": null,
      "grid_template_areas": null,
      "grid_template_columns": null,
      "grid_template_rows": null,
      "height": null,
      "justify_content": null,
      "justify_items": null,
      "left": null,
      "margin": null,
      "max_height": null,
      "max_width": null,
      "min_height": null,
      "min_width": null,
      "object_fit": null,
      "object_position": null,
      "order": null,
      "overflow": null,
      "overflow_x": null,
      "overflow_y": null,
      "padding": null,
      "right": null,
      "top": null,
      "visibility": null,
      "width": null
     }
    },
    "03df1245870043eb8e75883534ddb72b": {
     "model_module": "@jupyter-widgets/controls",
     "model_name": "DescriptionStyleModel",
     "model_module_version": "1.5.0",
     "state": {
      "_model_module": "@jupyter-widgets/controls",
      "_model_module_version": "1.5.0",
      "_model_name": "DescriptionStyleModel",
      "_view_count": null,
      "_view_module": "@jupyter-widgets/base",
      "_view_module_version": "1.2.0",
      "_view_name": "StyleView",
      "description_width": ""
     }
    },
    "065881c9cb3a4195ac18729af7852780": {
     "model_module": "@jupyter-widgets/base",
     "model_name": "LayoutModel",
     "model_module_version": "1.2.0",
     "state": {
      "_model_module": "@jupyter-widgets/base",
      "_model_module_version": "1.2.0",
      "_model_name": "LayoutModel",
      "_view_count": null,
      "_view_module": "@jupyter-widgets/base",
      "_view_module_version": "1.2.0",
      "_view_name": "LayoutView",
      "align_content": null,
      "align_items": null,
      "align_self": null,
      "border": null,
      "bottom": null,
      "display": null,
      "flex": null,
      "flex_flow": null,
      "grid_area": null,
      "grid_auto_columns": null,
      "grid_auto_flow": null,
      "grid_auto_rows": null,
      "grid_column": null,
      "grid_gap": null,
      "grid_row": null,
      "grid_template_areas": null,
      "grid_template_columns": null,
      "grid_template_rows": null,
      "height": null,
      "justify_content": null,
      "justify_items": null,
      "left": null,
      "margin": null,
      "max_height": null,
      "max_width": null,
      "min_height": null,
      "min_width": null,
      "object_fit": null,
      "object_position": null,
      "order": null,
      "overflow": null,
      "overflow_x": null,
      "overflow_y": null,
      "padding": null,
      "right": null,
      "top": null,
      "visibility": null,
      "width": null
     }
    },
    "e419241566194bd9a6eddfad07a24fb0": {
     "model_module": "@jupyter-widgets/controls",
     "model_name": "ProgressStyleModel",
     "model_module_version": "1.5.0",
     "state": {
      "_model_module": "@jupyter-widgets/controls",
      "_model_module_version": "1.5.0",
      "_model_name": "ProgressStyleModel",
      "_view_count": null,
      "_view_module": "@jupyter-widgets/base",
      "_view_module_version": "1.2.0",
      "_view_name": "StyleView",
      "bar_color": null,
      "description_width": ""
     }
    },
    "4b46066fefde44368949ae2840dedff6": {
     "model_module": "@jupyter-widgets/base",
     "model_name": "LayoutModel",
     "model_module_version": "1.2.0",
     "state": {
      "_model_module": "@jupyter-widgets/base",
      "_model_module_version": "1.2.0",
      "_model_name": "LayoutModel",
      "_view_count": null,
      "_view_module": "@jupyter-widgets/base",
      "_view_module_version": "1.2.0",
      "_view_name": "LayoutView",
      "align_content": null,
      "align_items": null,
      "align_self": null,
      "border": null,
      "bottom": null,
      "display": null,
      "flex": null,
      "flex_flow": null,
      "grid_area": null,
      "grid_auto_columns": null,
      "grid_auto_flow": null,
      "grid_auto_rows": null,
      "grid_column": null,
      "grid_gap": null,
      "grid_row": null,
      "grid_template_areas": null,
      "grid_template_columns": null,
      "grid_template_rows": null,
      "height": null,
      "justify_content": null,
      "justify_items": null,
      "left": null,
      "margin": null,
      "max_height": null,
      "max_width": null,
      "min_height": null,
      "min_width": null,
      "object_fit": null,
      "object_position": null,
      "order": null,
      "overflow": null,
      "overflow_x": null,
      "overflow_y": null,
      "padding": null,
      "right": null,
      "top": null,
      "visibility": null,
      "width": null
     }
    },
    "05c4645d26dc4cfdaca7b79c0f620e51": {
     "model_module": "@jupyter-widgets/controls",
     "model_name": "DescriptionStyleModel",
     "model_module_version": "1.5.0",
     "state": {
      "_model_module": "@jupyter-widgets/controls",
      "_model_module_version": "1.5.0",
      "_model_name": "DescriptionStyleModel",
      "_view_count": null,
      "_view_module": "@jupyter-widgets/base",
      "_view_module_version": "1.2.0",
      "_view_name": "StyleView",
      "description_width": ""
     }
    },
    "434cf186868e48c1b1a5bedf5fa817bf": {
     "model_module": "@jupyter-widgets/controls",
     "model_name": "HBoxModel",
     "model_module_version": "1.5.0",
     "state": {
      "_dom_classes": [],
      "_model_module": "@jupyter-widgets/controls",
      "_model_module_version": "1.5.0",
      "_model_name": "HBoxModel",
      "_view_count": null,
      "_view_module": "@jupyter-widgets/controls",
      "_view_module_version": "1.5.0",
      "_view_name": "HBoxView",
      "box_style": "",
      "children": [
       "IPY_MODEL_8062cab760d94560ac17fd6496217f6c",
       "IPY_MODEL_46344e9fea25455395ae2c50c7c72e6a",
       "IPY_MODEL_12bfaf87e6f440978120a65948b798d4"
      ],
      "layout": "IPY_MODEL_2ad9ca909b6f418aae41c3580325db8b"
     }
    },
    "8062cab760d94560ac17fd6496217f6c": {
     "model_module": "@jupyter-widgets/controls",
     "model_name": "HTMLModel",
     "model_module_version": "1.5.0",
     "state": {
      "_dom_classes": [],
      "_model_module": "@jupyter-widgets/controls",
      "_model_module_version": "1.5.0",
      "_model_name": "HTMLModel",
      "_view_count": null,
      "_view_module": "@jupyter-widgets/controls",
      "_view_module_version": "1.5.0",
      "_view_name": "HTMLView",
      "description": "",
      "description_tooltip": null,
      "layout": "IPY_MODEL_092d6fa4d085471583a83ae5801845d0",
      "placeholder": "​",
      "style": "IPY_MODEL_3fba2a27aaca4557b17ab9911adce596",
      "value": "Downloading (…)/main/tokenizer.json: 100%"
     }
    },
    "46344e9fea25455395ae2c50c7c72e6a": {
     "model_module": "@jupyter-widgets/controls",
     "model_name": "FloatProgressModel",
     "model_module_version": "1.5.0",
     "state": {
      "_dom_classes": [],
      "_model_module": "@jupyter-widgets/controls",
      "_model_module_version": "1.5.0",
      "_model_name": "FloatProgressModel",
      "_view_count": null,
      "_view_module": "@jupyter-widgets/controls",
      "_view_module_version": "1.5.0",
      "_view_name": "ProgressView",
      "bar_style": "success",
      "description": "",
      "description_tooltip": null,
      "layout": "IPY_MODEL_fe975a2e744a49418f0516e5569c0d0d",
      "max": 1389353,
      "min": 0,
      "orientation": "horizontal",
      "style": "IPY_MODEL_476e44a661fa4f87b50a65113752eca3",
      "value": 1389353
     }
    },
    "12bfaf87e6f440978120a65948b798d4": {
     "model_module": "@jupyter-widgets/controls",
     "model_name": "HTMLModel",
     "model_module_version": "1.5.0",
     "state": {
      "_dom_classes": [],
      "_model_module": "@jupyter-widgets/controls",
      "_model_module_version": "1.5.0",
      "_model_name": "HTMLModel",
      "_view_count": null,
      "_view_module": "@jupyter-widgets/controls",
      "_view_module_version": "1.5.0",
      "_view_name": "HTMLView",
      "description": "",
      "description_tooltip": null,
      "layout": "IPY_MODEL_1bd93d8535ce4f9da66a3ff0e16ef94b",
      "placeholder": "​",
      "style": "IPY_MODEL_2956c408e2cc4addbef11ca12b45a746",
      "value": " 1.39M/1.39M [00:00&lt;00:00, 5.48MB/s]"
     }
    },
    "2ad9ca909b6f418aae41c3580325db8b": {
     "model_module": "@jupyter-widgets/base",
     "model_name": "LayoutModel",
     "model_module_version": "1.2.0",
     "state": {
      "_model_module": "@jupyter-widgets/base",
      "_model_module_version": "1.2.0",
      "_model_name": "LayoutModel",
      "_view_count": null,
      "_view_module": "@jupyter-widgets/base",
      "_view_module_version": "1.2.0",
      "_view_name": "LayoutView",
      "align_content": null,
      "align_items": null,
      "align_self": null,
      "border": null,
      "bottom": null,
      "display": null,
      "flex": null,
      "flex_flow": null,
      "grid_area": null,
      "grid_auto_columns": null,
      "grid_auto_flow": null,
      "grid_auto_rows": null,
      "grid_column": null,
      "grid_gap": null,
      "grid_row": null,
      "grid_template_areas": null,
      "grid_template_columns": null,
      "grid_template_rows": null,
      "height": null,
      "justify_content": null,
      "justify_items": null,
      "left": null,
      "margin": null,
      "max_height": null,
      "max_width": null,
      "min_height": null,
      "min_width": null,
      "object_fit": null,
      "object_position": null,
      "order": null,
      "overflow": null,
      "overflow_x": null,
      "overflow_y": null,
      "padding": null,
      "right": null,
      "top": null,
      "visibility": null,
      "width": null
     }
    },
    "092d6fa4d085471583a83ae5801845d0": {
     "model_module": "@jupyter-widgets/base",
     "model_name": "LayoutModel",
     "model_module_version": "1.2.0",
     "state": {
      "_model_module": "@jupyter-widgets/base",
      "_model_module_version": "1.2.0",
      "_model_name": "LayoutModel",
      "_view_count": null,
      "_view_module": "@jupyter-widgets/base",
      "_view_module_version": "1.2.0",
      "_view_name": "LayoutView",
      "align_content": null,
      "align_items": null,
      "align_self": null,
      "border": null,
      "bottom": null,
      "display": null,
      "flex": null,
      "flex_flow": null,
      "grid_area": null,
      "grid_auto_columns": null,
      "grid_auto_flow": null,
      "grid_auto_rows": null,
      "grid_column": null,
      "grid_gap": null,
      "grid_row": null,
      "grid_template_areas": null,
      "grid_template_columns": null,
      "grid_template_rows": null,
      "height": null,
      "justify_content": null,
      "justify_items": null,
      "left": null,
      "margin": null,
      "max_height": null,
      "max_width": null,
      "min_height": null,
      "min_width": null,
      "object_fit": null,
      "object_position": null,
      "order": null,
      "overflow": null,
      "overflow_x": null,
      "overflow_y": null,
      "padding": null,
      "right": null,
      "top": null,
      "visibility": null,
      "width": null
     }
    },
    "3fba2a27aaca4557b17ab9911adce596": {
     "model_module": "@jupyter-widgets/controls",
     "model_name": "DescriptionStyleModel",
     "model_module_version": "1.5.0",
     "state": {
      "_model_module": "@jupyter-widgets/controls",
      "_model_module_version": "1.5.0",
      "_model_name": "DescriptionStyleModel",
      "_view_count": null,
      "_view_module": "@jupyter-widgets/base",
      "_view_module_version": "1.2.0",
      "_view_name": "StyleView",
      "description_width": ""
     }
    },
    "fe975a2e744a49418f0516e5569c0d0d": {
     "model_module": "@jupyter-widgets/base",
     "model_name": "LayoutModel",
     "model_module_version": "1.2.0",
     "state": {
      "_model_module": "@jupyter-widgets/base",
      "_model_module_version": "1.2.0",
      "_model_name": "LayoutModel",
      "_view_count": null,
      "_view_module": "@jupyter-widgets/base",
      "_view_module_version": "1.2.0",
      "_view_name": "LayoutView",
      "align_content": null,
      "align_items": null,
      "align_self": null,
      "border": null,
      "bottom": null,
      "display": null,
      "flex": null,
      "flex_flow": null,
      "grid_area": null,
      "grid_auto_columns": null,
      "grid_auto_flow": null,
      "grid_auto_rows": null,
      "grid_column": null,
      "grid_gap": null,
      "grid_row": null,
      "grid_template_areas": null,
      "grid_template_columns": null,
      "grid_template_rows": null,
      "height": null,
      "justify_content": null,
      "justify_items": null,
      "left": null,
      "margin": null,
      "max_height": null,
      "max_width": null,
      "min_height": null,
      "min_width": null,
      "object_fit": null,
      "object_position": null,
      "order": null,
      "overflow": null,
      "overflow_x": null,
      "overflow_y": null,
      "padding": null,
      "right": null,
      "top": null,
      "visibility": null,
      "width": null
     }
    },
    "476e44a661fa4f87b50a65113752eca3": {
     "model_module": "@jupyter-widgets/controls",
     "model_name": "ProgressStyleModel",
     "model_module_version": "1.5.0",
     "state": {
      "_model_module": "@jupyter-widgets/controls",
      "_model_module_version": "1.5.0",
      "_model_name": "ProgressStyleModel",
      "_view_count": null,
      "_view_module": "@jupyter-widgets/base",
      "_view_module_version": "1.2.0",
      "_view_name": "StyleView",
      "bar_color": null,
      "description_width": ""
     }
    },
    "1bd93d8535ce4f9da66a3ff0e16ef94b": {
     "model_module": "@jupyter-widgets/base",
     "model_name": "LayoutModel",
     "model_module_version": "1.2.0",
     "state": {
      "_model_module": "@jupyter-widgets/base",
      "_model_module_version": "1.2.0",
      "_model_name": "LayoutModel",
      "_view_count": null,
      "_view_module": "@jupyter-widgets/base",
      "_view_module_version": "1.2.0",
      "_view_name": "LayoutView",
      "align_content": null,
      "align_items": null,
      "align_self": null,
      "border": null,
      "bottom": null,
      "display": null,
      "flex": null,
      "flex_flow": null,
      "grid_area": null,
      "grid_auto_columns": null,
      "grid_auto_flow": null,
      "grid_auto_rows": null,
      "grid_column": null,
      "grid_gap": null,
      "grid_row": null,
      "grid_template_areas": null,
      "grid_template_columns": null,
      "grid_template_rows": null,
      "height": null,
      "justify_content": null,
      "justify_items": null,
      "left": null,
      "margin": null,
      "max_height": null,
      "max_width": null,
      "min_height": null,
      "min_width": null,
      "object_fit": null,
      "object_position": null,
      "order": null,
      "overflow": null,
      "overflow_x": null,
      "overflow_y": null,
      "padding": null,
      "right": null,
      "top": null,
      "visibility": null,
      "width": null
     }
    },
    "2956c408e2cc4addbef11ca12b45a746": {
     "model_module": "@jupyter-widgets/controls",
     "model_name": "DescriptionStyleModel",
     "model_module_version": "1.5.0",
     "state": {
      "_model_module": "@jupyter-widgets/controls",
      "_model_module_version": "1.5.0",
      "_model_name": "DescriptionStyleModel",
      "_view_count": null,
      "_view_module": "@jupyter-widgets/base",
      "_view_module_version": "1.2.0",
      "_view_name": "StyleView",
      "description_width": ""
     }
    },
    "5b8f536035174ca2b42d4405997bde03": {
     "model_module": "@jupyter-widgets/controls",
     "model_name": "HBoxModel",
     "model_module_version": "1.5.0",
     "state": {
      "_dom_classes": [],
      "_model_module": "@jupyter-widgets/controls",
      "_model_module_version": "1.5.0",
      "_model_name": "HBoxModel",
      "_view_count": null,
      "_view_module": "@jupyter-widgets/controls",
      "_view_module_version": "1.5.0",
      "_view_name": "HBoxView",
      "box_style": "",
      "children": [
       "IPY_MODEL_39e72cd82e8e4432b4ee0375d9a03f94",
       "IPY_MODEL_d4f9418e266646b8a1d02d101c71a517",
       "IPY_MODEL_24513d58acad4deb817af6a289906404"
      ],
      "layout": "IPY_MODEL_f3057993999843608dbcf1a8deda9329"
     }
    },
    "39e72cd82e8e4432b4ee0375d9a03f94": {
     "model_module": "@jupyter-widgets/controls",
     "model_name": "HTMLModel",
     "model_module_version": "1.5.0",
     "state": {
      "_dom_classes": [],
      "_model_module": "@jupyter-widgets/controls",
      "_model_module_version": "1.5.0",
      "_model_name": "HTMLModel",
      "_view_count": null,
      "_view_module": "@jupyter-widgets/controls",
      "_view_module_version": "1.5.0",
      "_view_name": "HTMLView",
      "description": "",
      "description_tooltip": null,
      "layout": "IPY_MODEL_91b0c5dff93b45d0800e1e72e2714af5",
      "placeholder": "​",
      "style": "IPY_MODEL_1f13b6665f4a418ab277b947457c14b0",
      "value": "Downloading (…)ve/main/spiece.model: 100%"
     }
    },
    "d4f9418e266646b8a1d02d101c71a517": {
     "model_module": "@jupyter-widgets/controls",
     "model_name": "FloatProgressModel",
     "model_module_version": "1.5.0",
     "state": {
      "_dom_classes": [],
      "_model_module": "@jupyter-widgets/controls",
      "_model_module_version": "1.5.0",
      "_model_name": "FloatProgressModel",
      "_view_count": null,
      "_view_module": "@jupyter-widgets/controls",
      "_view_module_version": "1.5.0",
      "_view_name": "ProgressView",
      "bar_style": "success",
      "description": "",
      "description_tooltip": null,
      "layout": "IPY_MODEL_5ec9ab1107af49dc891e508878346e04",
      "max": 791656,
      "min": 0,
      "orientation": "horizontal",
      "style": "IPY_MODEL_eac07a31f24043a6a42691b4cff71aee",
      "value": 791656
     }
    },
    "24513d58acad4deb817af6a289906404": {
     "model_module": "@jupyter-widgets/controls",
     "model_name": "HTMLModel",
     "model_module_version": "1.5.0",
     "state": {
      "_dom_classes": [],
      "_model_module": "@jupyter-widgets/controls",
      "_model_module_version": "1.5.0",
      "_model_name": "HTMLModel",
      "_view_count": null,
      "_view_module": "@jupyter-widgets/controls",
      "_view_module_version": "1.5.0",
      "_view_name": "HTMLView",
      "description": "",
      "description_tooltip": null,
      "layout": "IPY_MODEL_85747c3fe1e542e4a841489191cb9f49",
      "placeholder": "​",
      "style": "IPY_MODEL_2bec35b053ad4134b0b4e43ddc923933",
      "value": " 792k/792k [00:00&lt;00:00, 944kB/s]"
     }
    },
    "f3057993999843608dbcf1a8deda9329": {
     "model_module": "@jupyter-widgets/base",
     "model_name": "LayoutModel",
     "model_module_version": "1.2.0",
     "state": {
      "_model_module": "@jupyter-widgets/base",
      "_model_module_version": "1.2.0",
      "_model_name": "LayoutModel",
      "_view_count": null,
      "_view_module": "@jupyter-widgets/base",
      "_view_module_version": "1.2.0",
      "_view_name": "LayoutView",
      "align_content": null,
      "align_items": null,
      "align_self": null,
      "border": null,
      "bottom": null,
      "display": null,
      "flex": null,
      "flex_flow": null,
      "grid_area": null,
      "grid_auto_columns": null,
      "grid_auto_flow": null,
      "grid_auto_rows": null,
      "grid_column": null,
      "grid_gap": null,
      "grid_row": null,
      "grid_template_areas": null,
      "grid_template_columns": null,
      "grid_template_rows": null,
      "height": null,
      "justify_content": null,
      "justify_items": null,
      "left": null,
      "margin": null,
      "max_height": null,
      "max_width": null,
      "min_height": null,
      "min_width": null,
      "object_fit": null,
      "object_position": null,
      "order": null,
      "overflow": null,
      "overflow_x": null,
      "overflow_y": null,
      "padding": null,
      "right": null,
      "top": null,
      "visibility": null,
      "width": null
     }
    },
    "91b0c5dff93b45d0800e1e72e2714af5": {
     "model_module": "@jupyter-widgets/base",
     "model_name": "LayoutModel",
     "model_module_version": "1.2.0",
     "state": {
      "_model_module": "@jupyter-widgets/base",
      "_model_module_version": "1.2.0",
      "_model_name": "LayoutModel",
      "_view_count": null,
      "_view_module": "@jupyter-widgets/base",
      "_view_module_version": "1.2.0",
      "_view_name": "LayoutView",
      "align_content": null,
      "align_items": null,
      "align_self": null,
      "border": null,
      "bottom": null,
      "display": null,
      "flex": null,
      "flex_flow": null,
      "grid_area": null,
      "grid_auto_columns": null,
      "grid_auto_flow": null,
      "grid_auto_rows": null,
      "grid_column": null,
      "grid_gap": null,
      "grid_row": null,
      "grid_template_areas": null,
      "grid_template_columns": null,
      "grid_template_rows": null,
      "height": null,
      "justify_content": null,
      "justify_items": null,
      "left": null,
      "margin": null,
      "max_height": null,
      "max_width": null,
      "min_height": null,
      "min_width": null,
      "object_fit": null,
      "object_position": null,
      "order": null,
      "overflow": null,
      "overflow_x": null,
      "overflow_y": null,
      "padding": null,
      "right": null,
      "top": null,
      "visibility": null,
      "width": null
     }
    },
    "1f13b6665f4a418ab277b947457c14b0": {
     "model_module": "@jupyter-widgets/controls",
     "model_name": "DescriptionStyleModel",
     "model_module_version": "1.5.0",
     "state": {
      "_model_module": "@jupyter-widgets/controls",
      "_model_module_version": "1.5.0",
      "_model_name": "DescriptionStyleModel",
      "_view_count": null,
      "_view_module": "@jupyter-widgets/base",
      "_view_module_version": "1.2.0",
      "_view_name": "StyleView",
      "description_width": ""
     }
    },
    "5ec9ab1107af49dc891e508878346e04": {
     "model_module": "@jupyter-widgets/base",
     "model_name": "LayoutModel",
     "model_module_version": "1.2.0",
     "state": {
      "_model_module": "@jupyter-widgets/base",
      "_model_module_version": "1.2.0",
      "_model_name": "LayoutModel",
      "_view_count": null,
      "_view_module": "@jupyter-widgets/base",
      "_view_module_version": "1.2.0",
      "_view_name": "LayoutView",
      "align_content": null,
      "align_items": null,
      "align_self": null,
      "border": null,
      "bottom": null,
      "display": null,
      "flex": null,
      "flex_flow": null,
      "grid_area": null,
      "grid_auto_columns": null,
      "grid_auto_flow": null,
      "grid_auto_rows": null,
      "grid_column": null,
      "grid_gap": null,
      "grid_row": null,
      "grid_template_areas": null,
      "grid_template_columns": null,
      "grid_template_rows": null,
      "height": null,
      "justify_content": null,
      "justify_items": null,
      "left": null,
      "margin": null,
      "max_height": null,
      "max_width": null,
      "min_height": null,
      "min_width": null,
      "object_fit": null,
      "object_position": null,
      "order": null,
      "overflow": null,
      "overflow_x": null,
      "overflow_y": null,
      "padding": null,
      "right": null,
      "top": null,
      "visibility": null,
      "width": null
     }
    },
    "eac07a31f24043a6a42691b4cff71aee": {
     "model_module": "@jupyter-widgets/controls",
     "model_name": "ProgressStyleModel",
     "model_module_version": "1.5.0",
     "state": {
      "_model_module": "@jupyter-widgets/controls",
      "_model_module_version": "1.5.0",
      "_model_name": "ProgressStyleModel",
      "_view_count": null,
      "_view_module": "@jupyter-widgets/base",
      "_view_module_version": "1.2.0",
      "_view_name": "StyleView",
      "bar_color": null,
      "description_width": ""
     }
    },
    "85747c3fe1e542e4a841489191cb9f49": {
     "model_module": "@jupyter-widgets/base",
     "model_name": "LayoutModel",
     "model_module_version": "1.2.0",
     "state": {
      "_model_module": "@jupyter-widgets/base",
      "_model_module_version": "1.2.0",
      "_model_name": "LayoutModel",
      "_view_count": null,
      "_view_module": "@jupyter-widgets/base",
      "_view_module_version": "1.2.0",
      "_view_name": "LayoutView",
      "align_content": null,
      "align_items": null,
      "align_self": null,
      "border": null,
      "bottom": null,
      "display": null,
      "flex": null,
      "flex_flow": null,
      "grid_area": null,
      "grid_auto_columns": null,
      "grid_auto_flow": null,
      "grid_auto_rows": null,
      "grid_column": null,
      "grid_gap": null,
      "grid_row": null,
      "grid_template_areas": null,
      "grid_template_columns": null,
      "grid_template_rows": null,
      "height": null,
      "justify_content": null,
      "justify_items": null,
      "left": null,
      "margin": null,
      "max_height": null,
      "max_width": null,
      "min_height": null,
      "min_width": null,
      "object_fit": null,
      "object_position": null,
      "order": null,
      "overflow": null,
      "overflow_x": null,
      "overflow_y": null,
      "padding": null,
      "right": null,
      "top": null,
      "visibility": null,
      "width": null
     }
    },
    "2bec35b053ad4134b0b4e43ddc923933": {
     "model_module": "@jupyter-widgets/controls",
     "model_name": "DescriptionStyleModel",
     "model_module_version": "1.5.0",
     "state": {
      "_model_module": "@jupyter-widgets/controls",
      "_model_module_version": "1.5.0",
      "_model_name": "DescriptionStyleModel",
      "_view_count": null,
      "_view_module": "@jupyter-widgets/base",
      "_view_module_version": "1.2.0",
      "_view_name": "StyleView",
      "description_width": ""
     }
    },
    "ffc8a9cd396e4af7aecf40916dd9217b": {
     "model_module": "@jupyter-widgets/controls",
     "model_name": "HBoxModel",
     "model_module_version": "1.5.0",
     "state": {
      "_dom_classes": [],
      "_model_module": "@jupyter-widgets/controls",
      "_model_module_version": "1.5.0",
      "_model_name": "HBoxModel",
      "_view_count": null,
      "_view_module": "@jupyter-widgets/controls",
      "_view_module_version": "1.5.0",
      "_view_name": "HBoxView",
      "box_style": "",
      "children": [
       "IPY_MODEL_cdfe43ae06c14018a8cef16e36efdf41",
       "IPY_MODEL_edb8cf3c70734ed7ade8c723ad21db68",
       "IPY_MODEL_46bb79d9259c431eaf50b67625a768d1"
      ],
      "layout": "IPY_MODEL_e6f88607a87649d59743e9ac26443742"
     }
    },
    "cdfe43ae06c14018a8cef16e36efdf41": {
     "model_module": "@jupyter-widgets/controls",
     "model_name": "HTMLModel",
     "model_module_version": "1.5.0",
     "state": {
      "_dom_classes": [],
      "_model_module": "@jupyter-widgets/controls",
      "_model_module_version": "1.5.0",
      "_model_name": "HTMLModel",
      "_view_count": null,
      "_view_module": "@jupyter-widgets/controls",
      "_view_module_version": "1.5.0",
      "_view_name": "HTMLView",
      "description": "",
      "description_tooltip": null,
      "layout": "IPY_MODEL_7e8da77576264e4d87814ddbeeed496b",
      "placeholder": "​",
      "style": "IPY_MODEL_fc5c25e7409e46f78afc1908294be393",
      "value": "Downloading (…)okenizer_config.json: 100%"
     }
    },
    "edb8cf3c70734ed7ade8c723ad21db68": {
     "model_module": "@jupyter-widgets/controls",
     "model_name": "FloatProgressModel",
     "model_module_version": "1.5.0",
     "state": {
      "_dom_classes": [],
      "_model_module": "@jupyter-widgets/controls",
      "_model_module_version": "1.5.0",
      "_model_name": "FloatProgressModel",
      "_view_count": null,
      "_view_module": "@jupyter-widgets/controls",
      "_view_module_version": "1.5.0",
      "_view_name": "ProgressView",
      "bar_style": "success",
      "description": "",
      "description_tooltip": null,
      "layout": "IPY_MODEL_e764fa1cae4841d0a4a84b930de88047",
      "max": 2324,
      "min": 0,
      "orientation": "horizontal",
      "style": "IPY_MODEL_ea3d7d790cd24fe08f6cae4973f1170e",
      "value": 2324
     }
    },
    "46bb79d9259c431eaf50b67625a768d1": {
     "model_module": "@jupyter-widgets/controls",
     "model_name": "HTMLModel",
     "model_module_version": "1.5.0",
     "state": {
      "_dom_classes": [],
      "_model_module": "@jupyter-widgets/controls",
      "_model_module_version": "1.5.0",
      "_model_name": "HTMLModel",
      "_view_count": null,
      "_view_module": "@jupyter-widgets/controls",
      "_view_module_version": "1.5.0",
      "_view_name": "HTMLView",
      "description": "",
      "description_tooltip": null,
      "layout": "IPY_MODEL_dde05cf3e6b34e66a70e3e79b5b11e10",
      "placeholder": "​",
      "style": "IPY_MODEL_e550ab839d904ab897e094ce0ef0f84e",
      "value": " 2.32k/2.32k [00:00&lt;00:00, 153kB/s]"
     }
    },
    "e6f88607a87649d59743e9ac26443742": {
     "model_module": "@jupyter-widgets/base",
     "model_name": "LayoutModel",
     "model_module_version": "1.2.0",
     "state": {
      "_model_module": "@jupyter-widgets/base",
      "_model_module_version": "1.2.0",
      "_model_name": "LayoutModel",
      "_view_count": null,
      "_view_module": "@jupyter-widgets/base",
      "_view_module_version": "1.2.0",
      "_view_name": "LayoutView",
      "align_content": null,
      "align_items": null,
      "align_self": null,
      "border": null,
      "bottom": null,
      "display": null,
      "flex": null,
      "flex_flow": null,
      "grid_area": null,
      "grid_auto_columns": null,
      "grid_auto_flow": null,
      "grid_auto_rows": null,
      "grid_column": null,
      "grid_gap": null,
      "grid_row": null,
      "grid_template_areas": null,
      "grid_template_columns": null,
      "grid_template_rows": null,
      "height": null,
      "justify_content": null,
      "justify_items": null,
      "left": null,
      "margin": null,
      "max_height": null,
      "max_width": null,
      "min_height": null,
      "min_width": null,
      "object_fit": null,
      "object_position": null,
      "order": null,
      "overflow": null,
      "overflow_x": null,
      "overflow_y": null,
      "padding": null,
      "right": null,
      "top": null,
      "visibility": null,
      "width": null
     }
    },
    "7e8da77576264e4d87814ddbeeed496b": {
     "model_module": "@jupyter-widgets/base",
     "model_name": "LayoutModel",
     "model_module_version": "1.2.0",
     "state": {
      "_model_module": "@jupyter-widgets/base",
      "_model_module_version": "1.2.0",
      "_model_name": "LayoutModel",
      "_view_count": null,
      "_view_module": "@jupyter-widgets/base",
      "_view_module_version": "1.2.0",
      "_view_name": "LayoutView",
      "align_content": null,
      "align_items": null,
      "align_self": null,
      "border": null,
      "bottom": null,
      "display": null,
      "flex": null,
      "flex_flow": null,
      "grid_area": null,
      "grid_auto_columns": null,
      "grid_auto_flow": null,
      "grid_auto_rows": null,
      "grid_column": null,
      "grid_gap": null,
      "grid_row": null,
      "grid_template_areas": null,
      "grid_template_columns": null,
      "grid_template_rows": null,
      "height": null,
      "justify_content": null,
      "justify_items": null,
      "left": null,
      "margin": null,
      "max_height": null,
      "max_width": null,
      "min_height": null,
      "min_width": null,
      "object_fit": null,
      "object_position": null,
      "order": null,
      "overflow": null,
      "overflow_x": null,
      "overflow_y": null,
      "padding": null,
      "right": null,
      "top": null,
      "visibility": null,
      "width": null
     }
    },
    "fc5c25e7409e46f78afc1908294be393": {
     "model_module": "@jupyter-widgets/controls",
     "model_name": "DescriptionStyleModel",
     "model_module_version": "1.5.0",
     "state": {
      "_model_module": "@jupyter-widgets/controls",
      "_model_module_version": "1.5.0",
      "_model_name": "DescriptionStyleModel",
      "_view_count": null,
      "_view_module": "@jupyter-widgets/base",
      "_view_module_version": "1.2.0",
      "_view_name": "StyleView",
      "description_width": ""
     }
    },
    "e764fa1cae4841d0a4a84b930de88047": {
     "model_module": "@jupyter-widgets/base",
     "model_name": "LayoutModel",
     "model_module_version": "1.2.0",
     "state": {
      "_model_module": "@jupyter-widgets/base",
      "_model_module_version": "1.2.0",
      "_model_name": "LayoutModel",
      "_view_count": null,
      "_view_module": "@jupyter-widgets/base",
      "_view_module_version": "1.2.0",
      "_view_name": "LayoutView",
      "align_content": null,
      "align_items": null,
      "align_self": null,
      "border": null,
      "bottom": null,
      "display": null,
      "flex": null,
      "flex_flow": null,
      "grid_area": null,
      "grid_auto_columns": null,
      "grid_auto_flow": null,
      "grid_auto_rows": null,
      "grid_column": null,
      "grid_gap": null,
      "grid_row": null,
      "grid_template_areas": null,
      "grid_template_columns": null,
      "grid_template_rows": null,
      "height": null,
      "justify_content": null,
      "justify_items": null,
      "left": null,
      "margin": null,
      "max_height": null,
      "max_width": null,
      "min_height": null,
      "min_width": null,
      "object_fit": null,
      "object_position": null,
      "order": null,
      "overflow": null,
      "overflow_x": null,
      "overflow_y": null,
      "padding": null,
      "right": null,
      "top": null,
      "visibility": null,
      "width": null
     }
    },
    "ea3d7d790cd24fe08f6cae4973f1170e": {
     "model_module": "@jupyter-widgets/controls",
     "model_name": "ProgressStyleModel",
     "model_module_version": "1.5.0",
     "state": {
      "_model_module": "@jupyter-widgets/controls",
      "_model_module_version": "1.5.0",
      "_model_name": "ProgressStyleModel",
      "_view_count": null,
      "_view_module": "@jupyter-widgets/base",
      "_view_module_version": "1.2.0",
      "_view_name": "StyleView",
      "bar_color": null,
      "description_width": ""
     }
    },
    "dde05cf3e6b34e66a70e3e79b5b11e10": {
     "model_module": "@jupyter-widgets/base",
     "model_name": "LayoutModel",
     "model_module_version": "1.2.0",
     "state": {
      "_model_module": "@jupyter-widgets/base",
      "_model_module_version": "1.2.0",
      "_model_name": "LayoutModel",
      "_view_count": null,
      "_view_module": "@jupyter-widgets/base",
      "_view_module_version": "1.2.0",
      "_view_name": "LayoutView",
      "align_content": null,
      "align_items": null,
      "align_self": null,
      "border": null,
      "bottom": null,
      "display": null,
      "flex": null,
      "flex_flow": null,
      "grid_area": null,
      "grid_auto_columns": null,
      "grid_auto_flow": null,
      "grid_auto_rows": null,
      "grid_column": null,
      "grid_gap": null,
      "grid_row": null,
      "grid_template_areas": null,
      "grid_template_columns": null,
      "grid_template_rows": null,
      "height": null,
      "justify_content": null,
      "justify_items": null,
      "left": null,
      "margin": null,
      "max_height": null,
      "max_width": null,
      "min_height": null,
      "min_width": null,
      "object_fit": null,
      "object_position": null,
      "order": null,
      "overflow": null,
      "overflow_x": null,
      "overflow_y": null,
      "padding": null,
      "right": null,
      "top": null,
      "visibility": null,
      "width": null
     }
    },
    "e550ab839d904ab897e094ce0ef0f84e": {
     "model_module": "@jupyter-widgets/controls",
     "model_name": "DescriptionStyleModel",
     "model_module_version": "1.5.0",
     "state": {
      "_model_module": "@jupyter-widgets/controls",
      "_model_module_version": "1.5.0",
      "_model_name": "DescriptionStyleModel",
      "_view_count": null,
      "_view_module": "@jupyter-widgets/base",
      "_view_module_version": "1.2.0",
      "_view_name": "StyleView",
      "description_width": ""
     }
    }
   }
  }
 },
 "cells": [
  {
   "cell_type": "markdown",
   "metadata": {
    "id": "sMcf-kxSVqvD"
   },
   "source": [
    "## Training T5 using Pytorch"
   ]
  },
  {
   "cell_type": "markdown",
   "metadata": {
    "id": "v5LqLyFyVqvF"
   },
   "source": [
    "The purpose of this notebook is to demonstrate training using tensorflow 2 and keras. This notebook includes tf Data pipelines for build any other NLP task in a text to text fashion. Anyone can adapt the data pipeline to thier own datasets. Uses the efficient [Datasets](https://github.com/huggingface/datasets) from 🤗 as source for training.\n",
    "#### Features\n",
    "- Train TF T5 on SQUAD questioning and answering\n",
    "- Train T5 using keras trainer fucntion\n",
    "- tf.Data pipeline\n",
    "- [Datasets from 🤗](https://github.com/huggingface/datasets) as source\n",
    "- Log metrics using tensorboard\n",
    "- Profile your experiment with the brand new tensorflow profiler !!"
   ]
  },
  {
   "cell_type": "markdown",
   "metadata": {
    "id": "jZ7iM__QWL96"
   },
   "source": [
    "### Installation"
   ]
  },
  {
   "cell_type": "code",
   "metadata": {
    "id": "dEutWnhiWRAq",
    "scrolled": true
   },
   "source": [
    "from IPython.display import clear_output\n",
    "\n",
    "!pip install transformers\n",
    "!pip install datasets\n",
    "!pip install torchmetrics\n",
    "!pip install SentencePiece\n",
    "\n",
    "clear_output()"
   ],
   "execution_count": 33,
   "outputs": []
  },
  {
   "cell_type": "code",
   "metadata": {
    "id": "6aWoa3AtDXN0"
   },
   "source": [
    "from datasets import load_dataset\n",
    "import tensorflow as tf\n",
    "import numpy as np\n",
    "import matplotlib.pyplot as plt\n",
    "import tensorflow_datasets as tfds\n",
    "import transformers\n",
    "import datasets\n",
    "from transformers import AutoTokenizer, TFT5ForConditionalGeneration\n",
    "import datetime\n",
    "import os\n",
    "# %load_ext tensorboard"
   ],
   "execution_count": 34,
   "outputs": []
  },
  {
   "cell_type": "code",
   "source": [
    "import math\n",
    "import torch.optim\n",
    "import torch\n",
    "from torch.utils.tensorboard import SummaryWriter\n",
    "import torchmetrics\n",
    "import torch\n",
    "from tqdm import tqdm\n",
    "from transformers import T5ForConditionalGeneration\n",
    "import torch.nn as nn"
   ],
   "metadata": {
    "id": "0Oqe8sIKki6r"
   },
   "execution_count": 35,
   "outputs": []
  },
  {
   "cell_type": "code",
   "source": [
    "import torch\n",
    "\n",
    "# Check PyTorch version\n",
    "torch_version = torch.__version__\n",
    "print(\"PyTorch: \", torch_version)\n",
    "\n",
    "# Check Transformers version\n",
    "transformers_version = transformers.__version__\n",
    "print(\"Transformers: \", transformers_version)\n",
    "\n",
    "# Check Datasets version\n",
    "datasets_version = datasets.__version__\n",
    "print(\"Datasets: \", datasets_version)\n",
    "\n",
    "# # Check if TensorFlow version is 2.3+\n",
    "# tf_version_split = tf_version.split('.')\n",
    "# assert int(tf_version_split[0]) == 2 and int(tf_version_split[-2]) >= 3, f\"Tensorflow version should be '2.3+,x', given {tf_version}\""
   ],
   "metadata": {
    "colab": {
     "base_uri": "https://localhost:8080/"
    },
    "id": "H2VOogIEmsJP",
    "outputId": "0cb9e79d-12ae-4eeb-a963-0a31100479f6"
   },
   "execution_count": 36,
   "outputs": [
    {
     "name": "stdout",
     "output_type": "stream",
     "text": [
      "PyTorch:  2.0.0\n",
      "Transformers:  4.29.1\n",
      "Datasets:  2.12.0\n"
     ]
    }
   ]
  },
  {
   "cell_type": "code",
   "source": [
    "# Get the GPU device\n",
    "DEVICE = \"cpu\"\n",
    "if torch.cuda.is_available():\n",
    "    DEVICE = \"cuda:0\"\n",
    "elif torch.backends.mps.is_available():\n",
    "    DEVICE = \"mps\"\n",
    "\n",
    "device = torch.device(DEVICE)\n",
    "\n",
    "# Check if the device is available\n",
    "if device.type == \"cuda\":\n",
    "  print(\"Using GPU\")\n",
    "elif device.type == \"mps\":\n",
    "    print(\"Using Macbook GPU\")\n",
    "else:\n",
    "  print(\"Using CPU\")"
   ],
   "metadata": {
    "colab": {
     "base_uri": "https://localhost:8080/"
    },
    "id": "AgJQPFIHQsH2",
    "outputId": "72f66ca9-5c99-4ab7-d3f8-a38fe8436305"
   },
   "execution_count": 37,
   "outputs": [
    {
     "name": "stdout",
     "output_type": "stream",
     "text": [
      "Using Macbook GPU\n"
     ]
    }
   ]
  },
  {
   "cell_type": "code",
   "metadata": {
    "id": "OyHbWsh9W6-4",
    "outputId": "a0bc9984-39c4-4caf-f6eb-b2a5195178bf",
    "colab": {
     "base_uri": "https://localhost:8080/"
    }
   },
   "source": [
    "!mkdir dataClosed\n",
    "!ls -la"
   ],
   "execution_count": 38,
   "outputs": [
    {
     "name": "stdout",
     "output_type": "stream",
     "text": [
      "mkdir: dataClosed: File exists\r\n",
      "total 240\r\n",
      "drwxr-xr-x   6 ubs  admin     192 May 18 01:26 \u001B[34m.\u001B[m\u001B[m\r\n",
      "drwxr-xr-x  19 ubs  admin     608 May 16 15:04 \u001B[34m..\u001B[m\u001B[m\r\n",
      "-rw-r--r--@  1 ubs  admin    6148 May 16 15:48 .DS_Store\r\n",
      "drwxr-xr-x  12 ubs  admin     384 May 17 16:51 \u001B[34mDataset\u001B[m\u001B[m\r\n",
      "-rw-r--r--   1 ubs  admin  114439 May 18 01:26 closedBook2.ipynb\r\n",
      "drwxr-xr-x   2 ubs  admin      64 May 16 15:27 \u001B[34mdataClosed\u001B[m\u001B[m\r\n"
     ]
    }
   ]
  },
  {
   "cell_type": "code",
   "metadata": {
    "id": "KRMGSskHDXOA"
   },
   "source": [
    "data_dir = \"./dataClosed\"\n",
    "log_dir = f\"{data_dir}/experiments/t5/logs\"\n",
    "save_path = f\"{data_dir}/experiments/t5/models\"\n",
    "cache_path_train = f\"{data_dir}/cache/t5.train\"\n",
    "cache_path_test = f\"{data_dir}/cache/t5.test\""
   ],
   "execution_count": 39,
   "outputs": []
  },
  {
   "cell_type": "markdown",
   "source": [
    "Downloading Dataset for Squad"
   ],
   "metadata": {
    "collapsed": false
   }
  },
  {
   "cell_type": "code",
   "execution_count": 40,
   "outputs": [
    {
     "name": "stderr",
     "output_type": "stream",
     "text": [
      "Using the latest cached version of the module from /Users/ubs/.cache/huggingface/modules/datasets_modules/datasets/squad/d6ec3ceb99ca480ce37cdd35555d6cb2511d223b9150cce08a837ef62ffea453 (last modified on Wed May 17 15:47:15 2023) since it couldn't be found locally at squad., or remotely on the Hugging Face Hub.\n",
      "Found cached dataset squad (/Users/ubs/.cache/huggingface/datasets/squad/plain_text/1.0.0/d6ec3ceb99ca480ce37cdd35555d6cb2511d223b9150cce08a837ef62ffea453)\n"
     ]
    },
    {
     "data": {
      "text/plain": "  0%|          | 0/2 [00:00<?, ?it/s]",
      "application/vnd.jupyter.widget-view+json": {
       "version_major": 2,
       "version_minor": 0,
       "model_id": "f12256ae3e534fef9025135e099aa055"
      }
     },
     "metadata": {},
     "output_type": "display_data"
    },
    {
     "data": {
      "text/plain": "Creating json from Arrow format:   0%|          | 0/11 [00:00<?, ?ba/s]",
      "application/vnd.jupyter.widget-view+json": {
       "version_major": 2,
       "version_minor": 0,
       "model_id": "ce12d8fbee1c401e9da2a30d72600063"
      }
     },
     "metadata": {},
     "output_type": "display_data"
    },
    {
     "data": {
      "text/plain": "Creating json from Arrow format:   0%|          | 0/88 [00:00<?, ?ba/s]",
      "application/vnd.jupyter.widget-view+json": {
       "version_major": 2,
       "version_minor": 0,
       "model_id": "6269714f8b9c48fab277ff314511011c"
      }
     },
     "metadata": {},
     "output_type": "display_data"
    },
    {
     "data": {
      "text/plain": "85176316"
     },
     "execution_count": 40,
     "metadata": {},
     "output_type": "execute_result"
    }
   ],
   "source": [
    "from datasets import load_dataset\n",
    "import json\n",
    "\n",
    "# Load SQuAD dataset\n",
    "squad = load_dataset(\"squad\")\n",
    "\n",
    "\n",
    "# Write data to text file\n",
    "\n",
    "squad[\"validation\"].to_json(\"./Dataset/squad_validation_v1.1.txt\")\n",
    "squad[\"train\"].to_json(\"./Dataset/squad_train_v1.1.txt\")\n"
   ],
   "metadata": {
    "collapsed": false
   }
  },
  {
   "cell_type": "markdown",
   "metadata": {
    "id": "CgsSdpHxVqvY"
   },
   "source": [
    "### The Tokenizer"
   ]
  },
  {
   "cell_type": "code",
   "source": [
    "# from google.colab import drive\n",
    "# drive.mount('/content/gdrive')\n"
   ],
   "metadata": {
    "colab": {
     "base_uri": "https://localhost:8080/"
    },
    "id": "jOyRegBvLzLk",
    "outputId": "cb03f6cd-9e42-4b68-ae42-9133c2a26ac2"
   },
   "execution_count": 41,
   "outputs": []
  },
  {
   "cell_type": "code",
   "source": [
    "# %cd /content/gdrive/My\\ Drive/Experiments/NLP/COT\n"
   ],
   "metadata": {
    "colab": {
     "base_uri": "https://localhost:8080/"
    },
    "id": "beYStSjMMwzY",
    "outputId": "8d7b3b5e-2658-4f28-b2a1-a0c7240c10bf"
   },
   "execution_count": 42,
   "outputs": []
  },
  {
   "cell_type": "code",
   "metadata": {
    "id": "VvOrIgzODXOD",
    "outputId": "dbfa7eda-7d70-4451-f830-181868493dff",
    "colab": {
     "base_uri": "https://localhost:8080/",
     "height": 463,
     "referenced_widgets": [
      "095d45a94e904b798ff96e7badccff2b",
      "fc648d60dab44e078ac5ca6901bf9605",
      "ef3f0bbb01ce440f962974f4cbf9e9bd",
      "3472568dd0ef4cef9ba607e12de6ea5d",
      "151c6bbb04c64c9e8a49b71ebc4add0e",
      "13d73dfbe5844674ae8f099f37decfac",
      "c7d2ae22a1f446319d9a71eb10b24b7e",
      "07e593458638424baf1543d59018afad",
      "edbded8f6954434fa75c7d12069203e8",
      "49c77ba817144d2aa40ee75031f31191",
      "cfa83f222a8b4a0e8a09284315e4b281",
      "eb8dfe1c15964dcaa62d3f1447cc31e2",
      "69a0496d95574e3f8e7d765f4b37e672",
      "7284a03283f041358336ce85e386d680",
      "b6a96bb353754700ac64c4758db3b717",
      "72099bf6bb3041b392eeb07a8e52473d",
      "b38194d90beb4ee3bae2cf14d90452ce",
      "03df1245870043eb8e75883534ddb72b",
      "065881c9cb3a4195ac18729af7852780",
      "e419241566194bd9a6eddfad07a24fb0",
      "4b46066fefde44368949ae2840dedff6",
      "05c4645d26dc4cfdaca7b79c0f620e51",
      "434cf186868e48c1b1a5bedf5fa817bf",
      "8062cab760d94560ac17fd6496217f6c",
      "46344e9fea25455395ae2c50c7c72e6a",
      "12bfaf87e6f440978120a65948b798d4",
      "2ad9ca909b6f418aae41c3580325db8b",
      "092d6fa4d085471583a83ae5801845d0",
      "3fba2a27aaca4557b17ab9911adce596",
      "fe975a2e744a49418f0516e5569c0d0d",
      "476e44a661fa4f87b50a65113752eca3",
      "1bd93d8535ce4f9da66a3ff0e16ef94b",
      "2956c408e2cc4addbef11ca12b45a746"
     ]
    }
   },
   "source": [
    "from transformers import T5Tokenizer\n",
    "model_name = \"t5-base\"\n",
    "seq_length = 512\n",
    "\n",
    "# model_name = \"google/flan-t5-base\"\n",
    "tokenizer = AutoTokenizer.from_pretrained(model_name)\n",
    "num_classes = tokenizer.vocab_size\n",
    "\n",
    "tokenizer"
   ],
   "execution_count": 62,
   "outputs": [
    {
     "data": {
      "text/plain": "T5TokenizerFast(name_or_path='t5-base', vocab_size=32100, model_max_length=512, is_fast=True, padding_side='right', truncation_side='right', special_tokens={'eos_token': '</s>', 'unk_token': '<unk>', 'pad_token': '<pad>', 'additional_special_tokens': ['<extra_id_0>', '<extra_id_1>', '<extra_id_2>', '<extra_id_3>', '<extra_id_4>', '<extra_id_5>', '<extra_id_6>', '<extra_id_7>', '<extra_id_8>', '<extra_id_9>', '<extra_id_10>', '<extra_id_11>', '<extra_id_12>', '<extra_id_13>', '<extra_id_14>', '<extra_id_15>', '<extra_id_16>', '<extra_id_17>', '<extra_id_18>', '<extra_id_19>', '<extra_id_20>', '<extra_id_21>', '<extra_id_22>', '<extra_id_23>', '<extra_id_24>', '<extra_id_25>', '<extra_id_26>', '<extra_id_27>', '<extra_id_28>', '<extra_id_29>', '<extra_id_30>', '<extra_id_31>', '<extra_id_32>', '<extra_id_33>', '<extra_id_34>', '<extra_id_35>', '<extra_id_36>', '<extra_id_37>', '<extra_id_38>', '<extra_id_39>', '<extra_id_40>', '<extra_id_41>', '<extra_id_42>', '<extra_id_43>', '<extra_id_44>', '<extra_id_45>', '<extra_id_46>', '<extra_id_47>', '<extra_id_48>', '<extra_id_49>', '<extra_id_50>', '<extra_id_51>', '<extra_id_52>', '<extra_id_53>', '<extra_id_54>', '<extra_id_55>', '<extra_id_56>', '<extra_id_57>', '<extra_id_58>', '<extra_id_59>', '<extra_id_60>', '<extra_id_61>', '<extra_id_62>', '<extra_id_63>', '<extra_id_64>', '<extra_id_65>', '<extra_id_66>', '<extra_id_67>', '<extra_id_68>', '<extra_id_69>', '<extra_id_70>', '<extra_id_71>', '<extra_id_72>', '<extra_id_73>', '<extra_id_74>', '<extra_id_75>', '<extra_id_76>', '<extra_id_77>', '<extra_id_78>', '<extra_id_79>', '<extra_id_80>', '<extra_id_81>', '<extra_id_82>', '<extra_id_83>', '<extra_id_84>', '<extra_id_85>', '<extra_id_86>', '<extra_id_87>', '<extra_id_88>', '<extra_id_89>', '<extra_id_90>', '<extra_id_91>', '<extra_id_92>', '<extra_id_93>', '<extra_id_94>', '<extra_id_95>', '<extra_id_96>', '<extra_id_97>', '<extra_id_98>', '<extra_id_99>']}, clean_up_tokenization_spaces=True)"
     },
     "execution_count": 62,
     "metadata": {},
     "output_type": "execute_result"
    }
   ]
  },
  {
   "cell_type": "markdown",
   "source": [],
   "metadata": {
    "collapsed": false
   }
  },
  {
   "cell_type": "code",
   "metadata": {
    "id": "5OAz75_aoBvk",
    "colab": {
     "base_uri": "https://localhost:8080/"
    },
    "outputId": "8be0d453-722b-48fc-d274-7fb600ad6079"
   },
   "source": [
    "from transformers import AutoModelForSeq2SeqLM\n",
    "\n",
    "# tokenizer = AutoTokenizer.from_pretrained(\"google/flan-t5-base\")\n",
    "# model = AutoModelForSeq2SeqLM.from_pretrained(\"google/flan-t5-base\")\n",
    "# model = T5ForConditionalGeneration.from_pretrained(model_name)\n",
    "model = AutoModelForSeq2SeqLM.from_pretrained(model_name)\n",
    "model.to(device)\n",
    "print(\"\")"
   ],
   "execution_count": 63,
   "outputs": [
    {
     "name": "stdout",
     "output_type": "stream",
     "text": [
      "\n"
     ]
    }
   ]
  },
  {
   "cell_type": "markdown",
   "metadata": {
    "id": "1EgTphQODXOH"
   },
   "source": [
    "### Preparing the Data"
   ]
  },
  {
   "cell_type": "code",
   "metadata": {
    "id": "KX1rsWgZDXOK",
    "scrolled": true,
    "outputId": "642fde56-2b04-4ad9-a377-38de013a4745",
    "colab": {
     "base_uri": "https://localhost:8080/"
    }
   },
   "source": [
    "# Read the  file and creating Training and Validation Datasets\n",
    "import json\n",
    "from datasets import Dataset\n",
    "\n",
    "\n",
    "def readDataset  (file_path):\n",
    "    data = []\n",
    "    with open(file_path, 'r') as f:\n",
    "        lines = f.readlines()\n",
    "        for line in lines:\n",
    "            text =  json.loads(line)\n",
    "            data.append(text)\n",
    "    return  data\n",
    "\n",
    "train_data = readDataset(\"./Dataset/squad_train_v1.1.txt\")\n",
    "validation_data = readDataset(\"./Dataset/squad_validation_v1.1.txt\")\n",
    "\n",
    "train_dataset = Dataset.from_list(train_data)\n",
    "validation_dataset = Dataset.from_list(validation_data)\n",
    "\n",
    "\n",
    "print(train_dataset)\n",
    "print(validation_dataset)\n"
   ],
   "execution_count": 64,
   "outputs": [
    {
     "name": "stdout",
     "output_type": "stream",
     "text": [
      "Dataset({\n",
      "    features: ['id', 'title', 'context', 'question', 'answers'],\n",
      "    num_rows: 87599\n",
      "})\n",
      "Dataset({\n",
      "    features: ['id', 'title', 'context', 'question', 'answers'],\n",
      "    num_rows: 10570\n",
      "})\n"
     ]
    }
   ]
  },
  {
   "cell_type": "code",
   "source": [
    "validation_dataset[2]"
   ],
   "metadata": {
    "colab": {
     "base_uri": "https://localhost:8080/"
    },
    "id": "eMmJGY7nXdOI",
    "outputId": "0b327f2f-6c27-48d7-b583-470be84ecc36"
   },
   "execution_count": 65,
   "outputs": [
    {
     "data": {
      "text/plain": "{'id': '56be4db0acb8001400a502ee',\n 'title': 'Super_Bowl_50',\n 'context': 'Super Bowl 50 was an American football game to determine the champion of the National Football League (NFL) for the 2015 season. The American Football Conference (AFC) champion Denver Broncos defeated the National Football Conference (NFC) champion Carolina Panthers 24–10 to earn their third Super Bowl title. The game was played on February 7, 2016, at Levi\\'s Stadium in the San Francisco Bay Area at Santa Clara, California. As this was the 50th Super Bowl, the league emphasized the \"golden anniversary\" with various gold-themed initiatives, as well as temporarily suspending the tradition of naming each Super Bowl game with Roman numerals (under which the game would have been known as \"Super Bowl L\"), so that the logo could prominently feature the Arabic numerals 50.',\n 'question': 'Where did Super Bowl 50 take place?',\n 'answers': {'answer_start': [403, 355, 355],\n  'text': ['Santa Clara, California',\n   \"Levi's Stadium\",\n   \"Levi's Stadium in the San Francisco Bay Area at Santa Clara, California.\"]}}"
     },
     "execution_count": 65,
     "metadata": {},
     "output_type": "execute_result"
    }
   ]
  },
  {
   "cell_type": "code",
   "source": [
    "from torch.utils.data import Dataset\n",
    "from torch.utils.data import Dataset, DataLoader\n",
    "from transformers import AutoTokenizer\n",
    "from transformers import T5Tokenizer\n",
    "\n",
    "class QADataset(Dataset):\n",
    "    def __init__(self, data):\n",
    "        self.data = data\n",
    "        self.tokenizer = AutoTokenizer.from_pretrained(model_name)#T5Tokenizer.from_pretrained('t5-base')\n",
    "\n",
    "    def __len__(self):\n",
    "        return len(self.data)\n",
    "\n",
    "    def __getitem__(self, idx):\n",
    "        example = self.data[idx]\n",
    "        question = example['question']\n",
    "        answers = example['answers']['text']\n",
    "        # Combine the answers into a single string separated by '|' character\n",
    "        output_text = ' | '.join(answers)\n",
    "\n",
    "        output_text = 'answer: ' + output_text\n",
    "        input_text = 'context: '+ example['context'] +' question: ' + question\n",
    "\n",
    "        # Tokenize the input and output texts\n",
    "        input_ids = self.tokenizer.encode(input_text, return_tensors='pt', padding='max_length', truncation=True, max_length=seq_length).to(device)\n",
    "        output_ids = self.tokenizer.encode(output_text, return_tensors='pt', padding='max_length', truncation=True, max_length=seq_length).to(device)\n",
    "\n",
    "        return input_ids, output_ids\n"
   ],
   "metadata": {
    "id": "ttY3T2sspJuN"
   },
   "execution_count": 66,
   "outputs": []
  },
  {
   "cell_type": "code",
   "source": [
    "batch_size = 16\n",
    "num_workers = 0\n",
    "pin_memory = True"
   ],
   "metadata": {
    "id": "9_D1YaM0k_S-"
   },
   "execution_count": 67,
   "outputs": []
  },
  {
   "cell_type": "code",
   "source": [
    "train_dataloader = DataLoader(QADataset(train_dataset), batch_size=16, shuffle=True, drop_last=True, num_workers=num_workers, pin_memory=pin_memory)\n",
    "\n",
    "print(train_dataloader)\n",
    "valid_dataloader = DataLoader(QADataset(validation_dataset), batch_size=16, shuffle=False, drop_last=True, num_workers=num_workers, pin_memory=pin_memory)"
   ],
   "metadata": {
    "id": "n15sCL0NFQYH",
    "colab": {
     "base_uri": "https://localhost:8080/",
     "height": 81,
     "referenced_widgets": [
      "5b8f536035174ca2b42d4405997bde03",
      "39e72cd82e8e4432b4ee0375d9a03f94",
      "d4f9418e266646b8a1d02d101c71a517",
      "24513d58acad4deb817af6a289906404",
      "f3057993999843608dbcf1a8deda9329",
      "91b0c5dff93b45d0800e1e72e2714af5",
      "1f13b6665f4a418ab277b947457c14b0",
      "5ec9ab1107af49dc891e508878346e04",
      "eac07a31f24043a6a42691b4cff71aee",
      "85747c3fe1e542e4a841489191cb9f49",
      "2bec35b053ad4134b0b4e43ddc923933",
      "ffc8a9cd396e4af7aecf40916dd9217b",
      "cdfe43ae06c14018a8cef16e36efdf41",
      "edb8cf3c70734ed7ade8c723ad21db68",
      "46bb79d9259c431eaf50b67625a768d1",
      "e6f88607a87649d59743e9ac26443742",
      "7e8da77576264e4d87814ddbeeed496b",
      "fc5c25e7409e46f78afc1908294be393",
      "e764fa1cae4841d0a4a84b930de88047",
      "ea3d7d790cd24fe08f6cae4973f1170e",
      "dde05cf3e6b34e66a70e3e79b5b11e10",
      "e550ab839d904ab897e094ce0ef0f84e"
     ]
    },
    "outputId": "79975ff8-efc7-4f46-8955-a49c53effa06"
   },
   "execution_count": 68,
   "outputs": [
    {
     "name": "stderr",
     "output_type": "stream",
     "text": [
      "/Users/ubs/miniforge3/envs/mlp/lib/python3.8/site-packages/transformers/models/t5/tokenization_t5_fast.py:155: FutureWarning: This tokenizer was incorrectly instantiated with a model max length of 512 which will be corrected in Transformers v5.\n",
      "For now, this behavior is kept to avoid breaking backwards compatibility when padding/encoding with `truncation is True`.\n",
      "- Be aware that you SHOULD NOT rely on t5-base automatically truncating your input to 512 when padding/encoding.\n",
      "- If you want to encode/pad to sequences longer than 512 you can either instantiate this tokenizer with `model_max_length` or pass `max_length` when encoding/padding.\n",
      "- To avoid this warning, please instantiate this tokenizer with `model_max_length` set to your preferred value.\n",
      "  warnings.warn(\n"
     ]
    },
    {
     "name": "stdout",
     "output_type": "stream",
     "text": [
      "<torch.utils.data.dataloader.DataLoader object at 0x2f6962970>\n",
      "<torch.utils.data.dataloader.DataLoader object at 0x2f6512190>\n"
     ]
    }
   ]
  },
  {
   "cell_type": "code",
   "source": [
    "print(\"-\"*50)\n",
    "# Print first 5 examples of train_dataloader\n",
    "print('Train examples:')\n",
    "for i, (input_ids, output_ids) in enumerate(train_dataloader):\n",
    "    if i == 5:\n",
    "        break\n",
    "    # Convert the input and output ids to lists of integers\n",
    "    input_ids = input_ids[0].tolist()\n",
    "    output_ids = output_ids[0].tolist()\n",
    "    # Flatten the lists using the sum() function\n",
    "    input_ids = sum(input_ids, [])\n",
    "    output_ids = sum(output_ids, [])\n",
    "    input_text = tokenizer.decode(input_ids, skip_special_tokens=True)\n",
    "    output_text = tokenizer.decode(output_ids, skip_special_tokens=True)\n",
    "    print(f'Input: {input_text}')\n",
    "    print(f'Output: {output_text}')\n",
    "    print()\n",
    "\n",
    "print(\"-\"*50)\n",
    "print(\"Print first 5 examples of valid_dataloader\")\n",
    "# Print first 5 examples of valid_dataloader\n",
    "print('Valid examples:')\n",
    "for i, (input_ids, output_ids) in enumerate(valid_dataloader):\n",
    "    if i == 5:\n",
    "        break\n",
    "    # Convert the input and output ids to lists of integers\n",
    "    input_ids = input_ids[0].tolist()\n",
    "    output_ids = output_ids[0].tolist()\n",
    "    # Flatten the lists using the sum() function\n",
    "    input_ids = sum(input_ids, [])\n",
    "    output_ids = sum(output_ids, [])\n",
    "    input_text = tokenizer.decode(input_ids, skip_special_tokens=True)\n",
    "    output_text = tokenizer.decode(output_ids, skip_special_tokens=True)\n",
    "    print(f'Input: {input_text}')\n",
    "    print(f'Output: {output_text}')\n",
    "    print()"
   ],
   "metadata": {
    "colab": {
     "base_uri": "https://localhost:8080/"
    },
    "id": "O33CdoEwpNXe",
    "outputId": "c16c0b69-1b47-4abb-a8da-7b9f2104b941"
   },
   "execution_count": 69,
   "outputs": [
    {
     "name": "stdout",
     "output_type": "stream",
     "text": [
      "--------------------------------------------------\n",
      "Train examples:\n",
      "Input: context: The findings and insights of speech perception and articulation research complicate the traditional and somewhat intuitive idea of interchangeable allophones being perceived as the same phoneme. First, interchanged allophones of the same phoneme can result in unrecognizable words. Second, actual speech, even at a word level, is highly co-articulated, so it is problematic to expect to be able to splice words into simple segments without affecting speech perception. question: What does splicing words affect?\n",
      "Output: answer: speech perception\n",
      "\n",
      "Input: context: But, like many colors, it also had a negative association, with heat, destruction and evil. A prayer to god Isis said: \"Oh Isis, protect me from all things evil and red.\" The ancient Egyptians began manufacturing pigments in about 4000 BC. Red ochre was widely used as a pigment for wall paintings, particularly as the skin color of men. An ivory painter's palette found inside the tomb of King Tutankhamun had small compartments with pigments of red ochre and five other colors. The Egyptians used the root of the rubia, or madder plant, to make a dye, later known as alizarin, and also used it to color white power to use as a pigment, which became known as madder lake, alizarin or alizarin crimson. question: When did Egyptians start to make red pigment?\n",
      "Output: answer: 4000 BC\n",
      "\n",
      "Input: context: The English Province was a component of the international order from which it obtained its laws, direction, and instructions. It was also, however, a group of Englishmen. Its direct supervisors were from England, and the members of the English Province dwelt and labored in English cities, towns, villages, and roadways. English and European ingredients constantly came in contact. The international side of the province's existence influenced the national, and the national responded to, adapted, and sometimes constrained the international. question: The Dominican Order in England was controlled by who?\n",
      "Output: answer: Englishmen\n",
      "\n",
      "Input: context: Some high mountain villages, such as Avoriaz (in France), Wengen, and Zermatt (in Switzerland) are accessible only by cable car or cog-rail trains, and are car free. Other villages in the Alps are considering becoming car free zones or limiting the number of cars for reasons of sustainability of the fragile Alpine terrain. question: Why are villages considering becoming car free zones?\n",
      "Output: answer: reasons of sustainability\n",
      "\n",
      "Input: context: He does not argue that any such conclusions are therefore true, or that this describes the actual methods of any particular scientist.[citation needed] Rather, it is recommended as an essential principle of methodology that, if enacted by a system or community, will lead to slow but steady progress of a sort (relative to how well the system or community enacts the method). It has been suggested that Popper's ideas are often mistaken for a hard logical account of truth because of the historical co-incidence of their appearing at the same time as logical positivism, the followers of which mistook his aims for their own. question: What kind of progress does science make given the methodology Popper describes?\n",
      "Output: answer: slow but steady\n",
      "\n",
      "--------------------------------------------------\n",
      "Print first 5 examples of valid_dataloader\n",
      "Valid examples:\n",
      "Input: context: Super Bowl 50 was an American football game to determine the champion of the National Football League (NFL) for the 2015 season. The American Football Conference (AFC) champion Denver Broncos defeated the National Football Conference (NFC) champion Carolina Panthers 24–10 to earn their third Super Bowl title. The game was played on February 7, 2016, at Levi's Stadium in the San Francisco Bay Area at Santa Clara, California. As this was the 50th Super Bowl, the league emphasized the \"golden anniversary\" with various gold-themed initiatives, as well as temporarily suspending the tradition of naming each Super Bowl game with Roman numerals (under which the game would have been known as \"Super Bowl L\"), so that the logo could prominently feature the Arabic numerals 50. question: Which NFL team represented the AFC at Super Bowl 50?\n",
      "Output: answer: Denver Broncos | Denver Broncos | Denver Broncos\n",
      "\n",
      "Input: context: Super Bowl 50 was an American football game to determine the champion of the National Football League (NFL) for the 2015 season. The American Football Conference (AFC) champion Denver Broncos defeated the National Football Conference (NFC) champion Carolina Panthers 24–10 to earn their third Super Bowl title. The game was played on February 7, 2016, at Levi's Stadium in the San Francisco Bay Area at Santa Clara, California. As this was the 50th Super Bowl, the league emphasized the \"golden anniversary\" with various gold-themed initiatives, as well as temporarily suspending the tradition of naming each Super Bowl game with Roman numerals (under which the game would have been known as \"Super Bowl L\"), so that the logo could prominently feature the Arabic numerals 50. question: What year did the Denver Broncos secure a Super Bowl title for the third time?\n",
      "Output: answer: 2015 | 2016 | 2015\n",
      "\n",
      "Input: context: The Panthers finished the regular season with a 15–1 record, and quarterback Cam Newton was named the NFL Most Valuable Player (MVP). They defeated the Arizona Cardinals 49–15 in the NFC Championship Game and advanced to their second Super Bowl appearance since the franchise was founded in 1995. The Broncos finished the regular season with a 12–4 record, and denied the New England Patriots a chance to defend their title from Super Bowl XLIX by defeating them 20–18 in the AFC Championship Game. They joined the Patriots, Dallas Cowboys, and Pittsburgh Steelers as one of four teams that have made eight appearances in the Super Bowl. question: What year was the Carolina Panthers franchise founded?\n",
      "Output: answer: 1995 | 1995 | 1995\n",
      "\n",
      "Input: context: The Panthers finished the regular season with a 15–1 record, and quarterback Cam Newton was named the NFL Most Valuable Player (MVP). They defeated the Arizona Cardinals 49–15 in the NFC Championship Game and advanced to their second Super Bowl appearance since the franchise was founded in 1995. The Broncos finished the regular season with a 12–4 record, and denied the New England Patriots a chance to defend their title from Super Bowl XLIX by defeating them 20–18 in the AFC Championship Game. They joined the Patriots, Dallas Cowboys, and Pittsburgh Steelers as one of four teams that have made eight appearances in the Super Bowl. question: Who did Denver beat in the AFC championship?\n",
      "Output: answer: New England Patriots | the New England Patriots | New England Patriots\n",
      "\n",
      "Input: context: The Broncos took an early lead in Super Bowl 50 and never trailed. Newton was limited by Denver's defense, which sacked him seven times and forced him into three turnovers, including a fumble which they recovered for a touchdown. Denver linebacker Von Miller was named Super Bowl MVP, recording five solo tackles, 212 sacks, and two forced fumbles. question: How many fumbles did Von Miller force?\n",
      "Output: answer: two | two | two\n",
      "\n"
     ]
    }
   ]
  },
  {
   "cell_type": "markdown",
   "metadata": {
    "id": "37XBj09AVqvi"
   },
   "source": [
    "### Training Parameters"
   ]
  },
  {
   "cell_type": "code",
   "metadata": {
    "id": "SIZFbP4IDXOO",
    "outputId": "515fdeb6-9b4c-4482-dc36-38bab8d39de0",
    "colab": {
     "base_uri": "https://localhost:8080/"
    }
   },
   "source": [
    "import numpy as np\n",
    "# warmup_steps = 1e4\n",
    "# encoder_max_len = 250\n",
    "# decoder_max_len = 54\n",
    "# buffer_size = 1000\n",
    "ntrain = len(train_dataset)\n",
    "nvalid = len(validation_dataset)\n",
    "steps = int(np.ceil(ntrain/batch_size))\n",
    "valid_steps = int(np.ceil(nvalid/batch_size))\n",
    "print(\"Total Steps: \", steps)\n",
    "print(\"Total Validation Steps: \", valid_steps)"
   ],
   "execution_count": 70,
   "outputs": [
    {
     "name": "stdout",
     "output_type": "stream",
     "text": [
      "Total Steps:  5475\n",
      "Total Validation Steps:  661\n"
     ]
    }
   ]
  },
  {
   "cell_type": "markdown",
   "metadata": {
    "id": "XCoHLlLWVqvk"
   },
   "source": [
    "### Defining the data pipeline"
   ]
  },
  {
   "cell_type": "code",
   "source": [
    "# You can change these values according to your needs\n",
    "warmup_steps = 1e4 # Number of steps for the warmup phase\n",
    "initial_lr = 0.01 # Initial learning rate\n",
    "lr = 0.01 # Learning rate\n",
    "\n",
    "# Define a custom function for the learning rate decay\n",
    "def lr_lambda(step):\n",
    "  m = max(warmup_steps, step)\n",
    "  lr = initial_lr / math.sqrt(m)\n",
    "  return lr\n",
    "\n",
    "# Create an optimizer object using torch.optim.Adam\n",
    "optimizer = torch.optim.Adam(model.parameters(), lr=lr)\n",
    "\n",
    "# Create a LambdaLR object and pass it your optimizer\n",
    "scheduler = torch.optim.lr_scheduler.LambdaLR(optimizer, lr_lambda)"
   ],
   "metadata": {
    "id": "y6p-5zuyLJR9"
   },
   "execution_count": 72,
   "outputs": []
  },
  {
   "cell_type": "code",
   "source": [
    "# Create a SummaryWriter object and pass it the log_path\n",
    "log_path = \"./dataClosed/experiments/t5/logs\"\n",
    "writer = SummaryWriter(log_path)\n",
    "\n",
    "# Write your own custom logging functions\n",
    "def log_scalar(tag, value, step):\n",
    "  # Log a scalar value\n",
    "  writer.add_scalar(tag, value, step)\n",
    "\n",
    "def log_histogram(tag, values, step):\n",
    "  # Log a histogram of tensor values\n",
    "  writer.add_histogram(tag, values, step)\n",
    "\n",
    "def log_graph(model, input):\n",
    "  # Log the model graph\n",
    "  writer.add_graph(model, input)\n",
    "\n",
    "# Write your own custom saving function\n",
    "def save_model(model, epoch, val_loss, val_accuracy, val_f1):\n",
    "  # Save the model checkpoint\n",
    "  checkpoint_filepath = f\"./dataClosed/experiments/t5/T5-{epoch:04d}-{val_loss:.4f}-{val_accuracy:.4f}-{val_f1:.4f}.ckpt\"\n",
    "  torch.save(model.state_dict(), checkpoint_filepath)"
   ],
   "metadata": {
    "id": "5t0xLcEcLMq2"
   },
   "execution_count": 73,
   "outputs": []
  },
  {
   "cell_type": "markdown",
   "metadata": {
    "id": "cgxRVn34Z0wb"
   },
   "source": [
    "### Training"
   ]
  },
  {
   "cell_type": "code",
   "source": [
    "batch_size=16\n",
    "vocab_size=32128\n",
    "num_classes = 32128\n",
    "num_epochs = 5"
   ],
   "metadata": {
    "id": "44QdWJEMdp7t"
   },
   "execution_count": 74,
   "outputs": []
  },
  {
   "cell_type": "code",
   "metadata": {
    "id": "h8k7XV9coBwZ",
    "colab": {
     "base_uri": "https://localhost:8080/"
    },
    "outputId": "516cd394-587c-4143-c126-473175352078"
   },
   "source": [
    "num_classes = 32128\n",
    "# create an F1Score instance and move it to the same device as the input tensors\n",
    "f1_score = torchmetrics.F1Score(task='multiclass', num_classes=num_classes)\n",
    "f1_score = f1_score.to(device)\n",
    "# create an Accuracy instance and move it to the same device as the input tensors\n",
    "accuracy = torchmetrics.Accuracy(task='multiclass', num_classes=num_classes)\n",
    "accuracy = accuracy.to(device)\n",
    "\n",
    "num_epochs = 30\n",
    "for epoch in range(num_epochs):\n",
    "  # create a tqdm progress bar for the training loop\n",
    "  train_pbar = tqdm(train_dataloader, desc=f\"Epoch {epoch+1}, Train\")\n",
    "  for input_ids, output_ids in train_pbar:\n",
    "\n",
    "    model.zero_grad()\n",
    "    input_ids = input_ids.to(device)\n",
    "    output_ids = output_ids.to(device)\n",
    "    input_ids = input_ids.view(batch_size, seq_length)\n",
    "    output_ids = output_ids.view(batch_size, seq_length)\n",
    "    outputs = model(input_ids=input_ids, labels=output_ids)\n",
    "    loss = outputs.loss\n",
    "    logits = outputs.logits\n",
    "    loss.backward()\n",
    "    optimizer.step()\n",
    "    scheduler.step()\n",
    "    # flatten inputs and pass them to F1Score and Accuracy\n",
    "    logits = logits.view(-1, num_classes)\n",
    "    output_ids = output_ids.view(-1)\n",
    "    train_f1 = f1_score(logits, output_ids)\n",
    "    train_acc = accuracy(logits, output_ids)\n",
    "    # update the progress bar with the metrics\n",
    "    train_pbar.set_postfix({\"loss\": loss.item(), \"f1\": train_f1.item(), \"acc\": train_acc.item()})\n",
    "  valid_loss = 0.0\n",
    "  valid_f1 = 0.0\n",
    "  valid_acc = 0.0\n",
    "  # create a tqdm progress bar for the validation loop\n",
    "  valid_pbar = tqdm(valid_dataloader, desc=f\"Epoch {epoch+1}, Valid\")\n",
    "  with torch.no_grad():\n",
    "    for input_ids, output_ids in valid_pbar:\n",
    "      input_ids = input_ids.to(device)\n",
    "      output_ids = output_ids.to(device)\n",
    "      input_ids = input_ids.view(batch_size, seq_length)\n",
    "      output_ids = output_ids.view(batch_size, seq_length)\n",
    "      outputs = model(input_ids=input_ids, labels=output_ids)\n",
    "      loss = outputs.loss\n",
    "      logits = outputs.logits\n",
    "      valid_loss += loss.item()\n",
    "      # flatten inputs and pass them to F1Score and Accuracy\n",
    "      logits = logits.view(-1, num_classes)\n",
    "      output_ids = output_ids.view(-1)\n",
    "      valid_f1 += f1_score(logits, output_ids).item()\n",
    "      valid_acc += accuracy(logits, output_ids).item()\n",
    "      # update the progress bar with the metrics\n",
    "      valid_pbar.set_postfix({\"loss\": loss.item(), \"f1\": f1_score(logits, output_ids).item(), \"acc\": accuracy(logits, output_ids).item()})\n",
    "    valid_loss /= len(valid_dataloader)\n",
    "    valid_f1 /= len(valid_dataloader)\n",
    "    valid_acc /= len(valid_dataloader)\n",
    "  if epoch == 0 or valid_loss < best_valid_loss:\n",
    "    best_valid_loss = valid_loss\n",
    "    save_model(model, epoch, valid_loss, valid_acc, valid_f1)\n",
    "  f1_score.reset()\n",
    "  accuracy.reset()"
   ],
   "execution_count": 75,
   "outputs": [
    {
     "name": "stderr",
     "output_type": "stream",
     "text": [
      "Epoch 1, Train:   0%|          | 0/5474 [00:00<?, ?it/s]/Users/ubs/miniforge3/envs/mlp/lib/python3.8/site-packages/torchmetrics/functional/classification/f_beta.py:50: UserWarning: MPS: no support for int64 reduction ops, casting it to int32 (Triggered internally at /Users/runner/work/pytorch/pytorch/pytorch/aten/src/ATen/native/mps/operations/ReduceOps.mm:144.)\n",
      "  tp = tp.sum(dim=0 if multidim_average == \"global\" else 1)\n",
      "Epoch 1, Train: 100%|██████████| 5474/5474 [12:18:31<00:00,  8.09s/it, loss=0.00619, f1=0.998, acc=0.998]  \n",
      "Epoch 1, Valid: 100%|██████████| 660/660 [11:33<00:00,  1.05s/it, loss=0.095, f1=0.985, acc=0.985] \n",
      "Epoch 2, Train: 100%|██████████| 5474/5474 [7:42:49<00:00,  5.07s/it, loss=0.00338, f1=0.999, acc=0.999]     \n",
      "Epoch 2, Valid: 100%|██████████| 660/660 [11:46<00:00,  1.07s/it, loss=0.0949, f1=0.984, acc=0.984]\n",
      "Epoch 3, Train: 100%|██████████| 5474/5474 [16:16:25<00:00, 10.70s/it, loss=0.00452, f1=0.999, acc=0.999]     \n",
      "Epoch 3, Valid: 100%|██████████| 660/660 [11:38<00:00,  1.06s/it, loss=0.0979, f1=0.984, acc=0.984]\n",
      "Epoch 4, Train:  12%|█▏        | 633/5474 [47:31<6:03:23,  4.50s/it, loss=0.000845, f1=1, acc=1]       \n"
     ]
    },
    {
     "ename": "KeyboardInterrupt",
     "evalue": "",
     "output_type": "error",
     "traceback": [
      "\u001B[0;31m---------------------------------------------------------------------------\u001B[0m",
      "\u001B[0;31mKeyboardInterrupt\u001B[0m                         Traceback (most recent call last)",
      "Cell \u001B[0;32mIn[75], line 25\u001B[0m\n\u001B[1;32m     23\u001B[0m loss \u001B[38;5;241m=\u001B[39m outputs\u001B[38;5;241m.\u001B[39mloss\n\u001B[1;32m     24\u001B[0m logits \u001B[38;5;241m=\u001B[39m outputs\u001B[38;5;241m.\u001B[39mlogits\n\u001B[0;32m---> 25\u001B[0m \u001B[43mloss\u001B[49m\u001B[38;5;241;43m.\u001B[39;49m\u001B[43mbackward\u001B[49m\u001B[43m(\u001B[49m\u001B[43m)\u001B[49m\n\u001B[1;32m     26\u001B[0m optimizer\u001B[38;5;241m.\u001B[39mstep()\n\u001B[1;32m     27\u001B[0m scheduler\u001B[38;5;241m.\u001B[39mstep()\n",
      "File \u001B[0;32m~/miniforge3/envs/mlp/lib/python3.8/site-packages/torch/_tensor.py:487\u001B[0m, in \u001B[0;36mTensor.backward\u001B[0;34m(self, gradient, retain_graph, create_graph, inputs)\u001B[0m\n\u001B[1;32m    477\u001B[0m \u001B[38;5;28;01mif\u001B[39;00m has_torch_function_unary(\u001B[38;5;28mself\u001B[39m):\n\u001B[1;32m    478\u001B[0m     \u001B[38;5;28;01mreturn\u001B[39;00m handle_torch_function(\n\u001B[1;32m    479\u001B[0m         Tensor\u001B[38;5;241m.\u001B[39mbackward,\n\u001B[1;32m    480\u001B[0m         (\u001B[38;5;28mself\u001B[39m,),\n\u001B[0;32m   (...)\u001B[0m\n\u001B[1;32m    485\u001B[0m         inputs\u001B[38;5;241m=\u001B[39minputs,\n\u001B[1;32m    486\u001B[0m     )\n\u001B[0;32m--> 487\u001B[0m \u001B[43mtorch\u001B[49m\u001B[38;5;241;43m.\u001B[39;49m\u001B[43mautograd\u001B[49m\u001B[38;5;241;43m.\u001B[39;49m\u001B[43mbackward\u001B[49m\u001B[43m(\u001B[49m\n\u001B[1;32m    488\u001B[0m \u001B[43m    \u001B[49m\u001B[38;5;28;43mself\u001B[39;49m\u001B[43m,\u001B[49m\u001B[43m \u001B[49m\u001B[43mgradient\u001B[49m\u001B[43m,\u001B[49m\u001B[43m \u001B[49m\u001B[43mretain_graph\u001B[49m\u001B[43m,\u001B[49m\u001B[43m \u001B[49m\u001B[43mcreate_graph\u001B[49m\u001B[43m,\u001B[49m\u001B[43m \u001B[49m\u001B[43minputs\u001B[49m\u001B[38;5;241;43m=\u001B[39;49m\u001B[43minputs\u001B[49m\n\u001B[1;32m    489\u001B[0m \u001B[43m\u001B[49m\u001B[43m)\u001B[49m\n",
      "File \u001B[0;32m~/miniforge3/envs/mlp/lib/python3.8/site-packages/torch/autograd/__init__.py:200\u001B[0m, in \u001B[0;36mbackward\u001B[0;34m(tensors, grad_tensors, retain_graph, create_graph, grad_variables, inputs)\u001B[0m\n\u001B[1;32m    195\u001B[0m     retain_graph \u001B[38;5;241m=\u001B[39m create_graph\n\u001B[1;32m    197\u001B[0m \u001B[38;5;66;03m# The reason we repeat same the comment below is that\u001B[39;00m\n\u001B[1;32m    198\u001B[0m \u001B[38;5;66;03m# some Python versions print out the first line of a multi-line function\u001B[39;00m\n\u001B[1;32m    199\u001B[0m \u001B[38;5;66;03m# calls in the traceback and some print out the last line\u001B[39;00m\n\u001B[0;32m--> 200\u001B[0m \u001B[43mVariable\u001B[49m\u001B[38;5;241;43m.\u001B[39;49m\u001B[43m_execution_engine\u001B[49m\u001B[38;5;241;43m.\u001B[39;49m\u001B[43mrun_backward\u001B[49m\u001B[43m(\u001B[49m\u001B[43m  \u001B[49m\u001B[38;5;66;43;03m# Calls into the C++ engine to run the backward pass\u001B[39;49;00m\n\u001B[1;32m    201\u001B[0m \u001B[43m    \u001B[49m\u001B[43mtensors\u001B[49m\u001B[43m,\u001B[49m\u001B[43m \u001B[49m\u001B[43mgrad_tensors_\u001B[49m\u001B[43m,\u001B[49m\u001B[43m \u001B[49m\u001B[43mretain_graph\u001B[49m\u001B[43m,\u001B[49m\u001B[43m \u001B[49m\u001B[43mcreate_graph\u001B[49m\u001B[43m,\u001B[49m\u001B[43m \u001B[49m\u001B[43minputs\u001B[49m\u001B[43m,\u001B[49m\n\u001B[1;32m    202\u001B[0m \u001B[43m    \u001B[49m\u001B[43mallow_unreachable\u001B[49m\u001B[38;5;241;43m=\u001B[39;49m\u001B[38;5;28;43;01mTrue\u001B[39;49;00m\u001B[43m,\u001B[49m\u001B[43m \u001B[49m\u001B[43maccumulate_grad\u001B[49m\u001B[38;5;241;43m=\u001B[39;49m\u001B[38;5;28;43;01mTrue\u001B[39;49;00m\u001B[43m)\u001B[49m\n",
      "\u001B[0;31mKeyboardInterrupt\u001B[0m: "
     ]
    }
   ]
  },
  {
   "cell_type": "markdown",
   "source": [],
   "metadata": {
    "collapsed": false
   }
  },
  {
   "cell_type": "markdown",
   "metadata": {
    "id": "5cza3w1FVqwG"
   },
   "source": [
    "### Lets test our model!!"
   ]
  },
  {
   "cell_type": "code",
   "source": [
    "from datetime import datetime\n",
    "dt = datetime.now()\n",
    "path_of_saved_model = \"./dataClosed/models/squad_\"+model_name+\"_\"+str(dt)+\".ckpt\""
   ],
   "metadata": {
    "id": "_kr6C8gpkL46"
   },
   "execution_count": null,
   "outputs": []
  },
  {
   "cell_type": "code",
   "source": [
    "# model = T5ForConditionalGeneration.from_pretrained(path_of_saved_model)\n",
    "model = T5ForConditionalGeneration.from_pretrained(\"/content/gdrive/My Drive/pre/itu-t5-base\")\n",
    "# model.to(device)"
   ],
   "metadata": {
    "id": "UQrO3oTrfUc4"
   },
   "execution_count": null,
   "outputs": []
  },
  {
   "cell_type": "code",
   "source": [
    "model.load_state_dict(torch.load(path_of_saved_model))"
   ],
   "metadata": {
    "colab": {
     "base_uri": "https://localhost:8080/"
    },
    "id": "fsy2ogYbfUq_",
    "outputId": "4b32ad66-f886-42b6-ea03-53d3c85a50ea"
   },
   "execution_count": null,
   "outputs": [
    {
     "output_type": "execute_result",
     "data": {
      "text/plain": [
       "<All keys matched successfully>"
      ]
     },
     "metadata": {},
     "execution_count": 26
    }
   ]
  },
  {
   "cell_type": "code",
   "source": [
    "\n",
    "question = \"Where is Information Technology University located?\"\n",
    "print(question)\n",
    "\n",
    "input_text =  f\"question: {question} </s>\"\n",
    "encoded_query = tokenizer(input_text,  return_tensors='pt', padding='max_length', truncation=True, max_length=128)\n",
    "input_ids = encoded_query[\"input_ids\"]\n",
    "\n",
    "generated_answer = model.generate(input_ids,  max_length=128, top_p=0.95, top_k=50, repetition_penalty=2.0)\n",
    "decoded_answer = tokenizer.decode(generated_answer[0])\n",
    "\n",
    "print(\"Answer: \", decoded_answer)"
   ],
   "metadata": {
    "colab": {
     "base_uri": "https://localhost:8080/"
    },
    "id": "nr0lRQJ8ZmN_",
    "outputId": "4c2a87be-c2ec-45ff-c5aa-9d8145ce46f0"
   },
   "execution_count": null,
   "outputs": [
    {
     "output_type": "stream",
     "name": "stdout",
     "text": [
      "Where is Information Technology University located?\n",
      "Answer:  <pad> Toronto</s>\n"
     ]
    }
   ]
  },
  {
   "cell_type": "code",
   "source": [
    "question = \"Who is the associate professor of computer science department?\"\n",
    "print(question)\n",
    "\n",
    "input_text =  f\"question: {question} </s>\"\n",
    "encoded_query = tokenizer(input_text,  return_tensors='pt', padding='max_length', truncation=True, max_length=128)\n",
    "input_ids = encoded_query[\"input_ids\"]\n",
    "\n",
    "generated_answer = model.generate(input_ids,  max_length=128, top_p=0.95, top_k=50, repetition_penalty=2.0)\n",
    "decoded_answer = tokenizer.decode(generated_answer[0])\n",
    "\n",
    "print(\"Answer: \", decoded_answer)\n"
   ],
   "metadata": {
    "colab": {
     "base_uri": "https://localhost:8080/"
    },
    "id": "C_bQcp2QfmCk",
    "outputId": "154ea271-b26d-4a66-ab43-b1e800fec56b"
   },
   "execution_count": null,
   "outputs": [
    {
     "output_type": "stream",
     "name": "stdout",
     "text": [
      "Who is the associate professor of computer science department?\n",
      "Answer:  <pad> dr.</s>\n"
     ]
    }
   ]
  },
  {
   "cell_type": "code",
   "source": [
    "question = \"Where is ITU's Admissions Office located?\"\n",
    "\n",
    "print(question)\n",
    "\n",
    "input_text =  f\"question: {question} </s>\"\n",
    "encoded_query = tokenizer(input_text,  return_tensors='pt', padding='max_length', truncation=True, max_length=128)\n",
    "input_ids = encoded_query[\"input_ids\"]\n",
    "\n",
    "generated_answer = model.generate(input_ids,  max_length=128, top_p=0.95, top_k=50, repetition_penalty=2.0)\n",
    "decoded_answer = tokenizer.decode(generated_answer[0])\n",
    "\n",
    "print(\"Answer: \", decoded_answer)\n"
   ],
   "metadata": {
    "colab": {
     "base_uri": "https://localhost:8080/"
    },
    "id": "sop7zH0df1T7",
    "outputId": "5962f64e-3202-42ff-ff01-a257985c3f70"
   },
   "execution_count": null,
   "outputs": [
    {
     "output_type": "stream",
     "name": "stdout",
     "text": [
      "Where is ITU's Admissions Office located?\n",
      "Answer:  <pad> where is the ITU's Admissions Office</s>\n"
     ]
    }
   ]
  },
  {
   "cell_type": "code",
   "source": [],
   "metadata": {
    "id": "3OpNZ4jcgb09"
   },
   "execution_count": null,
   "outputs": []
  }
 ]
}
