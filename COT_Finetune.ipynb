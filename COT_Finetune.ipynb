{
 "cells": [
  {
   "attachments": {},
   "cell_type": "markdown",
   "metadata": {
    "id": "sMcf-kxSVqvD"
   },
   "source": [
    "# COT Finetuning and Comparison"
   ]
  },
  {
   "attachments": {},
   "cell_type": "markdown",
   "metadata": {
    "collapsed": false
   },
   "source": [
    "## Environment Setup"
   ]
  },
  {
   "attachments": {},
   "cell_type": "markdown",
   "metadata": {
    "id": "jZ7iM__QWL96"
   },
   "source": [
    "### Installation"
   ]
  },
  {
   "cell_type": "code",
   "execution_count": null,
   "metadata": {},
   "outputs": [],
   "source": [
    "# !pip install datasets==2.12.0"
   ]
  },
  {
   "cell_type": "code",
   "execution_count": 17,
   "metadata": {
    "id": "dEutWnhiWRAq",
    "scrolled": true
   },
   "outputs": [],
   "source": [
    "# from IPython.display import clear_output\n",
    "# !pip install transformers\n",
    "\n",
    "# !pip install torchmetrics\n",
    "# !pip install SentencePiece\n",
    "# !pip install accelerate\n",
    "# !pip install tensorboard\n",
    "# !pip install protobuf==3.20\n",
    "# !pip install scikit-learn\n",
    "# !pip install matplotlib\n",
    "\n",
    "# clear_output()\n",
    "\n"
   ]
  },
  {
   "attachments": {},
   "cell_type": "markdown",
   "metadata": {
    "collapsed": false
   },
   "source": [
    "### Importing Libraries"
   ]
  },
  {
   "cell_type": "code",
   "execution_count": 2,
   "metadata": {
    "id": "6aWoa3AtDXN0"
   },
   "outputs": [],
   "source": [
    "from datasets import load_dataset\n",
    "# import tensorflow as tf\n",
    "import numpy as np\n",
    "import matplotlib.pyplot as plt\n",
    "# import tensorflow_datasets as tfds\n",
    "import transformers\n",
    "import datasets\n",
    "from transformers import AutoTokenizer, TFT5ForConditionalGeneration\n",
    "import datetime\n",
    "import os\n",
    "# %load_ext tensorboard\n",
    "import math\n",
    "import torch.optim\n",
    "import torch\n",
    "from torch.utils.tensorboard import SummaryWriter\n",
    "import torchmetrics\n",
    "import torch\n",
    "from tqdm import tqdm\n",
    "# from transformers import T5ForConditionalGeneration\n",
    "import torch.nn as nn\n",
    "from transformers import AutoModelForSeq2SeqLM, AutoTokenizer\n",
    "from torch.utils.data import Dataset, DataLoader\n",
    "import csv\n",
    "\n"
   ]
  },
  {
   "attachments": {},
   "cell_type": "markdown",
   "metadata": {
    "collapsed": false
   },
   "source": [
    "### Checking Versions and Device"
   ]
  },
  {
   "cell_type": "code",
   "execution_count": 3,
   "metadata": {
    "colab": {
     "base_uri": "https://localhost:8080/"
    },
    "id": "H2VOogIEmsJP",
    "outputId": "0cb9e79d-12ae-4eeb-a963-0a31100479f6"
   },
   "outputs": [
    {
     "name": "stdout",
     "output_type": "stream",
     "text": [
      "PyTorch:  2.0.1+cpu\n",
      "Transformers:  4.29.2\n",
      "Datasets:  2.12.0\n",
      "Using CPU\n"
     ]
    }
   ],
   "source": [
    "# Check PyTorch version\n",
    "torch_version = torch.__version__\n",
    "print(\"PyTorch: \", torch_version)\n",
    "\n",
    "# Check Transformers version\n",
    "transformers_version = transformers.__version__\n",
    "print(\"Transformers: \", transformers_version)\n",
    "\n",
    "# Check Datasets version\n",
    "datasets_version = datasets.__version__\n",
    "print(\"Datasets: \", datasets_version)\n",
    "\n",
    "\n",
    "# Get the GPU device\n",
    "DEVICE = \"cpu\"\n",
    "if torch.cuda.is_available():\n",
    "    DEVICE = \"cuda:0\"\n",
    "elif torch.backends.mps.is_available():\n",
    "    DEVICE = \"mps\"\n",
    "\n",
    "device = torch.device(DEVICE)\n",
    "\n",
    "# Check if the device is available\n",
    "if device.type == \"cuda\":\n",
    "    print(\"Using GPU\")\n",
    "elif device.type == \"mps\":\n",
    "    print(\"Using Macbook GPU\")\n",
    "else:\n",
    "    print(\"Using CPU\")\n",
    "# # Check if TensorFlow version is 2.3+\n",
    "# tf_version_split = tf_version.split('.')\n",
    "# assert int(tf_version_split[0]) == 2 and int(tf_version_split[-2]) >= 3, f\"Tensorflow version should be '2.3+,x', given {tf_version}\""
   ]
  },
  {
   "attachments": {},
   "cell_type": "markdown",
   "metadata": {
    "collapsed": false
   },
   "source": [
    "### Hyper parameters"
   ]
  },
  {
   "cell_type": "code",
   "execution_count": 4,
   "metadata": {
    "colab": {
     "base_uri": "https://localhost:8080/"
    },
    "id": "OyHbWsh9W6-4",
    "outputId": "a0bc9984-39c4-4caf-f6eb-b2a5195178bf"
   },
   "outputs": [],
   "source": [
    "# !ls -a\n",
    "if os.path.exists(\"./output\") == False:\n",
    "    !mkdir output\n",
    "# model_name = \"t5-base\"\n",
    "model_name = \"google/t5-v1_1-base\"\n",
    "model_folder_name =\"t5-v1_1-base\"\n",
    "# model_name = \"google/flan-t5-base\"\n",
    "seq_length = 512\n",
    "\n",
    "\n",
    "# Data Loader Parameters\n",
    "batch_size = 4 #16\n",
    "num_workers = 0 # 0 for macbook\n",
    "pin_memory = False #False for GPU on COLAB\n",
    "\n",
    "# Training\n",
    "# You can change these values according to your needs\n",
    "warmup_steps = 1e4 # Number of steps for the warmup phase\n",
    "initial_lr = 0.01 # Initial learning rate\n",
    "lr = 0.01 # Learning rate\n",
    "num_epochs = 50\n",
    "\n",
    "data_dir = \"./output\"\n",
    "if os.path.exists(f\"{data_dir}/experiments\") ==False:\n",
    "    os.mkdir(f\"{data_dir}/experiments\")\n",
    "\n",
    "if os.path.exists(f\"{data_dir}/experiments/{model_folder_name}\")==False:\n",
    "    os.mkdir(f\"{data_dir}/experiments/{model_folder_name}\")\n",
    "\n",
    "if os.path.exists(f\"{data_dir}/cache\")==False:\n",
    "    os.mkdir(f\"{data_dir}/cache\")\n",
    "\n",
    "if os.path.exists(f\"{data_dir}/cache/{model_folder_name}\")==False:\n",
    "    os.mkdir(f\"{data_dir}/cache/{model_folder_name}\")\n",
    "\n",
    "\n",
    "log_dir = f\"{data_dir}/experiments/{model_folder_name}/logs\"\n",
    "save_path = f\"{data_dir}/experiments/{model_folder_name}/models\"\n",
    "cache_path_train = f\"{data_dir}/cache/{model_folder_name}.train\"\n",
    "cache_path_test = f\"{data_dir}/cache/{model_folder_name}.test\"\n",
    "\n",
    "if os.path.exists(save_path) == False:\n",
    "    os.mkdir(save_path)"
   ]
  },
  {
   "attachments": {},
   "cell_type": "markdown",
   "metadata": {
    "collapsed": false
   },
   "source": [
    "## Dataset\n",
    "### Loading Dataset for COT"
   ]
  },
  {
   "cell_type": "code",
   "execution_count": 5,
   "metadata": {
    "collapsed": false
   },
   "outputs": [
    {
     "name": "stdout",
     "output_type": "stream",
     "text": [
      "{'input': 'Passage: Webbed toes is the common name for syndactyly affecting the feet. It is characterised by the fusion of two or more digits of the feet. This is normal in many birds, such as ducks; amphibians, such as frogs; and mammals, such as kangaroos. In humans it is considered unusual, occurring in approximately one in 2,000 to 2,500 live births.\\\\n\\\\nQuestion: Based on this passage, what is the medical term for webbed toes?', 'output': 'syndactyly affecting the feet. The relevant information is: Webbed toes is the common name for syndactyly affecting the feet.'}\n",
      "Dataset({\n",
      "    features: ['input', 'output'],\n",
      "    num_rows: 4123\n",
      "})\n",
      "Dataset({\n",
      "    features: ['input', 'output'],\n",
      "    num_rows: 1031\n",
      "})\n"
     ]
    }
   ],
   "source": [
    "# Read the  file and creating Training and Validation Datasets\n",
    "import json\n",
    "from datasets import Dataset as DatasetConvertor\n",
    "import csv\n",
    "def readDataset  (file_path):\n",
    "    data = []\n",
    "    with open(file_path, 'r') as f:\n",
    "        lines = csv.reader(f,delimiter =\"\\t\", quotechar = '\"')\n",
    "        for line in lines:\n",
    "            data.append({ \"input\" :line[0], \"output\": (line[1]+\". \" + line[2]) })\n",
    "    return  data\n",
    "\n",
    "complete_data = readDataset(\"./Dataset/qed_train.tsv\")\n",
    "print(complete_data[0])\n",
    "complete_dataset = DatasetConvertor.from_list(complete_data)\n",
    "\n",
    "# print ( complete_dataset)\n",
    "from sklearn.model_selection import train_test_split\n",
    "train_data, validation_data = train_test_split(complete_data, test_size=0.2, random_state=0)\n",
    "\n",
    "# print (train_data)\n",
    "# print (validation_data)\n",
    "train_dataset = DatasetConvertor.from_list(train_data)\n",
    "validation_dataset = DatasetConvertor.from_list(validation_data)\n",
    "\n",
    "print(train_dataset)\n",
    "print(validation_dataset)\n"
   ]
  },
  {
   "attachments": {},
   "cell_type": "markdown",
   "metadata": {
    "collapsed": false
   },
   "source": [
    "\n",
    "### Visualise Data"
   ]
  },
  {
   "cell_type": "code",
   "execution_count": 6,
   "metadata": {
    "collapsed": false
   },
   "outputs": [
    {
     "data": {
      "text/plain": [
       "{'input': 'Clinicians classify cardiac arrest into \"shockable\" versus \"non -- shockable\", as determined by the ECG rhythm. This refers to whether a particular class of cardiac dysrhythmia is treatable using defibrillation. The two \"shockable\" rhythms are ventricular fibrillation and pulseless ventricular tachycardia while the two \"non -- shockable\" rhythms are asystole and pulseless electrical activity.\\\\n\\\\nAnswer this question: what are the two shockable rhythms in cardiac arrest?',\n",
       " 'output': 'ventricular fibrillation and pulseless ventricular tachycardia. This is the relevant information: The two \"shockable\" rhythms are ventricular fibrillation and pulseless ventricular tachycardia while the two \"non -- shockable\" rhythms are asystole and pulseless electrical activity.'}"
      ]
     },
     "execution_count": 6,
     "metadata": {},
     "output_type": "execute_result"
    }
   ],
   "source": [
    "validation_dataset[2]"
   ]
  },
  {
   "attachments": {},
   "cell_type": "markdown",
   "metadata": {
    "collapsed": false
   },
   "source": [
    "## Pipeline\n",
    "### The Tokenizer and Model"
   ]
  },
  {
   "cell_type": "code",
   "execution_count": 7,
   "metadata": {
    "collapsed": false
   },
   "outputs": [
    {
     "name": "stdout",
     "output_type": "stream",
     "text": [
      "T5TokenizerFast(name_or_path='google/t5-v1_1-base', vocab_size=32100, model_max_length=512, is_fast=True, padding_side='right', truncation_side='right', special_tokens={'eos_token': '</s>', 'unk_token': '<unk>', 'pad_token': '<pad>', 'additional_special_tokens': ['<extra_id_0>', '<extra_id_1>', '<extra_id_2>', '<extra_id_3>', '<extra_id_4>', '<extra_id_5>', '<extra_id_6>', '<extra_id_7>', '<extra_id_8>', '<extra_id_9>', '<extra_id_10>', '<extra_id_11>', '<extra_id_12>', '<extra_id_13>', '<extra_id_14>', '<extra_id_15>', '<extra_id_16>', '<extra_id_17>', '<extra_id_18>', '<extra_id_19>', '<extra_id_20>', '<extra_id_21>', '<extra_id_22>', '<extra_id_23>', '<extra_id_24>', '<extra_id_25>', '<extra_id_26>', '<extra_id_27>', '<extra_id_28>', '<extra_id_29>', '<extra_id_30>', '<extra_id_31>', '<extra_id_32>', '<extra_id_33>', '<extra_id_34>', '<extra_id_35>', '<extra_id_36>', '<extra_id_37>', '<extra_id_38>', '<extra_id_39>', '<extra_id_40>', '<extra_id_41>', '<extra_id_42>', '<extra_id_43>', '<extra_id_44>', '<extra_id_45>', '<extra_id_46>', '<extra_id_47>', '<extra_id_48>', '<extra_id_49>', '<extra_id_50>', '<extra_id_51>', '<extra_id_52>', '<extra_id_53>', '<extra_id_54>', '<extra_id_55>', '<extra_id_56>', '<extra_id_57>', '<extra_id_58>', '<extra_id_59>', '<extra_id_60>', '<extra_id_61>', '<extra_id_62>', '<extra_id_63>', '<extra_id_64>', '<extra_id_65>', '<extra_id_66>', '<extra_id_67>', '<extra_id_68>', '<extra_id_69>', '<extra_id_70>', '<extra_id_71>', '<extra_id_72>', '<extra_id_73>', '<extra_id_74>', '<extra_id_75>', '<extra_id_76>', '<extra_id_77>', '<extra_id_78>', '<extra_id_79>', '<extra_id_80>', '<extra_id_81>', '<extra_id_82>', '<extra_id_83>', '<extra_id_84>', '<extra_id_85>', '<extra_id_86>', '<extra_id_87>', '<extra_id_88>', '<extra_id_89>', '<extra_id_90>', '<extra_id_91>', '<extra_id_92>', '<extra_id_93>', '<extra_id_94>', '<extra_id_95>', '<extra_id_96>', '<extra_id_97>', '<extra_id_98>', '<extra_id_99>']}, clean_up_tokenization_spaces=True)\n"
     ]
    },
    {
     "data": {
      "application/vnd.jupyter.widget-view+json": {
       "model_id": "07edfe2125614e138c0c2991d5fc6084",
       "version_major": 2,
       "version_minor": 0
      },
      "text/plain": [
       "Downloading pytorch_model.bin:   0%|          | 0.00/990M [00:00<?, ?B/s]"
      ]
     },
     "metadata": {},
     "output_type": "display_data"
    },
    {
     "name": "stderr",
     "output_type": "stream",
     "text": [
      "c:\\Users\\usama\\anaconda3\\envs\\NLPS23\\lib\\site-packages\\huggingface_hub\\file_download.py:133: UserWarning: `huggingface_hub` cache-system uses symlinks by default to efficiently store duplicated files but your machine does not support them in C:\\Users\\usama\\.cache\\huggingface\\hub. Caching files will still work but in a degraded version that might require more space on your disk. This warning can be disabled by setting the `HF_HUB_DISABLE_SYMLINKS_WARNING` environment variable. For more details, see https://huggingface.co/docs/huggingface_hub/how-to-cache#limitations.\n",
      "To support symlinks on Windows, you either need to activate Developer Mode or to run Python as an administrator. In order to see activate developer mode, see this article: https://docs.microsoft.com/en-us/windows/apps/get-started/enable-your-device-for-development\n",
      "  warnings.warn(message)\n"
     ]
    },
    {
     "data": {
      "application/vnd.jupyter.widget-view+json": {
       "model_id": "eefb6ed9ca0146f9b013027bd1c6cc36",
       "version_major": 2,
       "version_minor": 0
      },
      "text/plain": [
       "Downloading (…)neration_config.json:   0%|          | 0.00/147 [00:00<?, ?B/s]"
      ]
     },
     "metadata": {},
     "output_type": "display_data"
    },
    {
     "name": "stdout",
     "output_type": "stream",
     "text": [
      "TOKENIZER & MODEL LOADED\n"
     ]
    }
   ],
   "source": [
    "tokenizer = AutoTokenizer.from_pretrained(model_name)\n",
    "num_classes = tokenizer.vocab_size+28\n",
    "vocab_size = num_classes\n",
    "print(tokenizer)\n",
    "\n",
    "model = AutoModelForSeq2SeqLM.from_pretrained(model_name)\n",
    "model.to(device)\n",
    "print(\"TOKENIZER & MODEL LOADED\")"
   ]
  },
  {
   "attachments": {},
   "cell_type": "markdown",
   "metadata": {
    "collapsed": false
   },
   "source": [
    "### DataLoader"
   ]
  },
  {
   "cell_type": "code",
   "execution_count": 8,
   "metadata": {
    "collapsed": false
   },
   "outputs": [],
   "source": [
    "\n",
    "class COTDataset(Dataset):\n",
    "    def __init__(self, data):\n",
    "        self.data = data\n",
    "\n",
    "    def __len__(self):\n",
    "        return len(self.data)\n",
    "\n",
    "    def __getitem__(self, idx):\n",
    "        example = self.data[idx]\n",
    "        output_text = 'answer: ' + example['output']\n",
    "        input_text = example['input']\n",
    "        # Tokenize the input and output texts\n",
    "        # input_ids = tokenizer.encode(input_text, return_tensors='pt', padding='max_length', truncation=True, max_length=seq_length).to(device)\n",
    "        # output_ids = tokenizer.encode(output_text, return_tensors='pt', padding='max_length', truncation=True, max_length=seq_length).to(device)\n",
    "        input_idx = tokenizer.encode_plus(input_text, return_tensors='pt', padding='max_length', truncation=True, max_length=seq_length).to(device)\n",
    "        output_idx = tokenizer.encode_plus(output_text, return_tensors='pt', padding='max_length', truncation=True, max_length=seq_length).to(device)\n",
    "        return {\n",
    "            'input_ids' : input_idx['input_ids'].squeeze(),\n",
    "            'attention_mask': input_idx['attention_mask'].squeeze(),\n",
    "            'labels': output_idx['input_ids'].squeeze(),\n",
    "            'labels_attention_mask': output_idx['attention_mask'].squeeze(),\n",
    "        }\n"
   ]
  },
  {
   "cell_type": "code",
   "execution_count": 9,
   "metadata": {
    "collapsed": false
   },
   "outputs": [
    {
     "name": "stdout",
     "output_type": "stream",
     "text": [
      "<torch.utils.data.dataloader.DataLoader object at 0x0000021E95F162F0>\n"
     ]
    }
   ],
   "source": [
    "train_dataloader = DataLoader(COTDataset(train_dataset), batch_size=batch_size, shuffle=True, drop_last=True, num_workers=num_workers, pin_memory=pin_memory)\n",
    "\n",
    "print(train_dataloader)\n",
    "valid_dataloader = DataLoader(COTDataset(validation_dataset), batch_size=batch_size, shuffle=False, drop_last=True, num_workers=num_workers, pin_memory=pin_memory)"
   ]
  },
  {
   "attachments": {},
   "cell_type": "markdown",
   "metadata": {
    "id": "CgsSdpHxVqvY"
   },
   "source": []
  },
  {
   "attachments": {},
   "cell_type": "markdown",
   "metadata": {
    "collapsed": false
   },
   "source": [
    "### Visualise Training and Validation Examples through Loader"
   ]
  },
  {
   "cell_type": "code",
   "execution_count": 10,
   "metadata": {
    "collapsed": false
   },
   "outputs": [
    {
     "name": "stdout",
     "output_type": "stream",
     "text": [
      "--------------------------------------------------\n",
      "Train examples:\n",
      "Input: Context: The series is centered around the exploits of Billy (voiced by Richard Steven Horvitz), a dimwitted and happy-go-lucky boy; Mandy (Grey DeLisle), a cynical and merciless girl, and Grim (Greg Eagles), the Grim Reaper who is often tormented by the duo. After cheating at a limbo match against Grim (in retaliation for putting the limbo rod too low for them to go under), he is enslaved in a permanently unwanted friendship with the children. Grim is miserable in the first days of his servitude, and even fantasizes about killing them multiple times. However, as the time passes, he gradually adapts to the new life, and even grows to care for Billy and Mandy, if only somewhat. Despite this, he retains a love-hate relationship with the two and desires to eventually break free from his servitude.nnQuestion: who is the voice of grim from billy and mandy?\n",
      "Output: answer: Greg Eagles. The relevant sentence in the passage is: The series is centered around the exploits of Billy (voiced by Richard Steven Horvitz), a dimwitted and happy-go-lucky boy; Mandy (Grey DeLisle), a cynical and merciless girl, and Grim (Greg Eagles), the Grim Reaper who is often tormented by the duo.\n",
      "\n",
      "Input: Jonathan Harris (born Jonathan Daniel Charasuchin; November 6, 1914 -- November 3, 2002) was an American character actor. Two of his best-known roles were as the timid accountant Bradford Webster in the television version of The Third Man and the fussy villain Dr. Zachary Smith of the 1960s science fiction series Lost in Space. Near the end of his career, he provided voices for the animated features A Bug's Life and Toy Story 2.nnAnswer this question: who played dr. smith in the original lost in space series?\n",
      "Output: answer: Jonathan Harris. This is the relevant information: Two of his best-known roles were as the timid accountant Bradford Webster in the television version of The Third Man and the fussy villain Dr. Zachary Smith of the 1960s science fiction series Lost in Space.\n",
      "\n",
      "Input: Context: The Samoan people are a Polynesian ethnic group of the Samoan Islands, sharing genetics, language, history and culture. As a result of colonialism, the home islands are politically and geographically divided between the country of Samoa, official name Independent State of Samoa (formerly Western Samoa until country name change in 1997) and American Samoa, an unincorporated territory of the United States.nnQuestion: where are you from if you are samoan?\n",
      "Output: answer: the Samoan Islands. The relevant sentence in the passage is: The Samoan people are a Polynesian ethnic group of the Samoan Islands, sharing genetics, language, history and culture.\n",
      "\n",
      "Input: The world record in the mile run is the best mark set by a male or female runner in the middle-distance track and field event. The IAAF is the official body which oversees the records. Hicham El Guerrouj is the current men's record holder with his time of 3: 43.13, while Svetlana Masterkova has the women's record of 4: 12.56. Since 1976, the mile has been the only non-metric distance recognized by the IAAF for record purposes.nnAnswer this question based on the passage: whats the world record for running a mile?\n",
      "Output: answer: 3 : 43.13. The relevant information is: Hicham El Guerrouj is the current men's record holder with his time of 3: 43.13, while Svetlana Masterkova has the women's record of 4: 12.56.\n",
      "\n",
      "Input: As Time Goes By is a song written by Herman Hupfeld in 1931. It became most famous in 1942 when part of it was sung by the character Sam (Dooley Wilson) in the movie Casablanca. The song was voted No. 2 on the AFI's 100 Years... 100 Songs special, commemorating the best songs in film (only surpassed by \"Over the Rainbow\" by Judy Garland). The song has since become the representative song of Warner Bros. and was also the title and theme song of the 1990s British romantic comedy series As Time Goes By.nnWhat movie is the song as time goes by from?\n",
      "Output: answer: the movie Casablanca. To answer this question, we should know that: It became most famous in 1942 when part of it was sung by the character Sam (Dooley Wilson) in the movie Casablanca.\n",
      "\n",
      "--------------------------------------------------\n",
      "Print first 5 examples of valid_dataloader\n",
      "Valid examples:\n",
      "Input: The character has been portrayed by Bryce Dallas Howard in the 2007 film Spider-Man 3 and by Emma Stone in the 2012 reboot film The Amazing Spider-Man and its sequel The Amazing Spider-Man 2. In the upcoming 2018 film Spider-Man: Into the Spider-Verse, the character will be voiced by Hailee Steinfeld.nnWho played gwen stacy in the amazing spider man?\n",
      "Output: answer: Emma Stone. The relevant information to answer the above question is: The character has been portrayed by Bryce Dallas Howard in the 2007 film Spider-Man 3 and by Emma Stone in the 2012 reboot film The Amazing Spider-Man and its sequel The Amazing Spider-Man 2.\n",
      "\n",
      "Input: A headline's purpose is to quickly and briefly draw attention to the story. It is generally written by a copy editor, but may also be written by the writer, the page layout designer, or other editors. The most important story on the front page above the fold may have a larger headline if the story is unusually important. The New York Times's 21 July 1969 front page stated, for example, that \"MEN WALK ON MOON\", with the four words in gigantic size spread from the left to right edges of the page.nnAnswer this question: who writes the headlines to a news story?\n",
      "Output: answer: generally written by a copy editor, but may also be written by the writer, the page layout designer, or other editors. The relevant information is: It is generally written by a copy editor, but may also be written by the writer, the page layout designer, or other editors.\n",
      "\n",
      "Input: Urdu (/ rdu /; Urdu:   ALA-LC: Urd ( rdu) (listen), or Modern Standard Urdu ) is a Persianised and standardised register of the Hindustani language. It is the official national language and lingua franca of Pakistan. In India, it is one of the 22 official languages recognized in the Constitution of India, having official status in the five states of Jammu and Kashmir, Telangana, Uttar Pradesh, Bihar, and Jharkhand, as well as the national capital territory of Delhi.nnAnswer this question based on the passage: urdu is the official language of which state?\n",
      "Output: answer: Pakistan. To answer the above question, the relevant sentence is: It is the official national language and lingua franca of Pakistan.\n",
      "\n",
      "Input: Ben Stiller as Larry Daley, a security guard at the American Museum of Natural History. Stiller also plays Laaa, a Neanderthal who resembles Larry. Robin Williams as Theodore Roosevelt, the wax statue of the 26th President of the United States. Owen Wilson as Jedediah, a cowboy diorama miniature. Steve Coogan as Octavius, a Roman soldier miniature. Ricky Gervais as Dr. McPhee, the director of the Museum of Natural History. Rachael Harris as Madeline Phelps, the chairwoman of the American Museum of Natural History. Dan Stevens as Sir Lancelot, the wax statue of the legendary Knight of the Round Table. Rebel Wilson as Tilly, the night security guard at the British Museum. Skyler Gisondo as Nick Daley, the son of Larry Daley. He was previously played by Jake Cherry in the first two films. Rami Malek as Ahkmenrah, the mummy of an ancient pharaoh. Patrick Gallagher as Attila the Hun, the statue of the leader of the Huns. Mizuo Peck as Sacagawea, the polyurethane model of the Lemhi Shoshone woman who is Theodore Roosevelt's girlfriend. Ben Kingsley as Merenkahre, the mummy of an ancient pharaoh and Ahkmenrah's father. Dick Van Dyke as Cecil \"C.J.\" Fredericks, a retired security guard from the first film. Percy Hynes White plays the younger Cecil \"C.J.\" Fredericks Mickey Rooney as Gus, a retired security guard from the first film. Bill Cobbs as Reginald, a retired security guard from the first film. Andrea Martin as Rose, an archivist at the Museum of Natural History. Brennan Elliott as Robert Fredericks, C.J.'s father in the prologue. Matt Frewer as Archibald Stanley, an archeologist who accompanies Robert and Cecil in the prologue. Anjali Jay as Shepseheret, the mummy of a Great Royal Wife of Merenkahre and mother of Ahkmenrah. Crystal the Monkey as\n",
      "Output: answer: Skyler Gisondo. The relevant information to answer the above question is: Skyler Gisondo as Nick Daley, the son of Larry Daley.\n",
      "\n",
      "Input: Passage: The song \"Year of the Cat\" began as \"Foot of the Stage\", a song written by Stewart in 1966 after seeing a performance by comedian Tony Hancock whose patter about \"being a complete loser\" who might as well \"end it all right here\" drew laughs from the audience: Stewart's intuitive response that Hancock was in genuine despair led to the writing of \"Foot of the Stage\". It was the melody for this never-recorded song which Stewart set the lyrics of \"Year of the Cat\" to in 1975: pianist Peter Wood was given a co-writing credit on the song in recognition of his piano riff on the recorded track.nnQuestion: Based on this passage, who played piano on year of the cat?\n",
      "Output: answer: pianist Peter Wood. This is the relevant information: It was the melody for this never-recorded song which Stewart set the lyrics of \"Year of the Cat\" to in 1975: pianist Peter Wood was given a co-writing credit on the song in recognition of his piano riff on the recorded track.\n",
      "\n"
     ]
    }
   ],
   "source": [
    "print(\"-\"*50)\n",
    "# Print first 5 examples of train_dataloader\n",
    "print('Train examples:')\n",
    "for i, batch in enumerate(train_dataloader):\n",
    "    if i == 5:\n",
    "        break\n",
    "    # print(batch)\n",
    "    # Convert the input and output ids to lists of integers\n",
    "    input_ids = batch['input_ids'][0].tolist()\n",
    "    output_ids = batch['labels'][0].tolist()\n",
    "    # Flatten the lists using the sum() function\n",
    "    # print(input_ids)\n",
    "    # input_ids = sum(input_ids, [])\n",
    "    # output_ids = sum(output_ids, [])\n",
    "    input_text = tokenizer.decode(input_ids, skip_special_tokens=True)\n",
    "    output_text = tokenizer.decode(output_ids, skip_special_tokens=True)\n",
    "    print(f'Input: {input_text}')\n",
    "    print(f'Output: {output_text}')\n",
    "    print()\n",
    "\n",
    "print(\"-\"*50)\n",
    "print(\"Print first 5 examples of valid_dataloader\")\n",
    "# Print first 5 examples of valid_dataloader\n",
    "print('Valid examples:')\n",
    "for i, batch in enumerate(valid_dataloader):\n",
    "    if i == 5:\n",
    "        break\n",
    "    # Convert the input and output ids to lists of integers\n",
    "    input_ids = batch['input_ids'][0].tolist()\n",
    "    output_ids = batch['labels'][0].tolist()\n",
    "    # Flatten the lists using the sum() function\n",
    "    # print(input_ids)\n",
    "    # input_ids = sum(input_ids, [])\n",
    "    # output_ids = sum(output_ids, [])\n",
    "    input_text = tokenizer.decode(input_ids, skip_special_tokens=True)\n",
    "    output_text = tokenizer.decode(output_ids, skip_special_tokens=True)\n",
    "    print(f'Input: {input_text}')\n",
    "    print(f'Output: {output_text}')\n",
    "    print()"
   ]
  },
  {
   "attachments": {},
   "cell_type": "markdown",
   "metadata": {
    "id": "37XBj09AVqvi"
   },
   "source": [
    "### Dataset Summary"
   ]
  },
  {
   "cell_type": "code",
   "execution_count": 11,
   "metadata": {
    "colab": {
     "base_uri": "https://localhost:8080/"
    },
    "id": "SIZFbP4IDXOO",
    "outputId": "515fdeb6-9b4c-4482-dc36-38bab8d39de0"
   },
   "outputs": [
    {
     "name": "stdout",
     "output_type": "stream",
     "text": [
      "Total Steps:  1031\n",
      "Total Validation Steps:  258\n"
     ]
    }
   ],
   "source": [
    "ntrain = len(train_dataset)\n",
    "nvalid = len(validation_dataset)\n",
    "steps = int(np.ceil(ntrain/batch_size))\n",
    "valid_steps = int(np.ceil(nvalid/batch_size))\n",
    "print(\"Total Steps: \", steps)\n",
    "print(\"Total Validation Steps: \", valid_steps)"
   ]
  },
  {
   "attachments": {},
   "cell_type": "markdown",
   "metadata": {
    "id": "XCoHLlLWVqvk"
   },
   "source": [
    "### optimizer and Learning rate Decay"
   ]
  },
  {
   "cell_type": "code",
   "execution_count": 12,
   "metadata": {
    "id": "y6p-5zuyLJR9"
   },
   "outputs": [],
   "source": [
    "# Define a custom function for the learning rate decay\n",
    "def lr_lambda(step):\n",
    "  m = max(warmup_steps, step)\n",
    "  lr = initial_lr / math.sqrt(m)\n",
    "  return lr\n",
    "\n",
    "# Create an optimizer object using torch.optim.Adam\n",
    "optimizer = torch.optim.Adam(model.parameters(), lr=lr)\n",
    "\n",
    "# Create a LambdaLR object and pass it your optimizer\n",
    "scheduler = torch.optim.lr_scheduler.LambdaLR(optimizer, lr_lambda)"
   ]
  },
  {
   "attachments": {},
   "cell_type": "markdown",
   "metadata": {
    "collapsed": false
   },
   "source": [
    "### Logging"
   ]
  },
  {
   "cell_type": "code",
   "execution_count": 13,
   "metadata": {
    "id": "5t0xLcEcLMq2"
   },
   "outputs": [],
   "source": [
    "from datetime import datetime\n",
    "dt = datetime.now()\n",
    "\n",
    "# Create a SummaryWriter object and pass it the log_path\n",
    "writer = SummaryWriter(log_dir)\n",
    "\n",
    "# Write your own custom logging functions\n",
    "def log_scalar(tag, value, step):\n",
    "  # Log a scalar value\n",
    "  writer.add_scalar(tag, value, step)\n",
    "\n",
    "def log_histogram(tag, values, step):\n",
    "  # Log a histogram of tensor values\n",
    "  writer.add_histogram(tag, values, step)\n",
    "\n",
    "def log_graph(model, input):\n",
    "  # Log the model graph\n",
    "  writer.add_graph(model, input)\n",
    "\n",
    "# Write your own custom saving function\n",
    "def save_model(model, epoch, val_loss, val_accuracy, val_f1):\n",
    "  # Save the model checkpoint\n",
    "  checkpoint_filepath = f\"{save_path}/M-{epoch:04d}-{val_loss:.4f}-{val_accuracy:.4f}-{val_f1:.4f}.ckpt\"\n",
    "  torch.save(model.state_dict(), checkpoint_filepath)"
   ]
  },
  {
   "attachments": {},
   "cell_type": "markdown",
   "metadata": {
    "collapsed": false
   },
   "source": [
    "### Evaluation Matrix"
   ]
  },
  {
   "cell_type": "code",
   "execution_count": null,
   "metadata": {
    "collapsed": false
   },
   "outputs": [],
   "source": []
  },
  {
   "cell_type": "code",
   "execution_count": 14,
   "metadata": {
    "collapsed": false
   },
   "outputs": [],
   "source": [
    "# create an F1Score instance and move it to the same device as the input tensors\n",
    "f1_score = torchmetrics.F1Score(task='multiclass', num_classes=num_classes)\n",
    "f1_score = f1_score.to(device)\n",
    "# create an Accuracy instance and move it to the same device as the input tensors\n",
    "accuracy = torchmetrics.Accuracy(task='multiclass', num_classes=num_classes)\n",
    "accuracy = accuracy.to(device)\n",
    "#\n",
    "exact_match = torchmetrics.classification.MulticlassExactMatch(num_classes=num_classes).to(device)\n"
   ]
  },
  {
   "cell_type": "code",
   "execution_count": 16,
   "metadata": {
    "collapsed": false
   },
   "outputs": [],
   "source": [
    "def evaluate_performance(dataloader, text = \"\", epoch = -1):\n",
    "    loss = 0.0\n",
    "    f1 = 0.0\n",
    "    acc = 0.0\n",
    "    em = 0.0\n",
    "    f1_score.reset()\n",
    "    accuracy.reset()\n",
    "    exact_match.reset()\n",
    "    # create a tqdm progress bar for the data\n",
    "    pbar = tqdm(dataloader, desc=f\"Epoch {epoch+1}, {text}\")\n",
    "    with torch.no_grad():\n",
    "        for batch in pbar:\n",
    "            # optimizer.zero_grad()\n",
    "            input_ids = batch['input_ids'].to(device)\n",
    "            attention_mask = batch['attention_mask'].to(device)\n",
    "            labels = batch['labels'].to(device)\n",
    "            outputs = model(input_ids=input_ids, attention_mask=attention_mask, labels=labels)\n",
    "            # input_ids = input_ids.to(device)\n",
    "            # output_ids = output_ids.to(device)\n",
    "            # # print(input_ids.shape)\n",
    "            # input_ids = torch.squeeze(input_ids, 1)\n",
    "            # output_ids = torch.squeeze(output_ids, 1)\n",
    "            # # input_ids = input_ids.un\n",
    "            # # output_ids = output_ids.view(batch_size, seq_length)\n",
    "            # outputs = model(input_ids=input_ids, labels=output_ids)\n",
    "            iterationloss = outputs.loss\n",
    "            logits = outputs.logits\n",
    "            loss += iterationloss.item()\n",
    "            # flatten inputs and pass them to F1Score and Accuracy\n",
    "            logits = logits.view(-1, num_classes)\n",
    "            labels = labels.view(-1)\n",
    "            f1_current = f1_score(logits, labels).item()\n",
    "            acc_current = accuracy(logits, labels).item()\n",
    "            em_current = exact_match(logits, labels).item()\n",
    "            f1 += f1_current\n",
    "            acc += acc_current\n",
    "            em += em_current\n",
    "            # update the progress bar with the metrics\n",
    "            pbar.set_postfix({\"loss\": iterationloss.item(), \"f1\": f1_current, \"acc\": acc_current, \"em\" :em_current})\n",
    "        loss /= len(dataloader)\n",
    "        f1 /= len(dataloader)\n",
    "        acc /= len(dataloader)\n",
    "        em /= len(dataloader)\n",
    "    print ( f\"\\n{text}: Average Loss : {loss:.4f}  f1 : {f1:.4f} accuracy : {acc:.4f} Exact_Match: {em:.4f} \\n\\n\")\n",
    "    return loss,acc,f1"
   ]
  },
  {
   "cell_type": "code",
   "execution_count": 15,
   "metadata": {
    "collapsed": false
   },
   "outputs": [],
   "source": [
    "def get_output(input_text):\n",
    "    encoded_query = tokenizer.encode_plus(input_text,  return_tensors='pt', padding='max_length', truncation=True, max_length=seq_length).to(device)\n",
    "    question = encoded_query['input_ids']#.squeeze()\n",
    "    attention_mask = encoded_query['attention_mask']#.squeeze()\n",
    "    # input_ids = encoded_query[\"input_ids\"]\n",
    "    model.eval()\n",
    "    generated_answer = model.generate( question, attention_mask=attention_mask, max_length=seq_length, early_stopping= True,repetition_penalty=2.9) #top_p=0.95, top_k=50, repetition_penalty=2.0\n",
    "    decoded_answer = tokenizer.decode(generated_answer[0])\n",
    "    return decoded_answer\n"
   ]
  },
  {
   "cell_type": "code",
   "execution_count": 16,
   "metadata": {
    "collapsed": false
   },
   "outputs": [
    {
     "name": "stdout",
     "output_type": "stream",
     "text": [
      "Passage: The Nobel Peace Prize (Swedish: Nobels fredspris) is one of the five Nobel Prizes created by the Swedish industrialist, inventor, and armaments manufacturer Alfred Nobel, along with the prizes in Chemistry, Physics, Physiology or Medicine, and Literature. Since March 1901, it has been awarded annually (with some exceptions) to those who have \"done the most or the best work for fraternity between nations, for the abolition or reduction of standing armies and for the holding and promotion of peace congresses\".\n",
      "\n",
      "Question: Based on this passage, who is the nobel peace prize given to?\n",
      "Answer:  <pad><extra_id_0>. Question: Based on this passage, who is the nobel peace prize given to? Answers: based upon these passage(es) are Alfred Nobel?<extra_id_1>!<extra_id_2>.... answer<extra_id_3>... answer<extra_id_4>.....<extra_id_5>......<extra_id_6>.<extra_id_7> from whom did they award it in 1901<extra_id_8>??<extra_id_9>???<extra_id_10>?!<extra_id_11>!!!<extra_id_12>!!<extra_id_13>!!!!!!!!!<extra_id_14>!<extra_id_15> and bestowed<extra_id_16>!)<unk><extra_id_17> ><extra_id_18>><extra_id_19> each year<extra_id_20> every other<extra_id_21>y<extra_id_22> today<extra_id_23> now?<extra_id_24> then<extra_id_25> them all?<extra_id_26> by which countries were created?<extra_id_27> was made</s>\n",
      "CPU times: total: 35.2 s\n",
      "Wall time: 22.7 s\n"
     ]
    }
   ],
   "source": [
    "%%time\n",
    "question = 'Passage: The Nobel Peace Prize (Swedish: Nobels fredspris) is one of the five Nobel Prizes created by the Swedish industrialist, inventor, and armaments manufacturer Alfred Nobel, along with the prizes in Chemistry, Physics, Physiology or Medicine, and Literature. Since March 1901, it has been awarded annually (with some exceptions) to those who have \"done the most or the best work for fraternity between nations, for the abolition or reduction of standing armies and for the holding and promotion of peace congresses\".\\n\\nQuestion: Based on this passage, who is the nobel peace prize given to?'\n",
    "print(question)\n",
    "input_text =  f\"{question}\"\n",
    "print(\"Answer: \", get_output(input_text))"
   ]
  },
  {
   "attachments": {},
   "cell_type": "markdown",
   "metadata": {
    "collapsed": false
   },
   "source": [
    "### Performance of Model Before Fine Tunning"
   ]
  },
  {
   "cell_type": "code",
   "execution_count": 17,
   "metadata": {
    "collapsed": false
   },
   "outputs": [
    {
     "name": "stdout",
     "output_type": "stream",
     "text": [
      "Answer:  <pad><extra_id_0>. nbQuestion: What is the song about?<extra_id_1>, who was it written by Stewart in 1966 and 1975 respectively)?<extra_id_2> this year<extra_id_3> these years<extra_id_4>this<extra_id_5> that<extra_id_6> of Hancock<extra_id_7> on his piano<extra_id_8>d<extra_id_9> as \"Year Of The Cat\" began<extra_id_15>day<extra_id_16>s<extra_id_17>e<extra_id_18>w<extra_id_19>nd<extra_id_20>a<extra_id_23><extra_id_27>'s lyrics to<extra_id_24><extra_id_25><extra_id_25> wrote<extra_id_26> for<extra_id_27> longer than stage-flourishingly long time when considering how much more has been recorded to date (and not only), but</s>\n",
      "CPU times: total: 35 s\n",
      "Wall time: 23.1 s\n"
     ]
    }
   ],
   "source": [
    "%%time\n",
    "question ='Passage: The song \"Year of the Cat\" began as \"Foot of the Stage\", a song written by Stewart in 1966 after seeing a performance by comedian Tony Hancock whose patter about \"being a complete loser\" who might as well \"end it all right here\" drew laughs from the audience: Stewart\\'s intuitive response that Hancock was in genuine despair led to the writing of \"Foot of the Stage\". It was the melody for this never-recorded song which Stewart set the lyrics of \"Year of the Cat\" to in 1975: pianist Peter Wood was given a co-writing credit on the song in recognition of his piano riff on the recorded track.nnQuestion: Based on this passage, who played piano on year of the cat?'\n",
    "\n",
    "# Output: answer: pianist Peter Wood. This is the relevant information: It was the melody for this never-recorded song which Stewart set the lyrics of \"Year of the Cat\" to in 1975: pianist Peter Wood was given a co-writing credit on the song in recognition of his piano riff on the recorded track.'\n",
    "\n",
    "print(\"Answer: \", get_output(question))\n"
   ]
  },
  {
   "cell_type": "code",
   "execution_count": 20,
   "metadata": {
    "collapsed": false
   },
   "outputs": [
    {
     "name": "stdout",
     "output_type": "stream",
     "text": [
      "Performance of Model before fine Tunning\n"
     ]
    }
   ],
   "source": [
    "# print(\"Performance of Model before fine Tunning\")\n",
    "# # model.load_state_dict(torch.load(save_path+\"/M-0001-1.3129-0.8890-0.8890.ckpt\")) #M-0014-1.7052-0.8886-0.8886\n",
    "# model.load_state_dict(torch.load(save_path+\"/M-0036-0.0665-0.9829-0.9829.ckpt\", map_location=torch.device('cpu'))) #\n",
    "# model= model.to(device)\n",
    "\n",
    "# # evaluate_performance(valid_dataloader, \"Validation \")"
   ]
  },
  {
   "attachments": {},
   "cell_type": "markdown",
   "metadata": {
    "id": "cgxRVn34Z0wb"
   },
   "source": [
    "### Training"
   ]
  },
  {
   "cell_type": "code",
   "execution_count": null,
   "metadata": {
    "colab": {
     "base_uri": "https://localhost:8080/"
    },
    "id": "h8k7XV9coBwZ",
    "outputId": "516cd394-587c-4143-c126-473175352078"
   },
   "outputs": [],
   "source": [
    "from transformers import T5ForConditionalGeneration\n",
    "from accelerate import Accelerator\n",
    "# TOKENIZERS_PARALLELISM = False\n",
    "\n",
    "\n",
    "for epoch in range(num_epochs):\n",
    "    # create a tqdm progress bar for the training loop\n",
    "    accelerator = Accelerator()\n",
    "    model, optimizer, train_dataloader, valid_dataloader = accelerator.prepare(\n",
    "        model, optimizer, train_dataloader, valid_dataloader\n",
    "    )\n",
    "    train_pbar = tqdm(train_dataloader, desc=f\"Epoch {epoch+1}, Train\")\n",
    "    i = 0\n",
    "    model.train()\n",
    "    for batch in train_pbar:\n",
    "        input_ids = batch['input_ids'].to(device)\n",
    "        attention_masks = batch['attention_mask'].to(device)\n",
    "        output_ids = batch['labels'].to(device)\n",
    "        input_ids = input_ids.view(batch_size, seq_length)\n",
    "        output_ids = output_ids.view(batch_size, seq_length)\n",
    "        outputs = model(input_ids=input_ids, labels=output_ids,attention_mask=attention_masks )\n",
    "        loss = outputs.loss\n",
    "        logits = outputs.logits\n",
    "\n",
    "        # loss.backward()\n",
    "        accelerator.backward(loss)\n",
    "        optimizer.step()\n",
    "        scheduler.step()\n",
    "        optimizer.zero_grad()\n",
    "\n",
    "    # flatten inputs and pass them to F1Score and Accuracy\n",
    "        if i % 10 == 0:\n",
    "            logits = logits.view(-1, num_classes)\n",
    "            output_ids = output_ids.view(-1)\n",
    "            train_f1 = f1_score(logits, output_ids)\n",
    "            train_acc = accuracy(logits, output_ids)\n",
    "            # update the progress bar with the metrics\n",
    "            if accelerator.is_main_process:\n",
    "                train_pbar.set_postfix({\"loss\": loss.item(), \"f1\": train_f1.item(), \"acc\": train_acc.item()})\n",
    "        i +=1\n",
    "    valid_loss, valid_acc, valid_f1=evaluate_performance(valid_dataloader, \"Validation \", epoch)\n",
    "\n",
    "    accelerator.wait_for_everyone()\n",
    "    unwrapped_model = accelerator.unwrap_model(model)\n",
    "    unwrapped_model.save_pretrained(save_path, save_function=accelerator.save)\n",
    "    if accelerator.is_main_process:\n",
    "        tokenizer.save_pretrained(save_path)\n",
    "    if epoch == 0 or valid_loss < best_valid_loss:\n",
    "        best_valid_loss = valid_loss\n",
    "        save_model(model, epoch, valid_loss, valid_acc, valid_f1)\n",
    "    f1_score.reset()\n",
    "    accuracy.reset()\n",
    "    exact_match.reset()"
   ]
  },
  {
   "attachments": {},
   "cell_type": "markdown",
   "metadata": {
    "collapsed": false
   },
   "source": []
  },
  {
   "attachments": {},
   "cell_type": "markdown",
   "metadata": {
    "id": "5cza3w1FVqwG"
   },
   "source": [
    "### Lets test our model!!"
   ]
  },
  {
   "cell_type": "code",
   "execution_count": null,
   "metadata": {
    "colab": {
     "base_uri": "https://localhost:8080/"
    },
    "id": "nr0lRQJ8ZmN_",
    "outputId": "4c2a87be-c2ec-45ff-c5aa-9d8145ce46f0"
   },
   "outputs": [],
   "source": [
    "# save_model(model, 1, 15.4699, 0.0097, 0.0097)\n",
    "# "
   ]
  },
  {
   "cell_type": "code",
   "execution_count": 18,
   "metadata": {},
   "outputs": [
    {
     "data": {
      "text/plain": [
       "'./output/experiments/t5-v1_1-base/models'"
      ]
     },
     "execution_count": 18,
     "metadata": {},
     "output_type": "execute_result"
    }
   ],
   "source": [
    "save_path"
   ]
  },
  {
   "cell_type": "code",
   "execution_count": 19,
   "metadata": {},
   "outputs": [
    {
     "name": "stdout",
     "output_type": "stream",
     "text": [
      "Performance of Model after fine Tunning\n"
     ]
    }
   ],
   "source": [
    "print(\"Performance of Model after fine Tunning\")\n",
    "# model.load_state_dict(torch.load(save_path+\"/M-0001-1.3129-0.8890-0.8890.ckpt\")) #M-0014-1.7052-0.8886-0.8886\n",
    "model.load_state_dict(torch.load(save_path+\"/M-0036-0.0665-0.9829-0.9829.ckpt\", map_location=torch.device('cpu'))) #\n",
    "model= model.to(device)\n",
    "\n",
    "# evaluate_performance(valid_dataloader, \"Validation \")"
   ]
  },
  {
   "cell_type": "code",
   "execution_count": 20,
   "metadata": {
    "colab": {
     "base_uri": "https://localhost:8080/"
    },
    "id": "C_bQcp2QfmCk",
    "outputId": "154ea271-b26d-4a66-ab43-b1e800fec56b"
   },
   "outputs": [
    {
     "name": "stdout",
     "output_type": "stream",
     "text": [
      "Passage: Webbed toes is the common name for syndactyly affecting the feet. It is characterised by the fusion of two or more digits of the feet. This is normal in many birds, such as ducks; amphibians, such as frogs; and mammals, such as kangaroos. In humans it is considered unusual, occurring in approximately one in 2,000 to 2,500 live births.\n",
      "\n",
      "Question: Based on this passage, what is the medical term for webbed toes?\n",
      "Answer:  <pad> answer: syndactyly affecting the feet. To answer this question, consider the following: Syndactyly affects the feet.</s>\n",
      "CPU times: total: 18.3 s\n",
      "Wall time: 10.5 s\n"
     ]
    }
   ],
   "source": [
    "%%time\n",
    "question = \"Passage: Webbed toes is the common name for syndactyly affecting the feet. It is characterised by the fusion of two or more digits of the feet. This is normal in many birds, such as ducks; amphibians, such as frogs; and mammals, such as kangaroos. In humans it is considered unusual, occurring in approximately one in 2,000 to 2,500 live births.\\n\\nQuestion: Based on this passage, what is the medical term for webbed toes?\"\n",
    "print(question)\n",
    "print(\"Answer: \", get_output(question))\n",
    "\n",
    "# short : syndactyly affecting the feet\n",
    "# COT : The relevant information is: Webbed toes is the common name for syndactyly affecting the feet."
   ]
  },
  {
   "cell_type": "code",
   "execution_count": 21,
   "metadata": {
    "colab": {
     "base_uri": "https://localhost:8080/"
    },
    "id": "sop7zH0df1T7",
    "outputId": "5962f64e-3202-42ff-ff01-a257985c3f70"
   },
   "outputs": [
    {
     "name": "stdout",
     "output_type": "stream",
     "text": [
      "Passage: The Nobel Peace Prize (Swedish: Nobels fredspris) is one of the five Nobel Prizes created by the Swedish industrialist, inventor, and armaments manufacturer Alfred Nobel, along with the prizes in Chemistry, Physics, Physiology or Medicine, and Literature. Since March 1901, it has been awarded annually (with some exceptions) to those who have \"done the most or the best work for fraternity between nations, for the abolition or reduction of standing armies and for the holding and promotion of peace congresses\".\n",
      "\n",
      "Question: Based on this passage, who is the nobel peace prize given to?\n",
      "Answer:  <pad> answer: Alfred Nobel. The relevant information to answering this question is: the Swedish industrialist, inventor, and arms manufacturer Alfred Nobel (Swedish: Nobels fredsprius) is: Alfred Nobel.</s>\n",
      "CPU times: total: 19 s\n",
      "Wall time: 10.2 s\n"
     ]
    }
   ],
   "source": [
    "%%time\n",
    "question = 'Passage: The Nobel Peace Prize (Swedish: Nobels fredspris) is one of the five Nobel Prizes created by the Swedish industrialist, inventor, and armaments manufacturer Alfred Nobel, along with the prizes in Chemistry, Physics, Physiology or Medicine, and Literature. Since March 1901, it has been awarded annually (with some exceptions) to those who have \"done the most or the best work for fraternity between nations, for the abolition or reduction of standing armies and for the holding and promotion of peace congresses\".\\n\\nQuestion: Based on this passage, who is the nobel peace prize given to?'\n",
    "print(question)\n",
    "input_text =  f\"{question}\"\n",
    "print(\"Answer: \", get_output(input_text))"
   ]
  },
  {
   "cell_type": "code",
   "execution_count": 36,
   "metadata": {
    "id": "3OpNZ4jcgb09"
   },
   "outputs": [
    {
     "name": "stdout",
     "output_type": "stream",
     "text": [
      "Answer:  <pad> answer: Apple. In modern culture, Apple is the name one of the largest brand of innovative technologies. The relevant information to answering this question is: Apple is the name one of the large brand of innovations technologies.</s>\n",
      "CPU times: total: 19.2 s\n",
      "Wall time: 10.9 s\n"
     ]
    }
   ],
   "source": [
    "%%time\n",
    "question ='context: Apples are considered to be mythical. They are used in religion to represent transition of humans. In modern culture, Apple is the name one of the largest brand of innovative technologies. Question: What is the name of the largest brand?'\n",
    "# 'context: The Water Cycle is the process by which water is circulated through the Earth\\'s ecosystems. This process includes evaporation, transpiration, condensation, precipitation, and runoff. The water cycle is driven by solar radiation and the Earth\\'s rotation. question: What is the Water Cycle?'\n",
    "# 'Context: John Joseph Haley Jr (August 10, 1897 -- June 6, 1979) was an American vaudevillian, actor, radio host, comedian, singer and dancer best known for his portrayal of the Tin Man and his farmhand counterpart Hickory in the classic 1939 MGM film The Wizard of Oz. Question: who played the tin man in the wizard of oz 1939?'\n",
    "# Short Answer : John Joseph Haley Jr\n",
    "# The relevant information to answer the above question is: John Joseph Haley Jr (August 10, 1897 -- June 6, 1979) was an American vaudevillian, actor, radio host, comedian, singer and dancer best known for his portrayal of the Tin Man and his farmhand counterpart Hickory in the classic 1939 MGM film The Wizard of Oz.\n",
    "# answer: the process by which water is circulated through the Earth's ecosystems\n",
    "print(\"Answer: \", get_output(question))"
   ]
  },
  {
   "cell_type": "code",
   "execution_count": 37,
   "metadata": {},
   "outputs": [
    {
     "name": "stdout",
     "output_type": "stream",
     "text": [
      "Answer:  <pad> answer: We should overcome the fear of love and not to judge others, she added. The relevant sentence in the passage is: Baroness Sayeeda Warsi spoke about her daughter Arfe.</s>\n",
      "CPU times: total: 18 s\n",
      "Wall time: 10.1 s\n"
     ]
    }
   ],
   "source": [
    "%%time\n",
    "# question ='Context: John Joseph Haley Jr (August 10, 1897 -- June 6, 1979) was an American vaudevillian, actor, radio host, comedian, singer and dancer best known for his portrayal of the Tin Man and his farmhand counterpart Hickory in the classic 1939 MGM film The Wizard of Oz.\\n\\nQuestion: who played the tin man in the wizard of oz 1939?'\n",
    "question= 'context: Baroness Sayeeda Warsi said that we should question ourselves and not to judge others, we should ask ourselves what we were saying what we believe and what we were doing what we were saying. We needed to overcome the fear of love to win, she added. Arfa\\u2019smother Ms. SaminaAmjad shared memories of her daughter and spoke about her brilliant achievements. Arfa wanted to do something for the people of her country by providing free education to everyone, she added. question: What did Arfa want to do for the people of her country?'\n",
    "# to become an internationally recognized research-intensive university focused on developing society through excellence in education, research, and entrepreneurship\n",
    "\n",
    "# 'Context: Some of the fascinating projects demonstrated by ITU students included Istarfaa, a platform that can levitate particles using sound waves; Qufl, a digital locking system that ensures fool-proof security; Celox, an automated and secure table saw; Wall-climber, a robot that climbs walls and cleans glass windows of skyscrapers; and Hugo, a robot that gauges human emotions and attempts to mimic them. Question: What is Istarfaa?'\n",
    "# Short Answer : John Joseph Haley Jr\n",
    "# The relevant information to answer the above question is: John Joseph Haley Jr (August 10, 1897 -- June 6, 1979) was an American vaudevillian, actor, radio host, comedian, singer and dancer best known for his portrayal of the Tin Man and his farmhand counterpart Hickory in the classic 1939 MGM film The Wizard of Oz.\n",
    "# a platform that can levitate particles using sound waves\n",
    "print(\"Answer: \", get_output(question))"
   ]
  },
  {
   "attachments": {},
   "cell_type": "markdown",
   "metadata": {
    "collapsed": false
   },
   "source": [
    "## Evaluation"
   ]
  },
  {
   "attachments": {},
   "cell_type": "markdown",
   "metadata": {
    "collapsed": false
   },
   "source": [
    "### Formulas"
   ]
  },
  {
   "cell_type": "code",
   "execution_count": 76,
   "metadata": {
    "collapsed": false
   },
   "outputs": [],
   "source": [
    "from collections import Counter\n",
    "import string\n",
    "import re\n",
    "import argparse\n",
    "import json\n",
    "import sys\n",
    "\n",
    "\n",
    "def normalize_answer(s):\n",
    "    \"\"\"Lower text and remove punctuation, articles and extra whitespace.\"\"\"\n",
    "    def remove_articles(text):\n",
    "        return re.sub(r'\\b(a|an|the)\\b', ' ', text)\n",
    "\n",
    "    def white_space_fix(text):\n",
    "        return ' '.join(text.split())\n",
    "\n",
    "    def remove_punc(text):\n",
    "        exclude = set(string.punctuation)\n",
    "        return ''.join(ch for ch in text if ch not in exclude)\n",
    "\n",
    "    def lower(text):\n",
    "        return text.lower()\n",
    "\n",
    "    return white_space_fix(remove_articles(remove_punc(lower(s))))\n",
    "\n",
    "\n",
    "def f1_score(prediction, ground_truth):\n",
    "    prediction_tokens = normalize_answer(prediction).split()\n",
    "    ground_truth_tokens = normalize_answer(ground_truth).split()\n",
    "    common = Counter(prediction_tokens) & Counter(ground_truth_tokens)\n",
    "    num_same = sum(common.values())\n",
    "    if num_same == 0:\n",
    "        return 0\n",
    "    precision = 1.0 * num_same / len(prediction_tokens)\n",
    "    recall = 1.0 * num_same / len(ground_truth_tokens)\n",
    "    f1 = (2 * precision * recall) / (precision + recall)\n",
    "    return f1\n",
    "\n",
    "\n",
    "def exact_match_score(prediction, ground_truth):\n",
    "    return (normalize_answer(prediction) == normalize_answer(ground_truth))\n",
    "\n",
    "\n",
    "def metric_max_over_ground_truths(metric_fn, prediction, ground_truths):\n",
    "    scores_for_ground_truths = []\n",
    "    for ground_truth in ground_truths:\n",
    "        score = metric_fn(prediction, ground_truth)\n",
    "        scores_for_ground_truths.append(score)\n",
    "    return max(scores_for_ground_truths)\n",
    "\n",
    "\n",
    "def evaluate(gold_answers, predictions):\n",
    "    f1 = exact_match = total = 0\n",
    "\n",
    "    for ground_truths, prediction in zip(gold_answers, predictions):\n",
    "        total += 1\n",
    "        exact_match += metric_max_over_ground_truths(\n",
    "            exact_match_score, prediction, ground_truths)\n",
    "        f1 += metric_max_over_ground_truths(\n",
    "            f1_score, prediction, ground_truths)\n",
    "\n",
    "    exact_match = 100.0 * exact_match / total\n",
    "    f1 = 100.0 * f1 / total\n",
    "\n",
    "    return {'exact_match': exact_match, 'f1': f1}"
   ]
  },
  {
   "cell_type": "code",
   "execution_count": 79,
   "metadata": {
    "collapsed": false
   },
   "outputs": [],
   "source": [
    "def overall_validation_predictions(dataloader):\n",
    "    model.eval()\n",
    "    outputs = []\n",
    "    # create a tqdm progress bar for the data\n",
    "    pbar = tqdm(dataloader, desc=f\"Evaluation \")\n",
    "    with torch.no_grad():\n",
    "        for batch in pbar:\n",
    "            input_ids = batch['input_ids'].to(device)\n",
    "            # output_ids = batch['labels'].to(device)\n",
    "            attention_mask=batch['attention_mask'].to(device)\n",
    "            outs = model.generate(input_ids=input_ids,\n",
    "                      attention_mask=attention_mask,\n",
    "                      max_length=512,\n",
    "                      early_stopping=True)\n",
    "            outs = tokenizer.decode(outs[0])\n",
    "            outputs.extend(outs)\n",
    "    return outputs"
   ]
  },
  {
   "cell_type": "code",
   "execution_count": 80,
   "metadata": {
    "collapsed": false
   },
   "outputs": [
    {
     "name": "stderr",
     "output_type": "stream",
     "text": [
      "Evaluation : 100%|██████████| 257/257 [1:21:46<00:00, 19.09s/it]\n"
     ]
    },
    {
     "name": "stdout",
     "output_type": "stream",
     "text": [
      "{'exact_match': 99.51503394762366, 'f1': 37.63336566440349}\n"
     ]
    }
   ],
   "source": [
    "answers = overall_validation_predictions (valid_dataloader)\n",
    "references = []\n",
    "for ref in validation_dataset:\n",
    "    references.append(ref['output'])\n",
    "\n",
    "print(evaluate(references,answers))\n"
   ]
  },
  {
   "cell_type": "code",
   "execution_count": null,
   "metadata": {
    "collapsed": false
   },
   "outputs": [],
   "source": []
  }
 ],
 "metadata": {
  "accelerator": "GPU",
  "colab": {
   "gpuType": "T4",
   "provenance": []
  },
  "gpuClass": "standard",
  "kernelspec": {
   "display_name": "NLPS23",
   "language": "python",
   "name": "nlps23"
  },
  "language_info": {
   "codemirror_mode": {
    "name": "ipython",
    "version": 3
   },
   "file_extension": ".py",
   "mimetype": "text/x-python",
   "name": "python",
   "nbconvert_exporter": "python",
   "pygments_lexer": "ipython3",
   "version": "3.10.9"
  },
  "widgets": {
   "application/vnd.jupyter.widget-state+json": {
    "03df1245870043eb8e75883534ddb72b": {
     "model_module": "@jupyter-widgets/controls",
     "model_module_version": "1.5.0",
     "model_name": "DescriptionStyleModel",
     "state": {
      "_model_module": "@jupyter-widgets/controls",
      "_model_module_version": "1.5.0",
      "_model_name": "DescriptionStyleModel",
      "_view_count": null,
      "_view_module": "@jupyter-widgets/base",
      "_view_module_version": "1.2.0",
      "_view_name": "StyleView",
      "description_width": ""
     }
    },
    "05c4645d26dc4cfdaca7b79c0f620e51": {
     "model_module": "@jupyter-widgets/controls",
     "model_module_version": "1.5.0",
     "model_name": "DescriptionStyleModel",
     "state": {
      "_model_module": "@jupyter-widgets/controls",
      "_model_module_version": "1.5.0",
      "_model_name": "DescriptionStyleModel",
      "_view_count": null,
      "_view_module": "@jupyter-widgets/base",
      "_view_module_version": "1.2.0",
      "_view_name": "StyleView",
      "description_width": ""
     }
    },
    "065881c9cb3a4195ac18729af7852780": {
     "model_module": "@jupyter-widgets/base",
     "model_module_version": "1.2.0",
     "model_name": "LayoutModel",
     "state": {
      "_model_module": "@jupyter-widgets/base",
      "_model_module_version": "1.2.0",
      "_model_name": "LayoutModel",
      "_view_count": null,
      "_view_module": "@jupyter-widgets/base",
      "_view_module_version": "1.2.0",
      "_view_name": "LayoutView",
      "align_content": null,
      "align_items": null,
      "align_self": null,
      "border": null,
      "bottom": null,
      "display": null,
      "flex": null,
      "flex_flow": null,
      "grid_area": null,
      "grid_auto_columns": null,
      "grid_auto_flow": null,
      "grid_auto_rows": null,
      "grid_column": null,
      "grid_gap": null,
      "grid_row": null,
      "grid_template_areas": null,
      "grid_template_columns": null,
      "grid_template_rows": null,
      "height": null,
      "justify_content": null,
      "justify_items": null,
      "left": null,
      "margin": null,
      "max_height": null,
      "max_width": null,
      "min_height": null,
      "min_width": null,
      "object_fit": null,
      "object_position": null,
      "order": null,
      "overflow": null,
      "overflow_x": null,
      "overflow_y": null,
      "padding": null,
      "right": null,
      "top": null,
      "visibility": null,
      "width": null
     }
    },
    "07e593458638424baf1543d59018afad": {
     "model_module": "@jupyter-widgets/base",
     "model_module_version": "1.2.0",
     "model_name": "LayoutModel",
     "state": {
      "_model_module": "@jupyter-widgets/base",
      "_model_module_version": "1.2.0",
      "_model_name": "LayoutModel",
      "_view_count": null,
      "_view_module": "@jupyter-widgets/base",
      "_view_module_version": "1.2.0",
      "_view_name": "LayoutView",
      "align_content": null,
      "align_items": null,
      "align_self": null,
      "border": null,
      "bottom": null,
      "display": null,
      "flex": null,
      "flex_flow": null,
      "grid_area": null,
      "grid_auto_columns": null,
      "grid_auto_flow": null,
      "grid_auto_rows": null,
      "grid_column": null,
      "grid_gap": null,
      "grid_row": null,
      "grid_template_areas": null,
      "grid_template_columns": null,
      "grid_template_rows": null,
      "height": null,
      "justify_content": null,
      "justify_items": null,
      "left": null,
      "margin": null,
      "max_height": null,
      "max_width": null,
      "min_height": null,
      "min_width": null,
      "object_fit": null,
      "object_position": null,
      "order": null,
      "overflow": null,
      "overflow_x": null,
      "overflow_y": null,
      "padding": null,
      "right": null,
      "top": null,
      "visibility": null,
      "width": null
     }
    },
    "092d6fa4d085471583a83ae5801845d0": {
     "model_module": "@jupyter-widgets/base",
     "model_module_version": "1.2.0",
     "model_name": "LayoutModel",
     "state": {
      "_model_module": "@jupyter-widgets/base",
      "_model_module_version": "1.2.0",
      "_model_name": "LayoutModel",
      "_view_count": null,
      "_view_module": "@jupyter-widgets/base",
      "_view_module_version": "1.2.0",
      "_view_name": "LayoutView",
      "align_content": null,
      "align_items": null,
      "align_self": null,
      "border": null,
      "bottom": null,
      "display": null,
      "flex": null,
      "flex_flow": null,
      "grid_area": null,
      "grid_auto_columns": null,
      "grid_auto_flow": null,
      "grid_auto_rows": null,
      "grid_column": null,
      "grid_gap": null,
      "grid_row": null,
      "grid_template_areas": null,
      "grid_template_columns": null,
      "grid_template_rows": null,
      "height": null,
      "justify_content": null,
      "justify_items": null,
      "left": null,
      "margin": null,
      "max_height": null,
      "max_width": null,
      "min_height": null,
      "min_width": null,
      "object_fit": null,
      "object_position": null,
      "order": null,
      "overflow": null,
      "overflow_x": null,
      "overflow_y": null,
      "padding": null,
      "right": null,
      "top": null,
      "visibility": null,
      "width": null
     }
    },
    "095d45a94e904b798ff96e7badccff2b": {
     "model_module": "@jupyter-widgets/controls",
     "model_module_version": "1.5.0",
     "model_name": "HBoxModel",
     "state": {
      "_dom_classes": [],
      "_model_module": "@jupyter-widgets/controls",
      "_model_module_version": "1.5.0",
      "_model_name": "HBoxModel",
      "_view_count": null,
      "_view_module": "@jupyter-widgets/controls",
      "_view_module_version": "1.5.0",
      "_view_name": "HBoxView",
      "box_style": "",
      "children": [
       "IPY_MODEL_fc648d60dab44e078ac5ca6901bf9605",
       "IPY_MODEL_ef3f0bbb01ce440f962974f4cbf9e9bd",
       "IPY_MODEL_3472568dd0ef4cef9ba607e12de6ea5d"
      ],
      "layout": "IPY_MODEL_151c6bbb04c64c9e8a49b71ebc4add0e"
     }
    },
    "12bfaf87e6f440978120a65948b798d4": {
     "model_module": "@jupyter-widgets/controls",
     "model_module_version": "1.5.0",
     "model_name": "HTMLModel",
     "state": {
      "_dom_classes": [],
      "_model_module": "@jupyter-widgets/controls",
      "_model_module_version": "1.5.0",
      "_model_name": "HTMLModel",
      "_view_count": null,
      "_view_module": "@jupyter-widgets/controls",
      "_view_module_version": "1.5.0",
      "_view_name": "HTMLView",
      "description": "",
      "description_tooltip": null,
      "layout": "IPY_MODEL_1bd93d8535ce4f9da66a3ff0e16ef94b",
      "placeholder": "​",
      "style": "IPY_MODEL_2956c408e2cc4addbef11ca12b45a746",
      "value": " 1.39M/1.39M [00:00&lt;00:00, 5.48MB/s]"
     }
    },
    "13d73dfbe5844674ae8f099f37decfac": {
     "model_module": "@jupyter-widgets/base",
     "model_module_version": "1.2.0",
     "model_name": "LayoutModel",
     "state": {
      "_model_module": "@jupyter-widgets/base",
      "_model_module_version": "1.2.0",
      "_model_name": "LayoutModel",
      "_view_count": null,
      "_view_module": "@jupyter-widgets/base",
      "_view_module_version": "1.2.0",
      "_view_name": "LayoutView",
      "align_content": null,
      "align_items": null,
      "align_self": null,
      "border": null,
      "bottom": null,
      "display": null,
      "flex": null,
      "flex_flow": null,
      "grid_area": null,
      "grid_auto_columns": null,
      "grid_auto_flow": null,
      "grid_auto_rows": null,
      "grid_column": null,
      "grid_gap": null,
      "grid_row": null,
      "grid_template_areas": null,
      "grid_template_columns": null,
      "grid_template_rows": null,
      "height": null,
      "justify_content": null,
      "justify_items": null,
      "left": null,
      "margin": null,
      "max_height": null,
      "max_width": null,
      "min_height": null,
      "min_width": null,
      "object_fit": null,
      "object_position": null,
      "order": null,
      "overflow": null,
      "overflow_x": null,
      "overflow_y": null,
      "padding": null,
      "right": null,
      "top": null,
      "visibility": null,
      "width": null
     }
    },
    "151c6bbb04c64c9e8a49b71ebc4add0e": {
     "model_module": "@jupyter-widgets/base",
     "model_module_version": "1.2.0",
     "model_name": "LayoutModel",
     "state": {
      "_model_module": "@jupyter-widgets/base",
      "_model_module_version": "1.2.0",
      "_model_name": "LayoutModel",
      "_view_count": null,
      "_view_module": "@jupyter-widgets/base",
      "_view_module_version": "1.2.0",
      "_view_name": "LayoutView",
      "align_content": null,
      "align_items": null,
      "align_self": null,
      "border": null,
      "bottom": null,
      "display": null,
      "flex": null,
      "flex_flow": null,
      "grid_area": null,
      "grid_auto_columns": null,
      "grid_auto_flow": null,
      "grid_auto_rows": null,
      "grid_column": null,
      "grid_gap": null,
      "grid_row": null,
      "grid_template_areas": null,
      "grid_template_columns": null,
      "grid_template_rows": null,
      "height": null,
      "justify_content": null,
      "justify_items": null,
      "left": null,
      "margin": null,
      "max_height": null,
      "max_width": null,
      "min_height": null,
      "min_width": null,
      "object_fit": null,
      "object_position": null,
      "order": null,
      "overflow": null,
      "overflow_x": null,
      "overflow_y": null,
      "padding": null,
      "right": null,
      "top": null,
      "visibility": null,
      "width": null
     }
    },
    "1bd93d8535ce4f9da66a3ff0e16ef94b": {
     "model_module": "@jupyter-widgets/base",
     "model_module_version": "1.2.0",
     "model_name": "LayoutModel",
     "state": {
      "_model_module": "@jupyter-widgets/base",
      "_model_module_version": "1.2.0",
      "_model_name": "LayoutModel",
      "_view_count": null,
      "_view_module": "@jupyter-widgets/base",
      "_view_module_version": "1.2.0",
      "_view_name": "LayoutView",
      "align_content": null,
      "align_items": null,
      "align_self": null,
      "border": null,
      "bottom": null,
      "display": null,
      "flex": null,
      "flex_flow": null,
      "grid_area": null,
      "grid_auto_columns": null,
      "grid_auto_flow": null,
      "grid_auto_rows": null,
      "grid_column": null,
      "grid_gap": null,
      "grid_row": null,
      "grid_template_areas": null,
      "grid_template_columns": null,
      "grid_template_rows": null,
      "height": null,
      "justify_content": null,
      "justify_items": null,
      "left": null,
      "margin": null,
      "max_height": null,
      "max_width": null,
      "min_height": null,
      "min_width": null,
      "object_fit": null,
      "object_position": null,
      "order": null,
      "overflow": null,
      "overflow_x": null,
      "overflow_y": null,
      "padding": null,
      "right": null,
      "top": null,
      "visibility": null,
      "width": null
     }
    },
    "1f13b6665f4a418ab277b947457c14b0": {
     "model_module": "@jupyter-widgets/controls",
     "model_module_version": "1.5.0",
     "model_name": "DescriptionStyleModel",
     "state": {
      "_model_module": "@jupyter-widgets/controls",
      "_model_module_version": "1.5.0",
      "_model_name": "DescriptionStyleModel",
      "_view_count": null,
      "_view_module": "@jupyter-widgets/base",
      "_view_module_version": "1.2.0",
      "_view_name": "StyleView",
      "description_width": ""
     }
    },
    "24513d58acad4deb817af6a289906404": {
     "model_module": "@jupyter-widgets/controls",
     "model_module_version": "1.5.0",
     "model_name": "HTMLModel",
     "state": {
      "_dom_classes": [],
      "_model_module": "@jupyter-widgets/controls",
      "_model_module_version": "1.5.0",
      "_model_name": "HTMLModel",
      "_view_count": null,
      "_view_module": "@jupyter-widgets/controls",
      "_view_module_version": "1.5.0",
      "_view_name": "HTMLView",
      "description": "",
      "description_tooltip": null,
      "layout": "IPY_MODEL_85747c3fe1e542e4a841489191cb9f49",
      "placeholder": "​",
      "style": "IPY_MODEL_2bec35b053ad4134b0b4e43ddc923933",
      "value": " 792k/792k [00:00&lt;00:00, 944kB/s]"
     }
    },
    "2956c408e2cc4addbef11ca12b45a746": {
     "model_module": "@jupyter-widgets/controls",
     "model_module_version": "1.5.0",
     "model_name": "DescriptionStyleModel",
     "state": {
      "_model_module": "@jupyter-widgets/controls",
      "_model_module_version": "1.5.0",
      "_model_name": "DescriptionStyleModel",
      "_view_count": null,
      "_view_module": "@jupyter-widgets/base",
      "_view_module_version": "1.2.0",
      "_view_name": "StyleView",
      "description_width": ""
     }
    },
    "2ad9ca909b6f418aae41c3580325db8b": {
     "model_module": "@jupyter-widgets/base",
     "model_module_version": "1.2.0",
     "model_name": "LayoutModel",
     "state": {
      "_model_module": "@jupyter-widgets/base",
      "_model_module_version": "1.2.0",
      "_model_name": "LayoutModel",
      "_view_count": null,
      "_view_module": "@jupyter-widgets/base",
      "_view_module_version": "1.2.0",
      "_view_name": "LayoutView",
      "align_content": null,
      "align_items": null,
      "align_self": null,
      "border": null,
      "bottom": null,
      "display": null,
      "flex": null,
      "flex_flow": null,
      "grid_area": null,
      "grid_auto_columns": null,
      "grid_auto_flow": null,
      "grid_auto_rows": null,
      "grid_column": null,
      "grid_gap": null,
      "grid_row": null,
      "grid_template_areas": null,
      "grid_template_columns": null,
      "grid_template_rows": null,
      "height": null,
      "justify_content": null,
      "justify_items": null,
      "left": null,
      "margin": null,
      "max_height": null,
      "max_width": null,
      "min_height": null,
      "min_width": null,
      "object_fit": null,
      "object_position": null,
      "order": null,
      "overflow": null,
      "overflow_x": null,
      "overflow_y": null,
      "padding": null,
      "right": null,
      "top": null,
      "visibility": null,
      "width": null
     }
    },
    "2bec35b053ad4134b0b4e43ddc923933": {
     "model_module": "@jupyter-widgets/controls",
     "model_module_version": "1.5.0",
     "model_name": "DescriptionStyleModel",
     "state": {
      "_model_module": "@jupyter-widgets/controls",
      "_model_module_version": "1.5.0",
      "_model_name": "DescriptionStyleModel",
      "_view_count": null,
      "_view_module": "@jupyter-widgets/base",
      "_view_module_version": "1.2.0",
      "_view_name": "StyleView",
      "description_width": ""
     }
    },
    "3472568dd0ef4cef9ba607e12de6ea5d": {
     "model_module": "@jupyter-widgets/controls",
     "model_module_version": "1.5.0",
     "model_name": "HTMLModel",
     "state": {
      "_dom_classes": [],
      "_model_module": "@jupyter-widgets/controls",
      "_model_module_version": "1.5.0",
      "_model_name": "HTMLModel",
      "_view_count": null,
      "_view_module": "@jupyter-widgets/controls",
      "_view_module_version": "1.5.0",
      "_view_name": "HTMLView",
      "description": "",
      "description_tooltip": null,
      "layout": "IPY_MODEL_49c77ba817144d2aa40ee75031f31191",
      "placeholder": "​",
      "style": "IPY_MODEL_cfa83f222a8b4a0e8a09284315e4b281",
      "value": " 1.21k/1.21k [00:00&lt;00:00, 45.0kB/s]"
     }
    },
    "39e72cd82e8e4432b4ee0375d9a03f94": {
     "model_module": "@jupyter-widgets/controls",
     "model_module_version": "1.5.0",
     "model_name": "HTMLModel",
     "state": {
      "_dom_classes": [],
      "_model_module": "@jupyter-widgets/controls",
      "_model_module_version": "1.5.0",
      "_model_name": "HTMLModel",
      "_view_count": null,
      "_view_module": "@jupyter-widgets/controls",
      "_view_module_version": "1.5.0",
      "_view_name": "HTMLView",
      "description": "",
      "description_tooltip": null,
      "layout": "IPY_MODEL_91b0c5dff93b45d0800e1e72e2714af5",
      "placeholder": "​",
      "style": "IPY_MODEL_1f13b6665f4a418ab277b947457c14b0",
      "value": "Downloading (…)ve/main/spiece.model: 100%"
     }
    },
    "3fba2a27aaca4557b17ab9911adce596": {
     "model_module": "@jupyter-widgets/controls",
     "model_module_version": "1.5.0",
     "model_name": "DescriptionStyleModel",
     "state": {
      "_model_module": "@jupyter-widgets/controls",
      "_model_module_version": "1.5.0",
      "_model_name": "DescriptionStyleModel",
      "_view_count": null,
      "_view_module": "@jupyter-widgets/base",
      "_view_module_version": "1.2.0",
      "_view_name": "StyleView",
      "description_width": ""
     }
    },
    "434cf186868e48c1b1a5bedf5fa817bf": {
     "model_module": "@jupyter-widgets/controls",
     "model_module_version": "1.5.0",
     "model_name": "HBoxModel",
     "state": {
      "_dom_classes": [],
      "_model_module": "@jupyter-widgets/controls",
      "_model_module_version": "1.5.0",
      "_model_name": "HBoxModel",
      "_view_count": null,
      "_view_module": "@jupyter-widgets/controls",
      "_view_module_version": "1.5.0",
      "_view_name": "HBoxView",
      "box_style": "",
      "children": [
       "IPY_MODEL_8062cab760d94560ac17fd6496217f6c",
       "IPY_MODEL_46344e9fea25455395ae2c50c7c72e6a",
       "IPY_MODEL_12bfaf87e6f440978120a65948b798d4"
      ],
      "layout": "IPY_MODEL_2ad9ca909b6f418aae41c3580325db8b"
     }
    },
    "46344e9fea25455395ae2c50c7c72e6a": {
     "model_module": "@jupyter-widgets/controls",
     "model_module_version": "1.5.0",
     "model_name": "FloatProgressModel",
     "state": {
      "_dom_classes": [],
      "_model_module": "@jupyter-widgets/controls",
      "_model_module_version": "1.5.0",
      "_model_name": "FloatProgressModel",
      "_view_count": null,
      "_view_module": "@jupyter-widgets/controls",
      "_view_module_version": "1.5.0",
      "_view_name": "ProgressView",
      "bar_style": "success",
      "description": "",
      "description_tooltip": null,
      "layout": "IPY_MODEL_fe975a2e744a49418f0516e5569c0d0d",
      "max": 1389353,
      "min": 0,
      "orientation": "horizontal",
      "style": "IPY_MODEL_476e44a661fa4f87b50a65113752eca3",
      "value": 1389353
     }
    },
    "46bb79d9259c431eaf50b67625a768d1": {
     "model_module": "@jupyter-widgets/controls",
     "model_module_version": "1.5.0",
     "model_name": "HTMLModel",
     "state": {
      "_dom_classes": [],
      "_model_module": "@jupyter-widgets/controls",
      "_model_module_version": "1.5.0",
      "_model_name": "HTMLModel",
      "_view_count": null,
      "_view_module": "@jupyter-widgets/controls",
      "_view_module_version": "1.5.0",
      "_view_name": "HTMLView",
      "description": "",
      "description_tooltip": null,
      "layout": "IPY_MODEL_dde05cf3e6b34e66a70e3e79b5b11e10",
      "placeholder": "​",
      "style": "IPY_MODEL_e550ab839d904ab897e094ce0ef0f84e",
      "value": " 2.32k/2.32k [00:00&lt;00:00, 153kB/s]"
     }
    },
    "476e44a661fa4f87b50a65113752eca3": {
     "model_module": "@jupyter-widgets/controls",
     "model_module_version": "1.5.0",
     "model_name": "ProgressStyleModel",
     "state": {
      "_model_module": "@jupyter-widgets/controls",
      "_model_module_version": "1.5.0",
      "_model_name": "ProgressStyleModel",
      "_view_count": null,
      "_view_module": "@jupyter-widgets/base",
      "_view_module_version": "1.2.0",
      "_view_name": "StyleView",
      "bar_color": null,
      "description_width": ""
     }
    },
    "49c77ba817144d2aa40ee75031f31191": {
     "model_module": "@jupyter-widgets/base",
     "model_module_version": "1.2.0",
     "model_name": "LayoutModel",
     "state": {
      "_model_module": "@jupyter-widgets/base",
      "_model_module_version": "1.2.0",
      "_model_name": "LayoutModel",
      "_view_count": null,
      "_view_module": "@jupyter-widgets/base",
      "_view_module_version": "1.2.0",
      "_view_name": "LayoutView",
      "align_content": null,
      "align_items": null,
      "align_self": null,
      "border": null,
      "bottom": null,
      "display": null,
      "flex": null,
      "flex_flow": null,
      "grid_area": null,
      "grid_auto_columns": null,
      "grid_auto_flow": null,
      "grid_auto_rows": null,
      "grid_column": null,
      "grid_gap": null,
      "grid_row": null,
      "grid_template_areas": null,
      "grid_template_columns": null,
      "grid_template_rows": null,
      "height": null,
      "justify_content": null,
      "justify_items": null,
      "left": null,
      "margin": null,
      "max_height": null,
      "max_width": null,
      "min_height": null,
      "min_width": null,
      "object_fit": null,
      "object_position": null,
      "order": null,
      "overflow": null,
      "overflow_x": null,
      "overflow_y": null,
      "padding": null,
      "right": null,
      "top": null,
      "visibility": null,
      "width": null
     }
    },
    "4b46066fefde44368949ae2840dedff6": {
     "model_module": "@jupyter-widgets/base",
     "model_module_version": "1.2.0",
     "model_name": "LayoutModel",
     "state": {
      "_model_module": "@jupyter-widgets/base",
      "_model_module_version": "1.2.0",
      "_model_name": "LayoutModel",
      "_view_count": null,
      "_view_module": "@jupyter-widgets/base",
      "_view_module_version": "1.2.0",
      "_view_name": "LayoutView",
      "align_content": null,
      "align_items": null,
      "align_self": null,
      "border": null,
      "bottom": null,
      "display": null,
      "flex": null,
      "flex_flow": null,
      "grid_area": null,
      "grid_auto_columns": null,
      "grid_auto_flow": null,
      "grid_auto_rows": null,
      "grid_column": null,
      "grid_gap": null,
      "grid_row": null,
      "grid_template_areas": null,
      "grid_template_columns": null,
      "grid_template_rows": null,
      "height": null,
      "justify_content": null,
      "justify_items": null,
      "left": null,
      "margin": null,
      "max_height": null,
      "max_width": null,
      "min_height": null,
      "min_width": null,
      "object_fit": null,
      "object_position": null,
      "order": null,
      "overflow": null,
      "overflow_x": null,
      "overflow_y": null,
      "padding": null,
      "right": null,
      "top": null,
      "visibility": null,
      "width": null
     }
    },
    "5b8f536035174ca2b42d4405997bde03": {
     "model_module": "@jupyter-widgets/controls",
     "model_module_version": "1.5.0",
     "model_name": "HBoxModel",
     "state": {
      "_dom_classes": [],
      "_model_module": "@jupyter-widgets/controls",
      "_model_module_version": "1.5.0",
      "_model_name": "HBoxModel",
      "_view_count": null,
      "_view_module": "@jupyter-widgets/controls",
      "_view_module_version": "1.5.0",
      "_view_name": "HBoxView",
      "box_style": "",
      "children": [
       "IPY_MODEL_39e72cd82e8e4432b4ee0375d9a03f94",
       "IPY_MODEL_d4f9418e266646b8a1d02d101c71a517",
       "IPY_MODEL_24513d58acad4deb817af6a289906404"
      ],
      "layout": "IPY_MODEL_f3057993999843608dbcf1a8deda9329"
     }
    },
    "5ec9ab1107af49dc891e508878346e04": {
     "model_module": "@jupyter-widgets/base",
     "model_module_version": "1.2.0",
     "model_name": "LayoutModel",
     "state": {
      "_model_module": "@jupyter-widgets/base",
      "_model_module_version": "1.2.0",
      "_model_name": "LayoutModel",
      "_view_count": null,
      "_view_module": "@jupyter-widgets/base",
      "_view_module_version": "1.2.0",
      "_view_name": "LayoutView",
      "align_content": null,
      "align_items": null,
      "align_self": null,
      "border": null,
      "bottom": null,
      "display": null,
      "flex": null,
      "flex_flow": null,
      "grid_area": null,
      "grid_auto_columns": null,
      "grid_auto_flow": null,
      "grid_auto_rows": null,
      "grid_column": null,
      "grid_gap": null,
      "grid_row": null,
      "grid_template_areas": null,
      "grid_template_columns": null,
      "grid_template_rows": null,
      "height": null,
      "justify_content": null,
      "justify_items": null,
      "left": null,
      "margin": null,
      "max_height": null,
      "max_width": null,
      "min_height": null,
      "min_width": null,
      "object_fit": null,
      "object_position": null,
      "order": null,
      "overflow": null,
      "overflow_x": null,
      "overflow_y": null,
      "padding": null,
      "right": null,
      "top": null,
      "visibility": null,
      "width": null
     }
    },
    "69a0496d95574e3f8e7d765f4b37e672": {
     "model_module": "@jupyter-widgets/controls",
     "model_module_version": "1.5.0",
     "model_name": "HTMLModel",
     "state": {
      "_dom_classes": [],
      "_model_module": "@jupyter-widgets/controls",
      "_model_module_version": "1.5.0",
      "_model_name": "HTMLModel",
      "_view_count": null,
      "_view_module": "@jupyter-widgets/controls",
      "_view_module_version": "1.5.0",
      "_view_name": "HTMLView",
      "description": "",
      "description_tooltip": null,
      "layout": "IPY_MODEL_b38194d90beb4ee3bae2cf14d90452ce",
      "placeholder": "​",
      "style": "IPY_MODEL_03df1245870043eb8e75883534ddb72b",
      "value": "Downloading (…)ve/main/spiece.model: 100%"
     }
    },
    "72099bf6bb3041b392eeb07a8e52473d": {
     "model_module": "@jupyter-widgets/base",
     "model_module_version": "1.2.0",
     "model_name": "LayoutModel",
     "state": {
      "_model_module": "@jupyter-widgets/base",
      "_model_module_version": "1.2.0",
      "_model_name": "LayoutModel",
      "_view_count": null,
      "_view_module": "@jupyter-widgets/base",
      "_view_module_version": "1.2.0",
      "_view_name": "LayoutView",
      "align_content": null,
      "align_items": null,
      "align_self": null,
      "border": null,
      "bottom": null,
      "display": null,
      "flex": null,
      "flex_flow": null,
      "grid_area": null,
      "grid_auto_columns": null,
      "grid_auto_flow": null,
      "grid_auto_rows": null,
      "grid_column": null,
      "grid_gap": null,
      "grid_row": null,
      "grid_template_areas": null,
      "grid_template_columns": null,
      "grid_template_rows": null,
      "height": null,
      "justify_content": null,
      "justify_items": null,
      "left": null,
      "margin": null,
      "max_height": null,
      "max_width": null,
      "min_height": null,
      "min_width": null,
      "object_fit": null,
      "object_position": null,
      "order": null,
      "overflow": null,
      "overflow_x": null,
      "overflow_y": null,
      "padding": null,
      "right": null,
      "top": null,
      "visibility": null,
      "width": null
     }
    },
    "7284a03283f041358336ce85e386d680": {
     "model_module": "@jupyter-widgets/controls",
     "model_module_version": "1.5.0",
     "model_name": "FloatProgressModel",
     "state": {
      "_dom_classes": [],
      "_model_module": "@jupyter-widgets/controls",
      "_model_module_version": "1.5.0",
      "_model_name": "FloatProgressModel",
      "_view_count": null,
      "_view_module": "@jupyter-widgets/controls",
      "_view_module_version": "1.5.0",
      "_view_name": "ProgressView",
      "bar_style": "success",
      "description": "",
      "description_tooltip": null,
      "layout": "IPY_MODEL_065881c9cb3a4195ac18729af7852780",
      "max": 791656,
      "min": 0,
      "orientation": "horizontal",
      "style": "IPY_MODEL_e419241566194bd9a6eddfad07a24fb0",
      "value": 791656
     }
    },
    "7e8da77576264e4d87814ddbeeed496b": {
     "model_module": "@jupyter-widgets/base",
     "model_module_version": "1.2.0",
     "model_name": "LayoutModel",
     "state": {
      "_model_module": "@jupyter-widgets/base",
      "_model_module_version": "1.2.0",
      "_model_name": "LayoutModel",
      "_view_count": null,
      "_view_module": "@jupyter-widgets/base",
      "_view_module_version": "1.2.0",
      "_view_name": "LayoutView",
      "align_content": null,
      "align_items": null,
      "align_self": null,
      "border": null,
      "bottom": null,
      "display": null,
      "flex": null,
      "flex_flow": null,
      "grid_area": null,
      "grid_auto_columns": null,
      "grid_auto_flow": null,
      "grid_auto_rows": null,
      "grid_column": null,
      "grid_gap": null,
      "grid_row": null,
      "grid_template_areas": null,
      "grid_template_columns": null,
      "grid_template_rows": null,
      "height": null,
      "justify_content": null,
      "justify_items": null,
      "left": null,
      "margin": null,
      "max_height": null,
      "max_width": null,
      "min_height": null,
      "min_width": null,
      "object_fit": null,
      "object_position": null,
      "order": null,
      "overflow": null,
      "overflow_x": null,
      "overflow_y": null,
      "padding": null,
      "right": null,
      "top": null,
      "visibility": null,
      "width": null
     }
    },
    "8062cab760d94560ac17fd6496217f6c": {
     "model_module": "@jupyter-widgets/controls",
     "model_module_version": "1.5.0",
     "model_name": "HTMLModel",
     "state": {
      "_dom_classes": [],
      "_model_module": "@jupyter-widgets/controls",
      "_model_module_version": "1.5.0",
      "_model_name": "HTMLModel",
      "_view_count": null,
      "_view_module": "@jupyter-widgets/controls",
      "_view_module_version": "1.5.0",
      "_view_name": "HTMLView",
      "description": "",
      "description_tooltip": null,
      "layout": "IPY_MODEL_092d6fa4d085471583a83ae5801845d0",
      "placeholder": "​",
      "style": "IPY_MODEL_3fba2a27aaca4557b17ab9911adce596",
      "value": "Downloading (…)/main/tokenizer.json: 100%"
     }
    },
    "85747c3fe1e542e4a841489191cb9f49": {
     "model_module": "@jupyter-widgets/base",
     "model_module_version": "1.2.0",
     "model_name": "LayoutModel",
     "state": {
      "_model_module": "@jupyter-widgets/base",
      "_model_module_version": "1.2.0",
      "_model_name": "LayoutModel",
      "_view_count": null,
      "_view_module": "@jupyter-widgets/base",
      "_view_module_version": "1.2.0",
      "_view_name": "LayoutView",
      "align_content": null,
      "align_items": null,
      "align_self": null,
      "border": null,
      "bottom": null,
      "display": null,
      "flex": null,
      "flex_flow": null,
      "grid_area": null,
      "grid_auto_columns": null,
      "grid_auto_flow": null,
      "grid_auto_rows": null,
      "grid_column": null,
      "grid_gap": null,
      "grid_row": null,
      "grid_template_areas": null,
      "grid_template_columns": null,
      "grid_template_rows": null,
      "height": null,
      "justify_content": null,
      "justify_items": null,
      "left": null,
      "margin": null,
      "max_height": null,
      "max_width": null,
      "min_height": null,
      "min_width": null,
      "object_fit": null,
      "object_position": null,
      "order": null,
      "overflow": null,
      "overflow_x": null,
      "overflow_y": null,
      "padding": null,
      "right": null,
      "top": null,
      "visibility": null,
      "width": null
     }
    },
    "91b0c5dff93b45d0800e1e72e2714af5": {
     "model_module": "@jupyter-widgets/base",
     "model_module_version": "1.2.0",
     "model_name": "LayoutModel",
     "state": {
      "_model_module": "@jupyter-widgets/base",
      "_model_module_version": "1.2.0",
      "_model_name": "LayoutModel",
      "_view_count": null,
      "_view_module": "@jupyter-widgets/base",
      "_view_module_version": "1.2.0",
      "_view_name": "LayoutView",
      "align_content": null,
      "align_items": null,
      "align_self": null,
      "border": null,
      "bottom": null,
      "display": null,
      "flex": null,
      "flex_flow": null,
      "grid_area": null,
      "grid_auto_columns": null,
      "grid_auto_flow": null,
      "grid_auto_rows": null,
      "grid_column": null,
      "grid_gap": null,
      "grid_row": null,
      "grid_template_areas": null,
      "grid_template_columns": null,
      "grid_template_rows": null,
      "height": null,
      "justify_content": null,
      "justify_items": null,
      "left": null,
      "margin": null,
      "max_height": null,
      "max_width": null,
      "min_height": null,
      "min_width": null,
      "object_fit": null,
      "object_position": null,
      "order": null,
      "overflow": null,
      "overflow_x": null,
      "overflow_y": null,
      "padding": null,
      "right": null,
      "top": null,
      "visibility": null,
      "width": null
     }
    },
    "b38194d90beb4ee3bae2cf14d90452ce": {
     "model_module": "@jupyter-widgets/base",
     "model_module_version": "1.2.0",
     "model_name": "LayoutModel",
     "state": {
      "_model_module": "@jupyter-widgets/base",
      "_model_module_version": "1.2.0",
      "_model_name": "LayoutModel",
      "_view_count": null,
      "_view_module": "@jupyter-widgets/base",
      "_view_module_version": "1.2.0",
      "_view_name": "LayoutView",
      "align_content": null,
      "align_items": null,
      "align_self": null,
      "border": null,
      "bottom": null,
      "display": null,
      "flex": null,
      "flex_flow": null,
      "grid_area": null,
      "grid_auto_columns": null,
      "grid_auto_flow": null,
      "grid_auto_rows": null,
      "grid_column": null,
      "grid_gap": null,
      "grid_row": null,
      "grid_template_areas": null,
      "grid_template_columns": null,
      "grid_template_rows": null,
      "height": null,
      "justify_content": null,
      "justify_items": null,
      "left": null,
      "margin": null,
      "max_height": null,
      "max_width": null,
      "min_height": null,
      "min_width": null,
      "object_fit": null,
      "object_position": null,
      "order": null,
      "overflow": null,
      "overflow_x": null,
      "overflow_y": null,
      "padding": null,
      "right": null,
      "top": null,
      "visibility": null,
      "width": null
     }
    },
    "b6a96bb353754700ac64c4758db3b717": {
     "model_module": "@jupyter-widgets/controls",
     "model_module_version": "1.5.0",
     "model_name": "HTMLModel",
     "state": {
      "_dom_classes": [],
      "_model_module": "@jupyter-widgets/controls",
      "_model_module_version": "1.5.0",
      "_model_name": "HTMLModel",
      "_view_count": null,
      "_view_module": "@jupyter-widgets/controls",
      "_view_module_version": "1.5.0",
      "_view_name": "HTMLView",
      "description": "",
      "description_tooltip": null,
      "layout": "IPY_MODEL_4b46066fefde44368949ae2840dedff6",
      "placeholder": "​",
      "style": "IPY_MODEL_05c4645d26dc4cfdaca7b79c0f620e51",
      "value": " 792k/792k [00:00&lt;00:00, 943kB/s]"
     }
    },
    "c7d2ae22a1f446319d9a71eb10b24b7e": {
     "model_module": "@jupyter-widgets/controls",
     "model_module_version": "1.5.0",
     "model_name": "DescriptionStyleModel",
     "state": {
      "_model_module": "@jupyter-widgets/controls",
      "_model_module_version": "1.5.0",
      "_model_name": "DescriptionStyleModel",
      "_view_count": null,
      "_view_module": "@jupyter-widgets/base",
      "_view_module_version": "1.2.0",
      "_view_name": "StyleView",
      "description_width": ""
     }
    },
    "cdfe43ae06c14018a8cef16e36efdf41": {
     "model_module": "@jupyter-widgets/controls",
     "model_module_version": "1.5.0",
     "model_name": "HTMLModel",
     "state": {
      "_dom_classes": [],
      "_model_module": "@jupyter-widgets/controls",
      "_model_module_version": "1.5.0",
      "_model_name": "HTMLModel",
      "_view_count": null,
      "_view_module": "@jupyter-widgets/controls",
      "_view_module_version": "1.5.0",
      "_view_name": "HTMLView",
      "description": "",
      "description_tooltip": null,
      "layout": "IPY_MODEL_7e8da77576264e4d87814ddbeeed496b",
      "placeholder": "​",
      "style": "IPY_MODEL_fc5c25e7409e46f78afc1908294be393",
      "value": "Downloading (…)okenizer_config.json: 100%"
     }
    },
    "cfa83f222a8b4a0e8a09284315e4b281": {
     "model_module": "@jupyter-widgets/controls",
     "model_module_version": "1.5.0",
     "model_name": "DescriptionStyleModel",
     "state": {
      "_model_module": "@jupyter-widgets/controls",
      "_model_module_version": "1.5.0",
      "_model_name": "DescriptionStyleModel",
      "_view_count": null,
      "_view_module": "@jupyter-widgets/base",
      "_view_module_version": "1.2.0",
      "_view_name": "StyleView",
      "description_width": ""
     }
    },
    "d4f9418e266646b8a1d02d101c71a517": {
     "model_module": "@jupyter-widgets/controls",
     "model_module_version": "1.5.0",
     "model_name": "FloatProgressModel",
     "state": {
      "_dom_classes": [],
      "_model_module": "@jupyter-widgets/controls",
      "_model_module_version": "1.5.0",
      "_model_name": "FloatProgressModel",
      "_view_count": null,
      "_view_module": "@jupyter-widgets/controls",
      "_view_module_version": "1.5.0",
      "_view_name": "ProgressView",
      "bar_style": "success",
      "description": "",
      "description_tooltip": null,
      "layout": "IPY_MODEL_5ec9ab1107af49dc891e508878346e04",
      "max": 791656,
      "min": 0,
      "orientation": "horizontal",
      "style": "IPY_MODEL_eac07a31f24043a6a42691b4cff71aee",
      "value": 791656
     }
    },
    "dde05cf3e6b34e66a70e3e79b5b11e10": {
     "model_module": "@jupyter-widgets/base",
     "model_module_version": "1.2.0",
     "model_name": "LayoutModel",
     "state": {
      "_model_module": "@jupyter-widgets/base",
      "_model_module_version": "1.2.0",
      "_model_name": "LayoutModel",
      "_view_count": null,
      "_view_module": "@jupyter-widgets/base",
      "_view_module_version": "1.2.0",
      "_view_name": "LayoutView",
      "align_content": null,
      "align_items": null,
      "align_self": null,
      "border": null,
      "bottom": null,
      "display": null,
      "flex": null,
      "flex_flow": null,
      "grid_area": null,
      "grid_auto_columns": null,
      "grid_auto_flow": null,
      "grid_auto_rows": null,
      "grid_column": null,
      "grid_gap": null,
      "grid_row": null,
      "grid_template_areas": null,
      "grid_template_columns": null,
      "grid_template_rows": null,
      "height": null,
      "justify_content": null,
      "justify_items": null,
      "left": null,
      "margin": null,
      "max_height": null,
      "max_width": null,
      "min_height": null,
      "min_width": null,
      "object_fit": null,
      "object_position": null,
      "order": null,
      "overflow": null,
      "overflow_x": null,
      "overflow_y": null,
      "padding": null,
      "right": null,
      "top": null,
      "visibility": null,
      "width": null
     }
    },
    "e419241566194bd9a6eddfad07a24fb0": {
     "model_module": "@jupyter-widgets/controls",
     "model_module_version": "1.5.0",
     "model_name": "ProgressStyleModel",
     "state": {
      "_model_module": "@jupyter-widgets/controls",
      "_model_module_version": "1.5.0",
      "_model_name": "ProgressStyleModel",
      "_view_count": null,
      "_view_module": "@jupyter-widgets/base",
      "_view_module_version": "1.2.0",
      "_view_name": "StyleView",
      "bar_color": null,
      "description_width": ""
     }
    },
    "e550ab839d904ab897e094ce0ef0f84e": {
     "model_module": "@jupyter-widgets/controls",
     "model_module_version": "1.5.0",
     "model_name": "DescriptionStyleModel",
     "state": {
      "_model_module": "@jupyter-widgets/controls",
      "_model_module_version": "1.5.0",
      "_model_name": "DescriptionStyleModel",
      "_view_count": null,
      "_view_module": "@jupyter-widgets/base",
      "_view_module_version": "1.2.0",
      "_view_name": "StyleView",
      "description_width": ""
     }
    },
    "e6f88607a87649d59743e9ac26443742": {
     "model_module": "@jupyter-widgets/base",
     "model_module_version": "1.2.0",
     "model_name": "LayoutModel",
     "state": {
      "_model_module": "@jupyter-widgets/base",
      "_model_module_version": "1.2.0",
      "_model_name": "LayoutModel",
      "_view_count": null,
      "_view_module": "@jupyter-widgets/base",
      "_view_module_version": "1.2.0",
      "_view_name": "LayoutView",
      "align_content": null,
      "align_items": null,
      "align_self": null,
      "border": null,
      "bottom": null,
      "display": null,
      "flex": null,
      "flex_flow": null,
      "grid_area": null,
      "grid_auto_columns": null,
      "grid_auto_flow": null,
      "grid_auto_rows": null,
      "grid_column": null,
      "grid_gap": null,
      "grid_row": null,
      "grid_template_areas": null,
      "grid_template_columns": null,
      "grid_template_rows": null,
      "height": null,
      "justify_content": null,
      "justify_items": null,
      "left": null,
      "margin": null,
      "max_height": null,
      "max_width": null,
      "min_height": null,
      "min_width": null,
      "object_fit": null,
      "object_position": null,
      "order": null,
      "overflow": null,
      "overflow_x": null,
      "overflow_y": null,
      "padding": null,
      "right": null,
      "top": null,
      "visibility": null,
      "width": null
     }
    },
    "e764fa1cae4841d0a4a84b930de88047": {
     "model_module": "@jupyter-widgets/base",
     "model_module_version": "1.2.0",
     "model_name": "LayoutModel",
     "state": {
      "_model_module": "@jupyter-widgets/base",
      "_model_module_version": "1.2.0",
      "_model_name": "LayoutModel",
      "_view_count": null,
      "_view_module": "@jupyter-widgets/base",
      "_view_module_version": "1.2.0",
      "_view_name": "LayoutView",
      "align_content": null,
      "align_items": null,
      "align_self": null,
      "border": null,
      "bottom": null,
      "display": null,
      "flex": null,
      "flex_flow": null,
      "grid_area": null,
      "grid_auto_columns": null,
      "grid_auto_flow": null,
      "grid_auto_rows": null,
      "grid_column": null,
      "grid_gap": null,
      "grid_row": null,
      "grid_template_areas": null,
      "grid_template_columns": null,
      "grid_template_rows": null,
      "height": null,
      "justify_content": null,
      "justify_items": null,
      "left": null,
      "margin": null,
      "max_height": null,
      "max_width": null,
      "min_height": null,
      "min_width": null,
      "object_fit": null,
      "object_position": null,
      "order": null,
      "overflow": null,
      "overflow_x": null,
      "overflow_y": null,
      "padding": null,
      "right": null,
      "top": null,
      "visibility": null,
      "width": null
     }
    },
    "ea3d7d790cd24fe08f6cae4973f1170e": {
     "model_module": "@jupyter-widgets/controls",
     "model_module_version": "1.5.0",
     "model_name": "ProgressStyleModel",
     "state": {
      "_model_module": "@jupyter-widgets/controls",
      "_model_module_version": "1.5.0",
      "_model_name": "ProgressStyleModel",
      "_view_count": null,
      "_view_module": "@jupyter-widgets/base",
      "_view_module_version": "1.2.0",
      "_view_name": "StyleView",
      "bar_color": null,
      "description_width": ""
     }
    },
    "eac07a31f24043a6a42691b4cff71aee": {
     "model_module": "@jupyter-widgets/controls",
     "model_module_version": "1.5.0",
     "model_name": "ProgressStyleModel",
     "state": {
      "_model_module": "@jupyter-widgets/controls",
      "_model_module_version": "1.5.0",
      "_model_name": "ProgressStyleModel",
      "_view_count": null,
      "_view_module": "@jupyter-widgets/base",
      "_view_module_version": "1.2.0",
      "_view_name": "StyleView",
      "bar_color": null,
      "description_width": ""
     }
    },
    "eb8dfe1c15964dcaa62d3f1447cc31e2": {
     "model_module": "@jupyter-widgets/controls",
     "model_module_version": "1.5.0",
     "model_name": "HBoxModel",
     "state": {
      "_dom_classes": [],
      "_model_module": "@jupyter-widgets/controls",
      "_model_module_version": "1.5.0",
      "_model_name": "HBoxModel",
      "_view_count": null,
      "_view_module": "@jupyter-widgets/controls",
      "_view_module_version": "1.5.0",
      "_view_name": "HBoxView",
      "box_style": "",
      "children": [
       "IPY_MODEL_69a0496d95574e3f8e7d765f4b37e672",
       "IPY_MODEL_7284a03283f041358336ce85e386d680",
       "IPY_MODEL_b6a96bb353754700ac64c4758db3b717"
      ],
      "layout": "IPY_MODEL_72099bf6bb3041b392eeb07a8e52473d"
     }
    },
    "edb8cf3c70734ed7ade8c723ad21db68": {
     "model_module": "@jupyter-widgets/controls",
     "model_module_version": "1.5.0",
     "model_name": "FloatProgressModel",
     "state": {
      "_dom_classes": [],
      "_model_module": "@jupyter-widgets/controls",
      "_model_module_version": "1.5.0",
      "_model_name": "FloatProgressModel",
      "_view_count": null,
      "_view_module": "@jupyter-widgets/controls",
      "_view_module_version": "1.5.0",
      "_view_name": "ProgressView",
      "bar_style": "success",
      "description": "",
      "description_tooltip": null,
      "layout": "IPY_MODEL_e764fa1cae4841d0a4a84b930de88047",
      "max": 2324,
      "min": 0,
      "orientation": "horizontal",
      "style": "IPY_MODEL_ea3d7d790cd24fe08f6cae4973f1170e",
      "value": 2324
     }
    },
    "edbded8f6954434fa75c7d12069203e8": {
     "model_module": "@jupyter-widgets/controls",
     "model_module_version": "1.5.0",
     "model_name": "ProgressStyleModel",
     "state": {
      "_model_module": "@jupyter-widgets/controls",
      "_model_module_version": "1.5.0",
      "_model_name": "ProgressStyleModel",
      "_view_count": null,
      "_view_module": "@jupyter-widgets/base",
      "_view_module_version": "1.2.0",
      "_view_name": "StyleView",
      "bar_color": null,
      "description_width": ""
     }
    },
    "ef3f0bbb01ce440f962974f4cbf9e9bd": {
     "model_module": "@jupyter-widgets/controls",
     "model_module_version": "1.5.0",
     "model_name": "FloatProgressModel",
     "state": {
      "_dom_classes": [],
      "_model_module": "@jupyter-widgets/controls",
      "_model_module_version": "1.5.0",
      "_model_name": "FloatProgressModel",
      "_view_count": null,
      "_view_module": "@jupyter-widgets/controls",
      "_view_module_version": "1.5.0",
      "_view_name": "ProgressView",
      "bar_style": "success",
      "description": "",
      "description_tooltip": null,
      "layout": "IPY_MODEL_07e593458638424baf1543d59018afad",
      "max": 1208,
      "min": 0,
      "orientation": "horizontal",
      "style": "IPY_MODEL_edbded8f6954434fa75c7d12069203e8",
      "value": 1208
     }
    },
    "f3057993999843608dbcf1a8deda9329": {
     "model_module": "@jupyter-widgets/base",
     "model_module_version": "1.2.0",
     "model_name": "LayoutModel",
     "state": {
      "_model_module": "@jupyter-widgets/base",
      "_model_module_version": "1.2.0",
      "_model_name": "LayoutModel",
      "_view_count": null,
      "_view_module": "@jupyter-widgets/base",
      "_view_module_version": "1.2.0",
      "_view_name": "LayoutView",
      "align_content": null,
      "align_items": null,
      "align_self": null,
      "border": null,
      "bottom": null,
      "display": null,
      "flex": null,
      "flex_flow": null,
      "grid_area": null,
      "grid_auto_columns": null,
      "grid_auto_flow": null,
      "grid_auto_rows": null,
      "grid_column": null,
      "grid_gap": null,
      "grid_row": null,
      "grid_template_areas": null,
      "grid_template_columns": null,
      "grid_template_rows": null,
      "height": null,
      "justify_content": null,
      "justify_items": null,
      "left": null,
      "margin": null,
      "max_height": null,
      "max_width": null,
      "min_height": null,
      "min_width": null,
      "object_fit": null,
      "object_position": null,
      "order": null,
      "overflow": null,
      "overflow_x": null,
      "overflow_y": null,
      "padding": null,
      "right": null,
      "top": null,
      "visibility": null,
      "width": null
     }
    },
    "fc5c25e7409e46f78afc1908294be393": {
     "model_module": "@jupyter-widgets/controls",
     "model_module_version": "1.5.0",
     "model_name": "DescriptionStyleModel",
     "state": {
      "_model_module": "@jupyter-widgets/controls",
      "_model_module_version": "1.5.0",
      "_model_name": "DescriptionStyleModel",
      "_view_count": null,
      "_view_module": "@jupyter-widgets/base",
      "_view_module_version": "1.2.0",
      "_view_name": "StyleView",
      "description_width": ""
     }
    },
    "fc648d60dab44e078ac5ca6901bf9605": {
     "model_module": "@jupyter-widgets/controls",
     "model_module_version": "1.5.0",
     "model_name": "HTMLModel",
     "state": {
      "_dom_classes": [],
      "_model_module": "@jupyter-widgets/controls",
      "_model_module_version": "1.5.0",
      "_model_name": "HTMLModel",
      "_view_count": null,
      "_view_module": "@jupyter-widgets/controls",
      "_view_module_version": "1.5.0",
      "_view_name": "HTMLView",
      "description": "",
      "description_tooltip": null,
      "layout": "IPY_MODEL_13d73dfbe5844674ae8f099f37decfac",
      "placeholder": "​",
      "style": "IPY_MODEL_c7d2ae22a1f446319d9a71eb10b24b7e",
      "value": "Downloading (…)lve/main/config.json: 100%"
     }
    },
    "fe975a2e744a49418f0516e5569c0d0d": {
     "model_module": "@jupyter-widgets/base",
     "model_module_version": "1.2.0",
     "model_name": "LayoutModel",
     "state": {
      "_model_module": "@jupyter-widgets/base",
      "_model_module_version": "1.2.0",
      "_model_name": "LayoutModel",
      "_view_count": null,
      "_view_module": "@jupyter-widgets/base",
      "_view_module_version": "1.2.0",
      "_view_name": "LayoutView",
      "align_content": null,
      "align_items": null,
      "align_self": null,
      "border": null,
      "bottom": null,
      "display": null,
      "flex": null,
      "flex_flow": null,
      "grid_area": null,
      "grid_auto_columns": null,
      "grid_auto_flow": null,
      "grid_auto_rows": null,
      "grid_column": null,
      "grid_gap": null,
      "grid_row": null,
      "grid_template_areas": null,
      "grid_template_columns": null,
      "grid_template_rows": null,
      "height": null,
      "justify_content": null,
      "justify_items": null,
      "left": null,
      "margin": null,
      "max_height": null,
      "max_width": null,
      "min_height": null,
      "min_width": null,
      "object_fit": null,
      "object_position": null,
      "order": null,
      "overflow": null,
      "overflow_x": null,
      "overflow_y": null,
      "padding": null,
      "right": null,
      "top": null,
      "visibility": null,
      "width": null
     }
    },
    "ffc8a9cd396e4af7aecf40916dd9217b": {
     "model_module": "@jupyter-widgets/controls",
     "model_module_version": "1.5.0",
     "model_name": "HBoxModel",
     "state": {
      "_dom_classes": [],
      "_model_module": "@jupyter-widgets/controls",
      "_model_module_version": "1.5.0",
      "_model_name": "HBoxModel",
      "_view_count": null,
      "_view_module": "@jupyter-widgets/controls",
      "_view_module_version": "1.5.0",
      "_view_name": "HBoxView",
      "box_style": "",
      "children": [
       "IPY_MODEL_cdfe43ae06c14018a8cef16e36efdf41",
       "IPY_MODEL_edb8cf3c70734ed7ade8c723ad21db68",
       "IPY_MODEL_46bb79d9259c431eaf50b67625a768d1"
      ],
      "layout": "IPY_MODEL_e6f88607a87649d59743e9ac26443742"
     }
    }
   }
  }
 },
 "nbformat": 4,
 "nbformat_minor": 0
}
